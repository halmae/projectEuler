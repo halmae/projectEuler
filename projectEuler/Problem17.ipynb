{
 "cells": [
  {
   "cell_type": "markdown",
   "id": "03695b05",
   "metadata": {},
   "source": [
    "If the numbers $1$ to $5$ are written out in words: one, two, three, four, five, then there are $3 + 3 + 5 + 4 + 4 = 19$ letters used in total. </br>\n",
    "If all the numbers from $1$ to $1000$ (one thousand) inclusive were written out in words, how many letters would be used? </br>\n",
    "**NOTE**: Do not count spaces or hyphens."
   ]
  },
  {
   "cell_type": "code",
   "execution_count": 93,
   "id": "6d10ba4a",
   "metadata": {},
   "outputs": [],
   "source": [
    "single_digit = {0 : 0, #zero\n",
    "                1 : 3, #one\n",
    "                2 : 3, #two\n",
    "                3 : 5, #three\n",
    "                4 : 4, #four\n",
    "                5 : 4, #five\n",
    "                6 : 3, #six\n",
    "                7 : 5, #seven\n",
    "                8 : 5, #eight\n",
    "                9 : 4, #nine\n",
    "                }\n",
    "\n",
    "two_special = {10 : 3, #ten\n",
    "               11 : 6, #eleven\n",
    "               12 : 6, #twelve\n",
    "               13 : 8, #thirteen\n",
    "               14 : 8, #fourteen\n",
    "               15 : 7, #fifteen\n",
    "               16 : 7, #sixteen\n",
    "               17 : 9, #seventeen\n",
    "               18 : 8, #eighteen\n",
    "               19 : 8} #nineteen\n",
    "\n",
    "two_digit = {0 : 0,\n",
    "             2 : 6, #twenty\n",
    "             3 : 6, #thirty\n",
    "             4 : 5, #forty\n",
    "             5 : 5, #fifty\n",
    "             6 : 5, #sixty\n",
    "             7 : 7, #seventy\n",
    "             8 : 6, #eighty\n",
    "             9 : 6} #ninety\n",
    "\n",
    "hundred = 7\n",
    "an = 3\n",
    "thousand = 11"
   ]
  },
  {
   "cell_type": "code",
   "execution_count": 112,
   "id": "64e91fca",
   "metadata": {},
   "outputs": [],
   "source": [
    "def count_number(num):\n",
    "    result = 0\n",
    "    if num == 1000:\n",
    "        result += thousand\n",
    "    elif num in range(10, 20):\n",
    "        result += two_special[num]\n",
    "    else:\n",
    "        if num // 10 == 0:\n",
    "            result += single_digit[num]\n",
    "        elif num // 100 == 0:\n",
    "            result += two_digit[num // 10]\n",
    "            result += single_digit[num % 10]\n",
    "        else:\n",
    "            result += single_digit[num // 100]\n",
    "            result += hundred\n",
    "            if num % 100 == 0:\n",
    "                return result\n",
    "            else:\n",
    "                result += an\n",
    "                if num % 100 in range(10, 20):\n",
    "                    result += two_special[num % 100]\n",
    "                else:\n",
    "                    result += two_digit[num % 100 // 10]\n",
    "                    result += single_digit[num % 10]\n",
    "    \n",
    "    return result"
   ]
  },
  {
   "cell_type": "code",
   "execution_count": 100,
   "id": "818fcb16",
   "metadata": {},
   "outputs": [
    {
     "data": {
      "text/plain": [
       "5"
      ]
     },
     "execution_count": 100,
     "metadata": {},
     "output_type": "execute_result"
    }
   ],
   "source": [
    "count_number(7)"
   ]
  },
  {
   "cell_type": "code",
   "execution_count": 113,
   "id": "3e66c7a7",
   "metadata": {},
   "outputs": [
    {
     "data": {
      "text/plain": [
       "21124"
      ]
     },
     "execution_count": 113,
     "metadata": {},
     "output_type": "execute_result"
    }
   ],
   "source": [
    "result = 0\n",
    "for num in range(1, 1001):\n",
    "    result += count_number(num)\n",
    "result"
   ]
  },
  {
   "cell_type": "code",
   "execution_count": 102,
   "id": "8429ae65",
   "metadata": {},
   "outputs": [
    {
     "name": "stdout",
     "output_type": "stream",
     "text": [
      "21121\n"
     ]
    }
   ],
   "source": [
    "def number_to_words(n):\n",
    "    # Define a dictionary for the number words\n",
    "    number_words = {\n",
    "        1: 'one', 2: 'two', 3: 'three', 4: 'four', 5: 'five',\n",
    "        6: 'six', 7: 'seven', 8: 'eight', 9: 'nine', 10: 'ten',\n",
    "        11: 'eleven', 12: 'twelve', 13: 'thirteen', 14: 'fourteen', 15: 'fifteen',\n",
    "        16: 'sixteen', 17: 'seventeen', 18: 'eighteen', 19: 'nineteen', 20: 'twenty',\n",
    "        30: 'thirty', 40: 'forty', 50: 'fifty', 60: 'sixty', 70: 'seventy', 80: 'eighty',\n",
    "        90: 'ninety', 100: 'hundred', 1000: 'onethousand'\n",
    "    }\n",
    "\n",
    "    if n in number_words:\n",
    "        return number_words[n]\n",
    "\n",
    "    if n < 100:\n",
    "        return number_words[n // 10 * 10] + number_words[n % 10]\n",
    "    elif n % 100 == 0:\n",
    "        return number_words[n // 100] + 'hundred'\n",
    "    else:\n",
    "        return number_words[n // 100] + 'hundredand' + number_to_words(n % 100)\n",
    "\n",
    "total_letters = sum(len(number_to_words(i)) for i in range(1, 1001))\n",
    "print(total_letters)"
   ]
  },
  {
   "cell_type": "code",
   "execution_count": 103,
   "id": "57511af0",
   "metadata": {},
   "outputs": [
    {
     "data": {
      "text/plain": [
       "'hundred'"
      ]
     },
     "execution_count": 103,
     "metadata": {},
     "output_type": "execute_result"
    }
   ],
   "source": [
    "number_to_words(100)"
   ]
  },
  {
   "cell_type": "code",
   "execution_count": 108,
   "id": "2db372ed",
   "metadata": {},
   "outputs": [
    {
     "data": {
      "text/plain": [
       "'onehundredandfifteen'"
      ]
     },
     "execution_count": 108,
     "metadata": {},
     "output_type": "execute_result"
    }
   ],
   "source": [
    "number_to_words(115)"
   ]
  },
  {
   "cell_type": "code",
   "execution_count": 109,
   "id": "51d3d118",
   "metadata": {},
   "outputs": [
    {
     "data": {
      "text/plain": [
       "11"
      ]
     },
     "execution_count": 109,
     "metadata": {},
     "output_type": "execute_result"
    }
   ],
   "source": [
    "len(number_to_words(1000))"
   ]
  },
  {
   "cell_type": "code",
   "execution_count": 110,
   "id": "37dc5758",
   "metadata": {},
   "outputs": [
    {
     "data": {
      "text/plain": [
       "0"
      ]
     },
     "execution_count": 110,
     "metadata": {},
     "output_type": "execute_result"
    }
   ],
   "source": [
    "100 % 10"
   ]
  },
  {
   "cell_type": "code",
   "execution_count": 111,
   "id": "ffb164bf",
   "metadata": {},
   "outputs": [
    {
     "data": {
      "text/plain": [
       "0"
      ]
     },
     "execution_count": 111,
     "metadata": {},
     "output_type": "execute_result"
    }
   ],
   "source": [
    "110 %10"
   ]
  },
  {
   "cell_type": "code",
   "execution_count": null,
   "id": "ab0125da",
   "metadata": {},
   "outputs": [],
   "source": []
  }
 ],
 "metadata": {
  "kernelspec": {
   "display_name": "Python 3 (ipykernel)",
   "language": "python",
   "name": "python3"
  },
  "language_info": {
   "codemirror_mode": {
    "name": "ipython",
    "version": 3
   },
   "file_extension": ".py",
   "mimetype": "text/x-python",
   "name": "python",
   "nbconvert_exporter": "python",
   "pygments_lexer": "ipython3",
   "version": "3.11.4"
  }
 },
 "nbformat": 4,
 "nbformat_minor": 5
}
