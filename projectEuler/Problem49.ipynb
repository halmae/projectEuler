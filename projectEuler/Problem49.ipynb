{
 "cells": [
  {
   "cell_type": "markdown",
   "id": "d8f8d70d",
   "metadata": {},
   "source": [
    "# Prime Permutations\n",
    "The arithmetic sequence, $1487$, $4817$, $8147$, in which each of the terms increases by $3330$, is unusual in two ways: (i) each of the three terms are prime, and (ii) each of the $4$-digit numbers are permutations of one another. </br>\n",
    "\n",
    "There are no arithmetic sequences made up of three $1$-, $2$-, or $3$-digit primes, exhibiting this property, but there is one other $4$-digit increasing sequence. </br>\n",
    "\n",
    "What $12$-digit number do you form by concatenating the three terms in this sequence?"
   ]
  },
  {
   "cell_type": "code",
   "execution_count": 107,
   "id": "27d47b30",
   "metadata": {},
   "outputs": [],
   "source": [
    "import numpy as np"
   ]
  },
  {
   "cell_type": "code",
   "execution_count": 1,
   "id": "e7ff1b14",
   "metadata": {},
   "outputs": [],
   "source": [
    "def is_prime(num):\n",
    "    if num <= 1: return False\n",
    "    elif num == 2: return True\n",
    "    elif num % 2 == 0: return False\n",
    "    else:\n",
    "        for i in range(3, int(num**0.5) + 1, 2):\n",
    "            if num % i == 0: return False\n",
    "        return True"
   ]
  },
  {
   "cell_type": "code",
   "execution_count": 92,
   "id": "b04c84b8",
   "metadata": {},
   "outputs": [],
   "source": [
    "def permutations(N, num_lst):\n",
    "    if N == 2:\n",
    "        return [str(num_lst[0]) + str(num_lst[1]), str(num_lst[1]) + str(num_lst[0])]\n",
    "    else:\n",
    "        result = []\n",
    "        target = ''\n",
    "        \n",
    "        for i, num in enumerate(num_lst):\n",
    "            target = str(num)\n",
    "            del num_lst[i]\n",
    "            for new_number in [target + number for number in permutations(N - 1, num_lst)]:\n",
    "                result.append(new_number)\n",
    "            num_lst.insert(i, num)\n",
    "        \n",
    "        return list(set(result))"
   ]
  },
  {
   "cell_type": "code",
   "execution_count": 45,
   "id": "811d001a",
   "metadata": {},
   "outputs": [],
   "source": [
    "def get_prime_permutations(num):\n",
    "    # 숫자 리스트로부터 possible permutation들 받기\n",
    "    num_str_lst = list(str(num))\n",
    "    target_str_lst = permutations(len(num_str_lst), num_str_lst)\n",
    "    \n",
    "    # str type 숫자들을 int type으로 바꿔주기\n",
    "    target_lst = []\n",
    "    for num in target_str_lst:\n",
    "        target_lst.append(int(num))\n",
    "    \n",
    "    # list를 numpy array로 바꾼 후, prime 숫자들만 남기기\n",
    "    target_np = np.array(target_lst)\n",
    "    \n",
    "    is_prime_vectorized = np.vectorize(is_prime)\n",
    "    \n",
    "    mask = is_prime_vectorized(target_np)\n",
    "    \n",
    "    prime_lst = target_np[mask]\n",
    "    \n",
    "    return prime_lst\n",
    "    "
   ]
  },
  {
   "cell_type": "code",
   "execution_count": 98,
   "id": "eaa3fb24",
   "metadata": {},
   "outputs": [],
   "source": [
    "def find_prime_permutations(num):\n",
    "    if '0' in str(num):\n",
    "        return False\n",
    "    \n",
    "    target = get_prime_permutations(num)\n",
    "    target.sort()\n",
    "    \n",
    "    if len(set(target)) < 3:\n",
    "        return False\n",
    "    \n",
    "    l = len(target)\n",
    "\n",
    "    for i in range(l):\n",
    "        for j in range(i + 1, l):\n",
    "            d = target[j] - target[i]\n",
    "            if target[j] + d in target:\n",
    "                return [target[i], target[i] + d, target[i] + 2 * d]\n",
    "    \n",
    "    return False"
   ]
  },
  {
   "cell_type": "code",
   "execution_count": 99,
   "id": "a2d90e00",
   "metadata": {},
   "outputs": [],
   "source": [
    "result = []\n",
    "\n",
    "for num in range(10**3, 10**4):\n",
    "    if find_prime_permutations(num):\n",
    "        result.append(find_prime_permutations(num))"
   ]
  },
  {
   "cell_type": "code",
   "execution_count": 105,
   "id": "1daf446d",
   "metadata": {},
   "outputs": [],
   "source": [
    "unique_set = set(tuple(sublist) for sublist in result)"
   ]
  },
  {
   "cell_type": "code",
   "execution_count": 106,
   "id": "2d336ca5",
   "metadata": {},
   "outputs": [
    {
     "data": {
      "text/plain": [
       "{(1487, 4817, 8147), (2969, 6299, 9629)}"
      ]
     },
     "execution_count": 106,
     "metadata": {},
     "output_type": "execute_result"
    }
   ],
   "source": [
    "unique_set"
   ]
  }
 ],
 "metadata": {
  "kernelspec": {
   "display_name": "Python 3 (ipykernel)",
   "language": "python",
   "name": "python3"
  },
  "language_info": {
   "codemirror_mode": {
    "name": "ipython",
    "version": 3
   },
   "file_extension": ".py",
   "mimetype": "text/x-python",
   "name": "python",
   "nbconvert_exporter": "python",
   "pygments_lexer": "ipython3",
   "version": "3.11.4"
  }
 },
 "nbformat": 4,
 "nbformat_minor": 5
}
