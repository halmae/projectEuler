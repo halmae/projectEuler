{
 "cells": [
  {
   "cell_type": "markdown",
   "id": "c505d329",
   "metadata": {},
   "source": [
    "If we list all the natural numbers below 10 that are multiples of $3$ or $5$, we get $3$, $5$, $6$, and $9$. The sum of these multiples is $23$.</br>\n",
    "Find the sum of all the multiples of $3$ or $5$ below $1000$."
   ]
  },
  {
   "cell_type": "code",
   "execution_count": 2,
   "id": "bebd8624",
   "metadata": {},
   "outputs": [],
   "source": [
    "import numpy as np"
   ]
  },
  {
   "cell_type": "code",
   "execution_count": 29,
   "id": "52cab24f",
   "metadata": {},
   "outputs": [],
   "source": [
    "n = np.arange(1, 1000, 1)"
   ]
  },
  {
   "cell_type": "code",
   "execution_count": null,
   "id": "4723bf15",
   "metadata": {},
   "outputs": [],
   "source": [
    "maks"
   ]
  },
  {
   "cell_type": "code",
   "execution_count": 30,
   "id": "a626f1e5",
   "metadata": {},
   "outputs": [],
   "source": [
    "result = np.logical_or(n%3==0, n%5==0)"
   ]
  },
  {
   "cell_type": "code",
   "execution_count": 31,
   "id": "6fc77724",
   "metadata": {},
   "outputs": [
    {
     "data": {
      "text/plain": [
       "999"
      ]
     },
     "execution_count": 31,
     "metadata": {},
     "output_type": "execute_result"
    }
   ],
   "source": [
    "len(result)"
   ]
  },
  {
   "cell_type": "code",
   "execution_count": 32,
   "id": "18437753",
   "metadata": {
    "scrolled": true
   },
   "outputs": [
    {
     "data": {
      "text/plain": [
       "array([  3,   5,   6,   9,  10,  12,  15,  18,  20,  21,  24,  25,  27,\n",
       "        30,  33,  35,  36,  39,  40,  42,  45,  48,  50,  51,  54,  55,\n",
       "        57,  60,  63,  65,  66,  69,  70,  72,  75,  78,  80,  81,  84,\n",
       "        85,  87,  90,  93,  95,  96,  99, 100, 102, 105, 108, 110, 111,\n",
       "       114, 115, 117, 120, 123, 125, 126, 129, 130, 132, 135, 138, 140,\n",
       "       141, 144, 145, 147, 150, 153, 155, 156, 159, 160, 162, 165, 168,\n",
       "       170, 171, 174, 175, 177, 180, 183, 185, 186, 189, 190, 192, 195,\n",
       "       198, 200, 201, 204, 205, 207, 210, 213, 215, 216, 219, 220, 222,\n",
       "       225, 228, 230, 231, 234, 235, 237, 240, 243, 245, 246, 249, 250,\n",
       "       252, 255, 258, 260, 261, 264, 265, 267, 270, 273, 275, 276, 279,\n",
       "       280, 282, 285, 288, 290, 291, 294, 295, 297, 300, 303, 305, 306,\n",
       "       309, 310, 312, 315, 318, 320, 321, 324, 325, 327, 330, 333, 335,\n",
       "       336, 339, 340, 342, 345, 348, 350, 351, 354, 355, 357, 360, 363,\n",
       "       365, 366, 369, 370, 372, 375, 378, 380, 381, 384, 385, 387, 390,\n",
       "       393, 395, 396, 399, 400, 402, 405, 408, 410, 411, 414, 415, 417,\n",
       "       420, 423, 425, 426, 429, 430, 432, 435, 438, 440, 441, 444, 445,\n",
       "       447, 450, 453, 455, 456, 459, 460, 462, 465, 468, 470, 471, 474,\n",
       "       475, 477, 480, 483, 485, 486, 489, 490, 492, 495, 498, 500, 501,\n",
       "       504, 505, 507, 510, 513, 515, 516, 519, 520, 522, 525, 528, 530,\n",
       "       531, 534, 535, 537, 540, 543, 545, 546, 549, 550, 552, 555, 558,\n",
       "       560, 561, 564, 565, 567, 570, 573, 575, 576, 579, 580, 582, 585,\n",
       "       588, 590, 591, 594, 595, 597, 600, 603, 605, 606, 609, 610, 612,\n",
       "       615, 618, 620, 621, 624, 625, 627, 630, 633, 635, 636, 639, 640,\n",
       "       642, 645, 648, 650, 651, 654, 655, 657, 660, 663, 665, 666, 669,\n",
       "       670, 672, 675, 678, 680, 681, 684, 685, 687, 690, 693, 695, 696,\n",
       "       699, 700, 702, 705, 708, 710, 711, 714, 715, 717, 720, 723, 725,\n",
       "       726, 729, 730, 732, 735, 738, 740, 741, 744, 745, 747, 750, 753,\n",
       "       755, 756, 759, 760, 762, 765, 768, 770, 771, 774, 775, 777, 780,\n",
       "       783, 785, 786, 789, 790, 792, 795, 798, 800, 801, 804, 805, 807,\n",
       "       810, 813, 815, 816, 819, 820, 822, 825, 828, 830, 831, 834, 835,\n",
       "       837, 840, 843, 845, 846, 849, 850, 852, 855, 858, 860, 861, 864,\n",
       "       865, 867, 870, 873, 875, 876, 879, 880, 882, 885, 888, 890, 891,\n",
       "       894, 895, 897, 900, 903, 905, 906, 909, 910, 912, 915, 918, 920,\n",
       "       921, 924, 925, 927, 930, 933, 935, 936, 939, 940, 942, 945, 948,\n",
       "       950, 951, 954, 955, 957, 960, 963, 965, 966, 969, 970, 972, 975,\n",
       "       978, 980, 981, 984, 985, 987, 990, 993, 995, 996, 999])"
      ]
     },
     "execution_count": 32,
     "metadata": {},
     "output_type": "execute_result"
    }
   ],
   "source": [
    "n[result]"
   ]
  },
  {
   "cell_type": "code",
   "execution_count": 33,
   "id": "9eded76a",
   "metadata": {
    "scrolled": true
   },
   "outputs": [
    {
     "data": {
      "text/plain": [
       "233168"
      ]
     },
     "execution_count": 33,
     "metadata": {},
     "output_type": "execute_result"
    }
   ],
   "source": [
    "n[result].sum()"
   ]
  },
  {
   "cell_type": "code",
   "execution_count": 15,
   "id": "488c2417",
   "metadata": {},
   "outputs": [],
   "source": [
    "true_indicies = np.where(result)[0].tolist()"
   ]
  },
  {
   "cell_type": "code",
   "execution_count": 16,
   "id": "e3c42bff",
   "metadata": {},
   "outputs": [],
   "source": [
    "result = np.sum(true_indicies)"
   ]
  },
  {
   "cell_type": "code",
   "execution_count": 17,
   "id": "b3a890c1",
   "metadata": {},
   "outputs": [
    {
     "data": {
      "text/plain": [
       "233701"
      ]
     },
     "execution_count": 17,
     "metadata": {},
     "output_type": "execute_result"
    }
   ],
   "source": [
    "result"
   ]
  },
  {
   "cell_type": "code",
   "execution_count": null,
   "id": "90fbb8eb",
   "metadata": {},
   "outputs": [],
   "source": []
  }
 ],
 "metadata": {
  "kernelspec": {
   "display_name": "Python 3 (ipykernel)",
   "language": "python",
   "name": "python3"
  },
  "language_info": {
   "codemirror_mode": {
    "name": "ipython",
    "version": 3
   },
   "file_extension": ".py",
   "mimetype": "text/x-python",
   "name": "python",
   "nbconvert_exporter": "python",
   "pygments_lexer": "ipython3",
   "version": "3.11.4"
  }
 },
 "nbformat": 4,
 "nbformat_minor": 5
}
