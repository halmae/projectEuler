{
 "cells": [
  {
   "cell_type": "markdown",
   "id": "6fe29981",
   "metadata": {},
   "source": [
    "Starting in the top left corner of a $2 \\times 2$ grid, and only being able to move to the right and down, there are exactly $6$ routes to the bottom right corner. </br>\n",
    "How many such routes are there through a $20 \\times 20$ grid?"
   ]
  },
  {
   "cell_type": "code",
   "execution_count": 4,
   "id": "402029aa",
   "metadata": {},
   "outputs": [],
   "source": [
    "import numpy as np\n",
    "from numpy import prod"
   ]
  },
  {
   "cell_type": "code",
   "execution_count": 14,
   "id": "e446d960",
   "metadata": {},
   "outputs": [],
   "source": [
    "def factorial(n):\n",
    "    return prod(range(1, n+1))\n",
    "\n",
    "def ways_grid(N, M):\n",
    "    return int(factorial(N + M) / factorial(N) / factorial(M))"
   ]
  },
  {
   "cell_type": "code",
   "execution_count": 15,
   "id": "845a98d7",
   "metadata": {},
   "outputs": [
    {
     "data": {
      "text/plain": [
       "0"
      ]
     },
     "execution_count": 15,
     "metadata": {},
     "output_type": "execute_result"
    }
   ],
   "source": [
    "ways_grid(20, 20)"
   ]
  },
  {
   "cell_type": "code",
   "execution_count": 16,
   "id": "355c0e59",
   "metadata": {},
   "outputs": [
    {
     "data": {
      "text/plain": [
       "-70609262346240000"
      ]
     },
     "execution_count": 16,
     "metadata": {},
     "output_type": "execute_result"
    }
   ],
   "source": [
    "factorial(40)"
   ]
  },
  {
   "cell_type": "code",
   "execution_count": 12,
   "id": "7822dca8",
   "metadata": {},
   "outputs": [
    {
     "data": {
      "text/plain": [
       "3628800"
      ]
     },
     "execution_count": 12,
     "metadata": {},
     "output_type": "execute_result"
    }
   ],
   "source": [
    "factorial(10)"
   ]
  },
  {
   "cell_type": "code",
   "execution_count": 13,
   "id": "358ce602",
   "metadata": {},
   "outputs": [
    {
     "data": {
      "text/plain": [
       "184756.0"
      ]
     },
     "execution_count": 13,
     "metadata": {},
     "output_type": "execute_result"
    }
   ],
   "source": [
    "factorial(20) / factorial(10) / factorial(10)"
   ]
  },
  {
   "cell_type": "code",
   "execution_count": null,
   "id": "1212beb2",
   "metadata": {},
   "outputs": [],
   "source": []
  }
 ],
 "metadata": {
  "kernelspec": {
   "display_name": "Python 3 (ipykernel)",
   "language": "python",
   "name": "python3"
  },
  "language_info": {
   "codemirror_mode": {
    "name": "ipython",
    "version": 3
   },
   "file_extension": ".py",
   "mimetype": "text/x-python",
   "name": "python",
   "nbconvert_exporter": "python",
   "pygments_lexer": "ipython3",
   "version": "3.11.4"
  }
 },
 "nbformat": 4,
 "nbformat_minor": 5
}
