{
 "cells": [
  {
   "cell_type": "markdown",
   "id": "e9922ed3",
   "metadata": {},
   "source": [
    "# Poker Hands\n",
    "\n",
    "In the card game poker, a hand consists of five cards and are ranked, from lowest to highest, in the following way:\n",
    "\n",
    "- High Card : Highest value card.\n",
    "- One Pair : Two cards of the same value.\n",
    "- Two Pair : Two different pairs.\n",
    "- Three of a Kind : Three cards of the same value.\n",
    "- Straight : All cards are consecutive values.\n",
    "- Flush : All cards of the same suit.\n",
    "- Full House : Three of a kind and a pair\n",
    "- Four of a Kind : Four cards of the same value.\n",
    "- Straight Flush : All cards are consecutive values of same suit.\n",
    "- Royal Flush : Ten, Jack, Queen, King, Ace, in same suit.\n",
    "\n",
    "The cards are valued in the order:\n",
    "$2,\\,3,\\,4,\\,5,\\,6,\\,7,\\,8,\\,9,\\,10$, Jack, Queen, King, Ace. </br>\n",
    "\n",
    "If two players have the same ranked hands then the rank made up of the highest value wins; for example, a pair of eights beats a pair of fives(see example 1 below). But if two ranks tie, for example, both players have a pair of queens, the highest cards in each hand are compared(see example 4 below); if the highest cards tie then the next highest cards are compared, and so on. </br>\n",
    "\n",
    "Consider the following five hands dealt to two players:\n",
    "\n",
    "| **Hand** | **Player 1** | **Player 2** | **Winnder** |\n",
    "| :---: | :---: | :---: | :---: |\n",
    "| 1        | 5H 5C 6S 7S KD </br> Pair of Fives| 2C 3S 8S 8D TD </br> Pair of Eights| Player 2 |\n",
    "|2 | 5D 8C 9S JS AC </br> Highest card Ace | 2C 5C 7D 8S QH </br> Highest card Queen | Player 1|\n",
    "|3 | 2D 9C AS AH AC </br> Three Aces | 3D 6D 7D TD QD </br> Flush with Diamonds | Player 2|\n",
    "|4 | 4D 6S 9H QH QC </br> Pair of Queens </br> Highest card Nine | 3D 6D 7H QD QS </br> Pair of Queens </br> Highest card Seven | Player 1|\n",
    "|5 | 2H 2D 4C 4D 4S </br> Full House </br> With Three Fours | 3C 3D 3S 9S 9D </br> Full House </br> with Three Threes | Player 1|\n",
    "\n",
    "The file, **poker.txt**, contains one-thousand random hands dealt to two players. Each line of the file contains ten cards (separated by a single space): the first five are Player 1's cards and the last five are Plyaer 2's cards. You can assume that all hands are valid (no invalid characters or repeated cards), each player's hand is in no specific order, and in each hand there is a clear winner. </br>\n",
    "\n",
    "How many hands does Player 1 win?"
   ]
  },
  {
   "cell_type": "code",
   "execution_count": 1,
   "id": "5bb597f0",
   "metadata": {},
   "outputs": [],
   "source": [
    "def poker_file_to_hands(filename):\n",
    "    games = []\n",
    "    \n",
    "    with open(filename, 'r') as file:\n",
    "        line = file.readline()\n",
    "        \n",
    "        while line:\n",
    "            games.append(line)\n",
    "            line = file.readline()\n",
    "            \n",
    "    hand1 = []\n",
    "    hand2 = []\n",
    "    \n",
    "    for game in games:\n",
    "        game = game.replace('\\n', '')\n",
    "        game = game.split(' ')\n",
    "        \n",
    "        sample1 = []\n",
    "        sample2 = []\n",
    "        \n",
    "        for i in range(5):\n",
    "            sample1.append(game[i])\n",
    "        for i in range(5, 10):\n",
    "            sample2.append(game[i])\n",
    "            \n",
    "        hand1.append(sample1)\n",
    "        hand2.append(sample2)\n",
    "        \n",
    "    return hand1, hand2"
   ]
  },
  {
   "cell_type": "code",
   "execution_count": 15,
   "id": "ed0f806f",
   "metadata": {},
   "outputs": [],
   "source": [
    "def is_straight(numbers):\n",
    "    \n",
    "    if numbers == ['2', '3', '4', '5', '14']:\n",
    "        return True\n",
    "    \n",
    "    numbers = [int(num) for num in numbers]\n",
    "    \n",
    "    return all(numbers[i] + 1 == numbers[i + 1] for i in range(len(numbers) - 1))\n",
    "        \n",
    "\n",
    "def hand_to_rank(hand):\n",
    "    alpha_number = {'A' : '14', 'T' : '10', 'J' : '11', 'Q' : '12', 'K' : '13'}\n",
    "    \n",
    "    rank = ''\n",
    "    top = ''\n",
    "    numbers = []\n",
    "    colors = []\n",
    "    \n",
    "    for card in hand:\n",
    "        numbers.append(card[0])\n",
    "        colors.append(card[1])\n",
    "        \n",
    "    for i, number in enumerate(numbers):\n",
    "        if number in alpha_number.keys():\n",
    "            numbers[i] = alpha_number[number]\n",
    "    \n",
    "    numbers = sorted(map(int, numbers))\n",
    "    numbers = list(map(str, numbers))\n",
    "    \n",
    "    if len(set(colors)) == 1:\n",
    "        flush = 1\n",
    "        \n",
    "        if numbers == ['10', '11', '12', '13', '14']:\n",
    "            rank = 'RoyalFlush'\n",
    "            top = max(numbers)\n",
    "            numbers.remove(top)\n",
    "        elif is_straight(numbers):\n",
    "            rank = 'StraightFlush'\n",
    "            top = max(numbers)\n",
    "            numbers.remove(top)\n",
    "        else:\n",
    "            rank = 'Flush'\n",
    "            top = max(numbers)\n",
    "            numbers.remove(top)\n",
    "    else:\n",
    "        flush = 0\n",
    "        \n",
    "        if len(set(numbers)) == 5:\n",
    "            if is_straight(numbers):\n",
    "                rank = 'Straight'\n",
    "                top = max(numbers)\n",
    "                numbers.remove(top)\n",
    "            else:\n",
    "                rank = 'HighCard'\n",
    "                top = max(numbers)\n",
    "                numbers.remove(top)\n",
    "        elif len(set(numbers)) == 4:\n",
    "            rank = 'OnePair'\n",
    "            \n",
    "            duplicates = set(x for x in numbers if numbers.count(x) > 1)\n",
    "            top = list(duplicates)[0]\n",
    "            numbers.remove(top)\n",
    "            \n",
    "        elif len(set(numbers)) == 3:\n",
    "\n",
    "            test = list(set(numbers))\n",
    "            for num in test:\n",
    "                if numbers.count(num) == 3:\n",
    "                    rank = 'ThreeOfaKind'\n",
    "                    \n",
    "                    duplicates = set(x for x in numbers if numbers.count(x) == 3)\n",
    "                    top = list(duplicates)[0]\n",
    "                    numbers.remove(top)\n",
    "                    \n",
    "            if not rank:\n",
    "                rank = 'TwoPair'\n",
    "                \n",
    "                duplicates = set(x for x in numbers if numbers.count(x) > 1)\n",
    "                top = max(duplicates)\n",
    "                numbers.remove(top)\n",
    "                \n",
    "        else:\n",
    "            test = list(set(numbers))\n",
    "            if numbers.count(test[0]) == 2 or numbers.count(test[0]) == 3:\n",
    "                rank = 'FullHouse'\n",
    "                \n",
    "                duplicates = set(x for x in numbers if numbers.count(x) == 3)\n",
    "                top = list(duplicates)[0]\n",
    "                numbers.remove(top)\n",
    "                \n",
    "            else:\n",
    "                rank = 'FourOfaKind'\n",
    "                \n",
    "                duplicates = set(x for x in numbers if numbers.count(x) == 4)\n",
    "                top = list(duplicates)[0]\n",
    "                numbers.remove(top)\n",
    "        \n",
    "    return [[rank, top], numbers]"
   ]
  },
  {
   "cell_type": "code",
   "execution_count": 3,
   "id": "38c22034",
   "metadata": {},
   "outputs": [],
   "source": [
    "def main_game(hand1, hand2):\n",
    "    game_points = {'RoyalFlush' : 10,\n",
    "                   'StraightFlush' : 9,\n",
    "                   'FourOfaKind' : 8,\n",
    "                   'FullHouse' : 7,\n",
    "                   'Flush' : 6,\n",
    "                   'Straight' : 5,\n",
    "                   'ThreeOfaKind' : 4,\n",
    "                   'TwoPair' : 3,\n",
    "                   'OnePair' : 2,\n",
    "                   'HighCard' : 1}\n",
    "    \n",
    "    rank1 = hand_to_rank(hand1)\n",
    "    rank2 = hand_to_rank(hand2)\n",
    "    \n",
    "    player1_hand = rank1[0]\n",
    "    player2_hand = rank2[0]\n",
    "    \n",
    "    if game_points[player1_hand[0]] != game_points[player2_hand[0]]:\n",
    "        d = game_points[player1_hand[0]] - game_points[player2_hand[0]]\n",
    "        if d > 0:\n",
    "            return 1\n",
    "        else:\n",
    "            return 0\n",
    "    else:\n",
    "        if player1_hand[1] != player2_hand[1]:\n",
    "            d = int(player1_hand[1]) - int(player2_hand[1])\n",
    "            if d > 0:\n",
    "                return 1\n",
    "            else:\n",
    "                return 0\n",
    "        else:\n",
    "            rank1[1].sort()\n",
    "            rank2[1].sort()\n",
    "            for num1, num2 in zip(rank1[1], rank2[1]):\n",
    "                if int(num1) == int(num2):\n",
    "                    continue\n",
    "                else:\n",
    "                    d = int(num1) - int(num2)\n",
    "                    if d > 0:\n",
    "                        return 1\n",
    "                    else:\n",
    "                        return 0"
   ]
  },
  {
   "cell_type": "code",
   "execution_count": 4,
   "id": "1efdcd34",
   "metadata": {},
   "outputs": [],
   "source": [
    "filename = 'poker.txt'\n",
    "\n",
    "hands1, hands2 = poker_file_to_hands(filename)"
   ]
  },
  {
   "cell_type": "code",
   "execution_count": 16,
   "id": "fda40cc9",
   "metadata": {},
   "outputs": [],
   "source": [
    "result = 0\n",
    "for hand1, hand2 in zip(hands1, hands2):\n",
    "    result += main_game(hand1, hand2)"
   ]
  },
  {
   "cell_type": "code",
   "execution_count": 17,
   "id": "8f56ce34",
   "metadata": {},
   "outputs": [
    {
     "data": {
      "text/plain": [
       "409"
      ]
     },
     "execution_count": 17,
     "metadata": {},
     "output_type": "execute_result"
    }
   ],
   "source": [
    "result"
   ]
  },
  {
   "cell_type": "code",
   "execution_count": 210,
   "id": "78759717",
   "metadata": {},
   "outputs": [
    {
     "data": {
      "text/plain": [
       "['8C', 'TS', 'KC', '9H', '4S']"
      ]
     },
     "execution_count": 210,
     "metadata": {},
     "output_type": "execute_result"
    }
   ],
   "source": [
    "hands1[0]"
   ]
  },
  {
   "cell_type": "code",
   "execution_count": 211,
   "id": "79d3905c",
   "metadata": {},
   "outputs": [
    {
     "data": {
      "text/plain": [
       "[['HighCard', '9'], ['10', '13', '4', '8']]"
      ]
     },
     "execution_count": 211,
     "metadata": {},
     "output_type": "execute_result"
    }
   ],
   "source": [
    "hand_to_rank(hands1[0])"
   ]
  },
  {
   "cell_type": "code",
   "execution_count": null,
   "id": "34cb3802",
   "metadata": {},
   "outputs": [],
   "source": []
  }
 ],
 "metadata": {
  "kernelspec": {
   "display_name": "Python 3 (ipykernel)",
   "language": "python",
   "name": "python3"
  },
  "language_info": {
   "codemirror_mode": {
    "name": "ipython",
    "version": 3
   },
   "file_extension": ".py",
   "mimetype": "text/x-python",
   "name": "python",
   "nbconvert_exporter": "python",
   "pygments_lexer": "ipython3",
   "version": "3.11.4"
  }
 },
 "nbformat": 4,
 "nbformat_minor": 5
}
