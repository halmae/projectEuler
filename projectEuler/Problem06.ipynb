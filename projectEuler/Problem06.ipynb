{
 "cells": [
  {
   "cell_type": "markdown",
   "id": "c418fd70",
   "metadata": {},
   "source": [
    "The sum of the squares of the first ten natural numbers is,\n",
    "$$\n",
    "\\begin{align}\n",
    "1^2 + 2^2 + \\cdots + 10^2 = 385.\n",
    "\\end{align}\n",
    "$$\n",
    "The square of the sum of the first ten natural numbers is,\n",
    "$$\n",
    "\\begin{align}\n",
    "(1 + 2 + \\cdots + 10)^2 = 55^2 = 3025.\n",
    "\\end{align}\n",
    "$$\n",
    "Hence the difference between the sum of the squares of the first ten natural numbers and the square of the sum is $3025 - 385 = 2640$. </br>\n",
    "Find the difference between the sum of the squares of the first one hundred natural numbers and the square of the sum."
   ]
  },
  {
   "cell_type": "code",
   "execution_count": 1,
   "id": "d3774cf1",
   "metadata": {},
   "outputs": [],
   "source": [
    "import numpy as np"
   ]
  },
  {
   "cell_type": "code",
   "execution_count": 23,
   "id": "f3b737ca",
   "metadata": {},
   "outputs": [],
   "source": [
    "def diff_squares(N):\n",
    "    a = np.arange(1, N+1)\n",
    "    a2 = a**2\n",
    "    return (a.sum())**2 - (a**2).sum()"
   ]
  },
  {
   "cell_type": "code",
   "execution_count": 24,
   "id": "30f61d9c",
   "metadata": {},
   "outputs": [
    {
     "data": {
      "text/plain": [
       "2640"
      ]
     },
     "execution_count": 24,
     "metadata": {},
     "output_type": "execute_result"
    }
   ],
   "source": [
    "diff_squares(10)"
   ]
  },
  {
   "cell_type": "code",
   "execution_count": 25,
   "id": "ebb5d187",
   "metadata": {},
   "outputs": [
    {
     "data": {
      "text/plain": [
       "25164150"
      ]
     },
     "execution_count": 25,
     "metadata": {},
     "output_type": "execute_result"
    }
   ],
   "source": [
    "diff_squares(100)"
   ]
  },
  {
   "cell_type": "code",
   "execution_count": null,
   "id": "8c844fdc",
   "metadata": {},
   "outputs": [],
   "source": []
  }
 ],
 "metadata": {
  "kernelspec": {
   "display_name": "Python 3 (ipykernel)",
   "language": "python",
   "name": "python3"
  },
  "language_info": {
   "codemirror_mode": {
    "name": "ipython",
    "version": 3
   },
   "file_extension": ".py",
   "mimetype": "text/x-python",
   "name": "python",
   "nbconvert_exporter": "python",
   "pygments_lexer": "ipython3",
   "version": "3.11.4"
  }
 },
 "nbformat": 4,
 "nbformat_minor": 5
}
