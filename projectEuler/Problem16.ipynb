{
 "cells": [
  {
   "cell_type": "markdown",
   "id": "895b98d4",
   "metadata": {},
   "source": [
    "$2^{15} = 32768$ and the sum of its digit is $3 + 2 + 7 + 6 + 8 = 26$. </br>\n",
    "What is the sum of the digits of the number $2^{1000}$?"
   ]
  },
  {
   "cell_type": "code",
   "execution_count": 23,
   "id": "988bc163",
   "metadata": {},
   "outputs": [],
   "source": [
    "N = 2**1000"
   ]
  },
  {
   "cell_type": "code",
   "execution_count": 24,
   "id": "669cd362",
   "metadata": {},
   "outputs": [],
   "source": [
    "result = 0\n",
    "while N == 0:\n",
    "    result += N % 10\n",
    "    N = N // 10"
   ]
  },
  {
   "cell_type": "code",
   "execution_count": 25,
   "id": "42a102d9",
   "metadata": {},
   "outputs": [
    {
     "data": {
      "text/plain": [
       "0"
      ]
     },
     "execution_count": 25,
     "metadata": {},
     "output_type": "execute_result"
    }
   ],
   "source": [
    "result"
   ]
  },
  {
   "cell_type": "code",
   "execution_count": 28,
   "id": "f0a321ab",
   "metadata": {},
   "outputs": [
    {
     "data": {
      "text/plain": [
       "10715086071862673209484250490600018105614048117055336074437503883703510511249361224931983788156958581275946729175531468251871452856923140435984577574698574803934567774824230985421074605062371141877954182153046474983581941267398767559165543946077062914571196477686542167660429831652624386837205668069376"
      ]
     },
     "execution_count": 28,
     "metadata": {},
     "output_type": "execute_result"
    }
   ],
   "source": [
    "N"
   ]
  },
  {
   "cell_type": "code",
   "execution_count": 29,
   "id": "62a98442",
   "metadata": {},
   "outputs": [
    {
     "data": {
      "text/plain": [
       "6"
      ]
     },
     "execution_count": 29,
     "metadata": {},
     "output_type": "execute_result"
    }
   ],
   "source": [
    "N % 10"
   ]
  },
  {
   "cell_type": "code",
   "execution_count": 30,
   "id": "6f193518",
   "metadata": {},
   "outputs": [
    {
     "data": {
      "text/plain": [
       "1071508607186267320948425049060001810561404811705533607443750388370351051124936122493198378815695858127594672917553146825187145285692314043598457757469857480393456777482423098542107460506237114187795418215304647498358194126739876755916554394607706291457119647768654216766042983165262438683720566806937"
      ]
     },
     "execution_count": 30,
     "metadata": {},
     "output_type": "execute_result"
    }
   ],
   "source": [
    "ddN // 10"
   ]
  },
  {
   "cell_type": "code",
   "execution_count": null,
   "id": "f4316a71",
   "metadata": {},
   "outputs": [],
   "source": []
  }
 ],
 "metadata": {
  "kernelspec": {
   "display_name": "Python 3 (ipykernel)",
   "language": "python",
   "name": "python3"
  },
  "language_info": {
   "codemirror_mode": {
    "name": "ipython",
    "version": 3
   },
   "file_extension": ".py",
   "mimetype": "text/x-python",
   "name": "python",
   "nbconvert_exporter": "python",
   "pygments_lexer": "ipython3",
   "version": "3.11.4"
  }
 },
 "nbformat": 4,
 "nbformat_minor": 5
}
