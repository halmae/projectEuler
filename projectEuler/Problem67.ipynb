{
 "cells": [
  {
   "cell_type": "markdown",
   "id": "7312e270",
   "metadata": {},
   "source": [
    "# Maximal Path Sum II\n",
    "Find the maximum total from top to bottom in **triangle.txt**, a 15K text file containing a traingle with one-hundred rows."
   ]
  },
  {
   "cell_type": "code",
   "execution_count": 1,
   "id": "4f750d5a",
   "metadata": {},
   "outputs": [],
   "source": [
    "with open('triangle.txt', 'r') as file:\n",
    "    numbers = file.read()"
   ]
  },
  {
   "cell_type": "code",
   "execution_count": 17,
   "id": "4c6652b0",
   "metadata": {},
   "outputs": [],
   "source": [
    "num_lst = []\n",
    "\n",
    "for num1 in numbers.split('\\n'):\n",
    "    if num1 == numbers.split('\\n')[-1]:\n",
    "        continue\n",
    "    splited = num1.split(' ')\n",
    "    level = [int(num2) for num2 in splited]\n",
    "    num_lst.append(level)"
   ]
  },
  {
   "cell_type": "code",
   "execution_count": 4,
   "id": "42843c32",
   "metadata": {},
   "outputs": [],
   "source": [
    "def sub_maximal_path(triangle, N, i):\n",
    "    \"\"\"\n",
    "    N-th level, i-th index (0 <= i < N)\n",
    "    \"\"\"\n",
    "    if N == 99:\n",
    "        return triangle[N][i]\n",
    "    elif N == 98:\n",
    "        return triangle[N][i] + max(triangle[N+1][i], triangle[N+1][i+1])\n",
    "    else:\n",
    "        return triangle[N][i] + max(sub_maximal_path(triangle, N + 1, i), sub_maximal_path(triangle, N + 1, i + 1))"
   ]
  },
  {
   "cell_type": "code",
   "execution_count": 18,
   "id": "0993ad1b",
   "metadata": {},
   "outputs": [],
   "source": [
    "def top_to_bottom(triangle):\n",
    "    for i in range(1,len(triangle)):\n",
    "        a = len(triangle[i])\n",
    "        for j in range(0, a):\n",
    "            if j == 0:\n",
    "                triangle[i][j] += triangle[i-1][j]\n",
    "            elif j == a-1:\n",
    "                triangle[i][j] += triangle[i-1][j-1]\n",
    "            else:\n",
    "                triangle[i][j] += max(triangle[i-1][j],triangle[i-1][j-1])\n",
    "    return max(triangle[-1])\n",
    "\n",
    "def bottom_to_top(triangle):\n",
    "    for i in reversed(range(len(triangle) - 1)):\n",
    "        for j in range(len(triangle[i])):\n",
    "            if triangle[i + 1][j] >= triangle[i + 1][j + 1]:\n",
    "                triangle[i][j] += triangle[i + 1][j]\n",
    "            else:\n",
    "                triangle[i][j] += triangle[i + 1][j + 1]\n",
    "    return triangle[0][0]"
   ]
  },
  {
   "cell_type": "code",
   "execution_count": 19,
   "id": "12801bcf",
   "metadata": {},
   "outputs": [
    {
     "data": {
      "text/plain": [
       "7273"
      ]
     },
     "execution_count": 19,
     "metadata": {},
     "output_type": "execute_result"
    }
   ],
   "source": [
    "top_to_bottom(num_lst)"
   ]
  }
 ],
 "metadata": {
  "kernelspec": {
   "display_name": "Python 3 (ipykernel)",
   "language": "python",
   "name": "python3"
  },
  "language_info": {
   "codemirror_mode": {
    "name": "ipython",
    "version": 3
   },
   "file_extension": ".py",
   "mimetype": "text/x-python",
   "name": "python",
   "nbconvert_exporter": "python",
   "pygments_lexer": "ipython3",
   "version": "3.11.4"
  }
 },
 "nbformat": 4,
 "nbformat_minor": 5
}
