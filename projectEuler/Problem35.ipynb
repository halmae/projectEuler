{
 "cells": [
  {
   "cell_type": "markdown",
   "id": "838c5ed1",
   "metadata": {},
   "source": [
    "# Circular Primes\n",
    "The number, $197$, is called a circular prime because all rotations of the digits: $197$, $971$, and $719$, are themselves prime. </br>\n",
    "There are thirteen such primes below $100$: $2$, $3$, $5$, $7$, $11$, $13$, $17$, $31$, $71$, $73$, $79$, and $97$. </br>\n",
    "How many circular primes are there below one million?"
   ]
  },
  {
   "cell_type": "code",
   "execution_count": 35,
   "id": "3c3b9fda",
   "metadata": {},
   "outputs": [],
   "source": [
    "def is_prime(N):\n",
    "    if N == 2:\n",
    "        return True\n",
    "    elif N % 2 == 0 or N == 1:\n",
    "        return False\n",
    "    else:\n",
    "        for i in range(3, int(N**(1/2)) + 1, 2):\n",
    "            if N % i == 0:\n",
    "                return False\n",
    "        return True\n",
    "\n",
    "    \n",
    "def cyclic_permutations(num, N):\n",
    "    result = \"\"\n",
    "    numbers = list(str(num))\n",
    "    \n",
    "    number_of_permutation = N % len(numbers)\n",
    "    \n",
    "    while len(result) < len(numbers):\n",
    "        result += numbers[number_of_permutation]\n",
    "        number_of_permutation += 1\n",
    "        number_of_permutation = number_of_permutation % len(numbers)\n",
    "        \n",
    "    return int(result)\n",
    "\n",
    "\n",
    "def find_circular_primes():\n",
    "    bound = 10**6\n",
    "    num = 1\n",
    "    \n",
    "    result = 0\n",
    "    \n",
    "    while num < bound:\n",
    "        num += 1\n",
    "        if num // 10 == 0 and is_prime(num):\n",
    "            result += 1\n",
    "        else:\n",
    "            test = 0\n",
    "            for i in range(len(str(num))):\n",
    "                if is_prime(cyclic_permutations(num, i)):\n",
    "                    test += 1\n",
    "                else:\n",
    "                    break\n",
    "            \n",
    "            if test == len(str(num)):\n",
    "                result += 1\n",
    "            \n",
    "    return result"
   ]
  },
  {
   "cell_type": "code",
   "execution_count": 36,
   "id": "68001c5c",
   "metadata": {},
   "outputs": [
    {
     "data": {
      "text/plain": [
       "55"
      ]
     },
     "execution_count": 36,
     "metadata": {},
     "output_type": "execute_result"
    }
   ],
   "source": [
    "find_circular_primes()"
   ]
  }
 ],
 "metadata": {
  "kernelspec": {
   "display_name": "Python 3 (ipykernel)",
   "language": "python",
   "name": "python3"
  },
  "language_info": {
   "codemirror_mode": {
    "name": "ipython",
    "version": 3
   },
   "file_extension": ".py",
   "mimetype": "text/x-python",
   "name": "python",
   "nbconvert_exporter": "python",
   "pygments_lexer": "ipython3",
   "version": "3.11.4"
  }
 },
 "nbformat": 4,
 "nbformat_minor": 5
}
