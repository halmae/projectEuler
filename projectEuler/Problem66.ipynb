{
 "cells": [
  {
   "cell_type": "markdown",
   "id": "26513625",
   "metadata": {},
   "source": [
    "# Diophantine Equation\n",
    "Consider quadratic Diophantine equations of the form:\n",
    "$$\n",
    "\\begin{align}\n",
    "x^2 - D y^2 = 1\n",
    "\\end{align}\n",
    "$$\n",
    "For example, when $D = 13$, the minimal solution in $x$ is $649^2 - 13 \\times 180^2 = 1$. </br>\n",
    "It can be assumed that there are no solutions in positive integers when $D$ is square. </br>\n",
    "By finding minimal solutions in $x$ for $D = \\{2,3,5,6,7\\}$, we obtain the following:\n",
    "$$\n",
    "\\begin{align}\n",
    "&3^2 - 2 \\times 2^2 = 1 \\\\\n",
    "&2^2 - 3 \\times 1^2 = 1 \\\\\n",
    "&9^2 - 5 \\times 4^2 = 1 \\\\\n",
    "&5^2 - 6 \\times 2^2 = 1 \\\\\n",
    "&8^2 - 7 \\times 3^2 = 1\n",
    "\\end{align}\n",
    "$$\n",
    "Hence, by considering minimal solutions in $x$ for $D \\leq 7$, the largest $x$ is obtained when $D = 5$. </br>\n",
    "Find the value of $D \\leq 1000$ in minimal solutions of $x$ for which the largest value of $x$ is obtained."
   ]
  },
  {
   "cell_type": "code",
   "execution_count": 1,
   "id": "ae1a7828",
   "metadata": {},
   "outputs": [],
   "source": [
    "import numpy as np"
   ]
  },
  {
   "cell_type": "code",
   "execution_count": 2,
   "id": "c4967e85",
   "metadata": {},
   "outputs": [],
   "source": [
    "def f(y, D):\n",
    "    return np.sqrt(1 + D * y**2)"
   ]
  },
  {
   "cell_type": "code",
   "execution_count": 9,
   "id": "9d1c39e9",
   "metadata": {},
   "outputs": [],
   "source": [
    "def g(y, D):\n",
    "    return 1 + D * y**2"
   ]
  },
  {
   "cell_type": "code",
   "execution_count": 3,
   "id": "4d50d278",
   "metadata": {},
   "outputs": [],
   "source": [
    "def is_square(n, tolerance = 1e-9):\n",
    "    sqrt_n = np.sqrt(n)\n",
    "    \n",
    "    return abs(sqrt_n - round(sqrt_n)) < tolerance"
   ]
  },
  {
   "cell_type": "code",
   "execution_count": 6,
   "id": "254764d8",
   "metadata": {},
   "outputs": [],
   "source": [
    "def find_x(D):\n",
    "    y = 1\n",
    "    \n",
    "    while 1:\n",
    "\n",
    "        if f(y, D).is_integer():\n",
    "            return int(f(y, D))\n",
    "        else:\n",
    "            y += 1"
   ]
  },
  {
   "cell_type": "code",
   "execution_count": 42,
   "id": "45eed364",
   "metadata": {},
   "outputs": [],
   "source": [
    "def find_x2(D):\n",
    "    y = 1\n",
    "    \n",
    "    while 1:\n",
    "        if is_square(g(y, D)):\n",
    "            return int(f(y, D))\n",
    "        else:\n",
    "            y += 1"
   ]
  },
  {
   "cell_type": "code",
   "execution_count": 11,
   "id": "ea70f5a7",
   "metadata": {},
   "outputs": [],
   "source": [
    "def solve_pell_equation(D):\n",
    "    m, d, a = 0, 1, int(math.sqrt(D))\n",
    "    num1, num2 = 1, a\n",
    "\n",
    "    while num1 * num1 - D * num2 * num2 != 1:\n",
    "        m = d * a - m\n",
    "        d = (D - m * m) // d\n",
    "        a = (int(math.sqrt(D)) + m) // d\n",
    "        num1, num2 = num2, a * num2 + num1\n",
    "\n",
    "    return num1\n",
    "\n",
    "def find_largest_x(limit):\n",
    "    max_x, result_D = 0, 0\n",
    "    for D in range(2, limit + 1):\n",
    "        sqrt_D = int(math.sqrt(D))\n",
    "        if sqrt_D * sqrt_D == D:\n",
    "            continue  # Skip square numbers\n",
    "\n",
    "        x = solve_pell_equation(D)\n",
    "        if x > max_x:\n",
    "            max_x = x\n",
    "            result_D = D\n",
    "\n",
    "    return result_D"
   ]
  },
  {
   "cell_type": "code",
   "execution_count": null,
   "id": "1a4290ff",
   "metadata": {},
   "outputs": [],
   "source": []
  }
 ],
 "metadata": {
  "kernelspec": {
   "display_name": "Python 3 (ipykernel)",
   "language": "python",
   "name": "python3"
  },
  "language_info": {
   "codemirror_mode": {
    "name": "ipython",
    "version": 3
   },
   "file_extension": ".py",
   "mimetype": "text/x-python",
   "name": "python",
   "nbconvert_exporter": "python",
   "pygments_lexer": "ipython3",
   "version": "3.11.4"
  }
 },
 "nbformat": 4,
 "nbformat_minor": 5
}
