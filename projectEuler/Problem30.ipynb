{
 "cells": [
  {
   "cell_type": "markdown",
   "id": "b4890b3e",
   "metadata": {},
   "source": [
    "Surprisingly there are only three numbers that can be written as the sum of fourth powers of their digits:\n",
    "$$\n",
    "\\begin{align}\n",
    "1634 &= 1^4 + 6^4 + 3^4 + 4^4 \\\\\n",
    "8208 &= 8^4 + 2^4 + 0^4 + 8^4 \\\\\n",
    "9474 &= 9^4 + 4^4 + 7^4 + 4^4\n",
    "\\end{align}\n",
    "$$\n",
    "As $1 = 1^4$ is not a sum it is not included </br>\n",
    "The sum of these numbers is $1634 + 8208 + 9474 = 19316$. </br>\n",
    "Find the sum of all the numbers that can be written as the sum of fifth powers of their digits."
   ]
  },
  {
   "cell_type": "code",
   "execution_count": 20,
   "id": "53c0ffa5",
   "metadata": {},
   "outputs": [],
   "source": [
    "def find_fifth(N):\n",
    "    result = []\n",
    "    for num in range(2, N + 1):\n",
    "        num_string = str(num)\n",
    "        i = 0\n",
    "        test = 0\n",
    "        while i < len(num_string):\n",
    "            test += int(num_string[i])**5\n",
    "            i += 1\n",
    "        \n",
    "        if num == test:\n",
    "            result.append(num)\n",
    "        \n",
    "    return result"
   ]
  },
  {
   "cell_type": "code",
   "execution_count": 23,
   "id": "79f8f805",
   "metadata": {},
   "outputs": [
    {
     "data": {
      "text/plain": [
       "[4150, 4151, 54748, 92727, 93084, 194979]"
      ]
     },
     "execution_count": 23,
     "metadata": {},
     "output_type": "execute_result"
    }
   ],
   "source": [
    "find_fifth(10000000)"
   ]
  },
  {
   "cell_type": "code",
   "execution_count": 27,
   "id": "31649315",
   "metadata": {
    "scrolled": true
   },
   "outputs": [
    {
     "data": {
      "text/plain": [
       "443839"
      ]
     },
     "execution_count": 27,
     "metadata": {},
     "output_type": "execute_result"
    }
   ],
   "source": [
    "4150 + 4151 + 54748 + 92727 + 93084 + 194979"
   ]
  },
  {
   "cell_type": "markdown",
   "id": "c3eaae4a",
   "metadata": {},
   "source": [
    "**NOTE** How to find the boundary value?"
   ]
  }
 ],
 "metadata": {
  "kernelspec": {
   "display_name": "Python 3 (ipykernel)",
   "language": "python",
   "name": "python3"
  },
  "language_info": {
   "codemirror_mode": {
    "name": "ipython",
    "version": 3
   },
   "file_extension": ".py",
   "mimetype": "text/x-python",
   "name": "python",
   "nbconvert_exporter": "python",
   "pygments_lexer": "ipython3",
   "version": "3.11.4"
  }
 },
 "nbformat": 4,
 "nbformat_minor": 5
}
