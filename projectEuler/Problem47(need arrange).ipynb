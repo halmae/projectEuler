{
 "cells": [
  {
   "cell_type": "markdown",
   "id": "a391a1f8",
   "metadata": {},
   "source": [
    "# Distinct Primes Factors\n",
    "The first two consecutive numbers to have two distinct prime factors are:\n",
    "$$\n",
    "\\begin{align}\n",
    "&14 = 2 \\times 7\\\\\n",
    "&15 = 3 \\times 5\n",
    "\\end{align}\n",
    "$$\n",
    "The first three consecutive numbers to have three distinct prime factors are:\n",
    "$$\n",
    "\\begin{align}\n",
    "& 644 = 2^2 \\times 7 \\times 23 \\\\\n",
    "& 645 = 3 \\times 5 \\times 43 \\\\\n",
    "& 646 = 2 \\times 17 \\times 19.\n",
    "\\end{align}\n",
    "$$\n",
    "Find the first four consecutive integers to have four distinct prime factors each. What is the first of these numbers?"
   ]
  },
  {
   "cell_type": "code",
   "execution_count": 143,
   "id": "63f752c4",
   "metadata": {},
   "outputs": [],
   "source": [
    "import math"
   ]
  },
  {
   "cell_type": "code",
   "execution_count": 133,
   "id": "38b708cb",
   "metadata": {},
   "outputs": [],
   "source": [
    "def is_prime(num):\n",
    "    if num <= 1:\n",
    "        return False\n",
    "    elif num == 2:\n",
    "        return True\n",
    "    elif num % 2 == 0:\n",
    "        return False\n",
    "    else:\n",
    "        for i in range(3, int(num**0.5) + 1, 2):\n",
    "            if num % i == 0:\n",
    "                return False\n",
    "        return True"
   ]
  },
  {
   "cell_type": "code",
   "execution_count": 134,
   "id": "757263e8",
   "metadata": {},
   "outputs": [
    {
     "data": {
      "text/plain": [
       "False"
      ]
     },
     "execution_count": 134,
     "metadata": {},
     "output_type": "execute_result"
    }
   ],
   "source": [
    "is_prime(645)"
   ]
  },
  {
   "cell_type": "code",
   "execution_count": 159,
   "id": "12f40aec",
   "metadata": {},
   "outputs": [],
   "source": [
    "def factors(num):\n",
    "    result = []\n",
    "    \n",
    "    for i in range(2, num):\n",
    "        if is_prime(i) and num % i == 0:\n",
    "            j = 0\n",
    "            test = num\n",
    "            \n",
    "            while test % i == 0:\n",
    "                test = test // i\n",
    "                j += 1\n",
    "            \n",
    "            if i ** j == num:\n",
    "                result.append(i ** (j-1))\n",
    "            else:\n",
    "                result.append(i ** j)\n",
    "            \n",
    "    return result"
   ]
  },
  {
   "cell_type": "code",
   "execution_count": 171,
   "id": "5db8f5b8",
   "metadata": {},
   "outputs": [],
   "source": [
    "def find_consecutive(num, N):\n",
    "    test = []\n",
    "    for i in range(N):\n",
    "        if is_prime(num + i):\n",
    "            return False\n",
    "        else:\n",
    "            if len(factors(num + i)) != N:\n",
    "                return False\n",
    "            else:\n",
    "                test += factors(num + i)\n",
    "    \n",
    "    \n",
    "    if len(set(test)) == len(test):\n",
    "        return True\n",
    "    \n",
    "    return False"
   ]
  },
  {
   "cell_type": "code",
   "execution_count": 174,
   "id": "ca95e682",
   "metadata": {},
   "outputs": [
    {
     "ename": "KeyboardInterrupt",
     "evalue": "",
     "output_type": "error",
     "traceback": [
      "\u001b[0;31m---------------------------------------------------------------------------\u001b[0m",
      "\u001b[0;31mKeyboardInterrupt\u001b[0m                         Traceback (most recent call last)",
      "Cell \u001b[0;32mIn[174], line 5\u001b[0m\n\u001b[1;32m      3\u001b[0m \u001b[38;5;28;01mwhile\u001b[39;00m \u001b[38;5;241m1\u001b[39m:\n\u001b[1;32m      4\u001b[0m     num \u001b[38;5;241m+\u001b[39m\u001b[38;5;241m=\u001b[39m \u001b[38;5;241m1\u001b[39m\n\u001b[0;32m----> 5\u001b[0m     \u001b[38;5;28;01mif\u001b[39;00m \u001b[43mfind_consecutive\u001b[49m\u001b[43m(\u001b[49m\u001b[43mnum\u001b[49m\u001b[43m,\u001b[49m\u001b[43m \u001b[49m\u001b[38;5;241;43m4\u001b[39;49m\u001b[43m)\u001b[49m:\n\u001b[1;32m      6\u001b[0m         \u001b[38;5;28;01mbreak\u001b[39;00m\n",
      "Cell \u001b[0;32mIn[171], line 7\u001b[0m, in \u001b[0;36mfind_consecutive\u001b[0;34m(num, N)\u001b[0m\n\u001b[1;32m      5\u001b[0m     \u001b[38;5;28;01mreturn\u001b[39;00m \u001b[38;5;28;01mFalse\u001b[39;00m\n\u001b[1;32m      6\u001b[0m \u001b[38;5;28;01melse\u001b[39;00m:\n\u001b[0;32m----> 7\u001b[0m     \u001b[38;5;28;01mif\u001b[39;00m \u001b[38;5;28mlen\u001b[39m(\u001b[43mfactors\u001b[49m\u001b[43m(\u001b[49m\u001b[43mnum\u001b[49m\u001b[43m \u001b[49m\u001b[38;5;241;43m+\u001b[39;49m\u001b[43m \u001b[49m\u001b[43mi\u001b[49m\u001b[43m)\u001b[49m) \u001b[38;5;241m!=\u001b[39m N:\n\u001b[1;32m      8\u001b[0m         \u001b[38;5;28;01mreturn\u001b[39;00m \u001b[38;5;28;01mFalse\u001b[39;00m\n\u001b[1;32m      9\u001b[0m     \u001b[38;5;28;01melse\u001b[39;00m:\n",
      "Cell \u001b[0;32mIn[159], line 5\u001b[0m, in \u001b[0;36mfactors\u001b[0;34m(num)\u001b[0m\n\u001b[1;32m      2\u001b[0m result \u001b[38;5;241m=\u001b[39m []\n\u001b[1;32m      4\u001b[0m \u001b[38;5;28;01mfor\u001b[39;00m i \u001b[38;5;129;01min\u001b[39;00m \u001b[38;5;28mrange\u001b[39m(\u001b[38;5;241m2\u001b[39m, num):\n\u001b[0;32m----> 5\u001b[0m     \u001b[38;5;28;01mif\u001b[39;00m \u001b[43mis_prime\u001b[49m\u001b[43m(\u001b[49m\u001b[43mi\u001b[49m\u001b[43m)\u001b[49m \u001b[38;5;129;01mand\u001b[39;00m num \u001b[38;5;241m%\u001b[39m i \u001b[38;5;241m==\u001b[39m \u001b[38;5;241m0\u001b[39m:\n\u001b[1;32m      6\u001b[0m         j \u001b[38;5;241m=\u001b[39m \u001b[38;5;241m0\u001b[39m\n\u001b[1;32m      7\u001b[0m         test \u001b[38;5;241m=\u001b[39m num\n",
      "Cell \u001b[0;32mIn[133], line 10\u001b[0m, in \u001b[0;36mis_prime\u001b[0;34m(num)\u001b[0m\n\u001b[1;32m      8\u001b[0m \u001b[38;5;28;01melse\u001b[39;00m:\n\u001b[1;32m      9\u001b[0m     \u001b[38;5;28;01mfor\u001b[39;00m i \u001b[38;5;129;01min\u001b[39;00m \u001b[38;5;28mrange\u001b[39m(\u001b[38;5;241m3\u001b[39m, \u001b[38;5;28mint\u001b[39m(num\u001b[38;5;241m*\u001b[39m\u001b[38;5;241m*\u001b[39m\u001b[38;5;241m0.5\u001b[39m) \u001b[38;5;241m+\u001b[39m \u001b[38;5;241m1\u001b[39m, \u001b[38;5;241m2\u001b[39m):\n\u001b[0;32m---> 10\u001b[0m         \u001b[38;5;28;01mif\u001b[39;00m num \u001b[38;5;241m%\u001b[39m i \u001b[38;5;241m==\u001b[39m \u001b[38;5;241m0\u001b[39m:\n\u001b[1;32m     11\u001b[0m             \u001b[38;5;28;01mreturn\u001b[39;00m \u001b[38;5;28;01mFalse\u001b[39;00m\n\u001b[1;32m     12\u001b[0m     \u001b[38;5;28;01mreturn\u001b[39;00m \u001b[38;5;28;01mTrue\u001b[39;00m\n",
      "\u001b[0;31mKeyboardInterrupt\u001b[0m: "
     ]
    }
   ],
   "source": [
    "num = 2\n",
    "\n",
    "while 1:\n",
    "    num += 1\n",
    "    if find_consecutive(num, 4):\n",
    "        break"
   ]
  },
  {
   "cell_type": "code",
   "execution_count": 170,
   "id": "1a1a5d63",
   "metadata": {},
   "outputs": [
    {
     "name": "stdout",
     "output_type": "stream",
     "text": [
      "The first of these numbers is: 134043\n"
     ]
    }
   ],
   "source": [
    "def prime_factors_count(n):\n",
    "    factors = set()\n",
    "    i = 2\n",
    "    while i * i <= n:\n",
    "        while n % i == 0:\n",
    "            factors.add(i)\n",
    "            n //= i\n",
    "        i += 1\n",
    "    if n > 1:\n",
    "        factors.add(n)\n",
    "    return len(factors)\n",
    "\n",
    "def find_consecutive_integers(target_consecutive, target_factors):\n",
    "    consecutive_count = 0\n",
    "    current_number = 1\n",
    "\n",
    "    while True:\n",
    "        if prime_factors_count(current_number) == target_factors:\n",
    "            consecutive_count += 1\n",
    "            if consecutive_count == target_consecutive:\n",
    "                return current_number - target_consecutive + 1\n",
    "        else:\n",
    "            consecutive_count = 0\n",
    "\n",
    "        current_number += 1\n",
    "\n",
    "result = find_consecutive_integers(4, 4)\n",
    "print(f\"The first of these numbers is: {result}\")"
   ]
  },
  {
   "cell_type": "code",
   "execution_count": null,
   "id": "882f02ae",
   "metadata": {},
   "outputs": [],
   "source": []
  }
 ],
 "metadata": {
  "kernelspec": {
   "display_name": "Python 3 (ipykernel)",
   "language": "python",
   "name": "python3"
  },
  "language_info": {
   "codemirror_mode": {
    "name": "ipython",
    "version": 3
   },
   "file_extension": ".py",
   "mimetype": "text/x-python",
   "name": "python",
   "nbconvert_exporter": "python",
   "pygments_lexer": "ipython3",
   "version": "3.11.4"
  }
 },
 "nbformat": 4,
 "nbformat_minor": 5
}
