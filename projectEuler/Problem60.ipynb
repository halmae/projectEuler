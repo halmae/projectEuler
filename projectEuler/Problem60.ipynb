{
 "cells": [
  {
   "cell_type": "markdown",
   "id": "0dc8fee9",
   "metadata": {},
   "source": [
    "The primes $3$, $7$, $109$, and $673$, are quite remarkable. By taking any two primes and concatenating them in any order the result will always be prime. For example, taking $7$ and $109$, both $7109$ and $1097$ are prime. The sum of these four primes, $792$, represents the lowest sum for a set of four primes with this property. </br>\n",
    "\n",
    "Find the lowest sum for a set of five primes for which any two primes concatenate to produce another prime."
   ]
  },
  {
   "cell_type": "code",
   "execution_count": 2,
   "id": "8312224e",
   "metadata": {},
   "outputs": [],
   "source": [
    "from itertools import combinations"
   ]
  },
  {
   "cell_type": "code",
   "execution_count": 3,
   "id": "944d8a9a",
   "metadata": {},
   "outputs": [],
   "source": [
    "def is_prime(num):\n",
    "    if num <= 1: return False\n",
    "    if num == 2: return True\n",
    "    elif num % 2 == 0: return False\n",
    "    else:\n",
    "        for i in range(3, int(num**0.5) + 1, 2):\n",
    "            if num % i == 0: return False\n",
    "        return True"
   ]
  },
  {
   "cell_type": "code",
   "execution_count": 4,
   "id": "6a8f6401",
   "metadata": {},
   "outputs": [],
   "source": [
    "def concatenating(num1, num2):\n",
    "    num1_str = str(num1)\n",
    "    num2_str = str(num2)\n",
    "    \n",
    "    result = num1_str + num2_str\n",
    "    return int(result)"
   ]
  },
  {
   "cell_type": "code",
   "execution_count": 5,
   "id": "69711c4b",
   "metadata": {},
   "outputs": [],
   "source": [
    "def double_prime(num1, num2):\n",
    "    if not is_prime(num1) or not is_prime(num2):\n",
    "        return False\n",
    "    else:\n",
    "        check1 = concatenating(num1, num2)\n",
    "        check2 = concatenating(num2, num1)\n",
    "        if is_prime(check1) and is_prime(check2):\n",
    "            return True\n",
    "        else:\n",
    "            return False"
   ]
  },
  {
   "cell_type": "code",
   "execution_count": 32,
   "id": "c2176802",
   "metadata": {},
   "outputs": [],
   "source": [
    "def triple_prime(num1, num2, num3):\n",
    "    if not is_prime(num1) or not is_prime(num2) or not is_prime(num3):\n",
    "        return False\n",
    "    else:\n",
    "        check1 = concatenating(num1, num2)\n",
    "        check2 = concatenating(num2, num1)\n",
    "        check3 = concatenating(num2, num3)\n",
    "        check4 = concatenating(num3, num2)\n",
    "        check5 = concatenating(num3, num1)\n",
    "        check6 = concatenating(num1, num3)\n",
    "        \n",
    "        if check1 * check2 * check3 * check4 * check5 * check6:\n",
    "            return True\n",
    "        else:\n",
    "            return False"
   ]
  },
  {
   "cell_type": "code",
   "execution_count": 36,
   "id": "fc9e5d54",
   "metadata": {},
   "outputs": [],
   "source": [
    "def pair_set(num, bound):\n",
    "    result = set()\n",
    "    \n",
    "    if not is_prime(num):\n",
    "        False\n",
    "    \n",
    "    for i in range(2, bound + 1):\n",
    "        if not is_prime(i):\n",
    "            continue\n",
    "        else:\n",
    "            if double_prime(num, i):\n",
    "                result.add(i)\n",
    "    \n",
    "    return result"
   ]
  },
  {
   "cell_type": "code",
   "execution_count": 37,
   "id": "3eafcd59",
   "metadata": {},
   "outputs": [
    {
     "data": {
      "text/plain": [
       "{7,\n",
       " 11,\n",
       " 17,\n",
       " 31,\n",
       " 37,\n",
       " 59,\n",
       " 67,\n",
       " 73,\n",
       " 109,\n",
       " 137,\n",
       " 191,\n",
       " 229,\n",
       " 271,\n",
       " 331,\n",
       " 359,\n",
       " 373,\n",
       " 449,\n",
       " 467,\n",
       " 499,\n",
       " 541,\n",
       " 557,\n",
       " 607,\n",
       " 613,\n",
       " 617,\n",
       " 673,\n",
       " 701,\n",
       " 719,\n",
       " 733,\n",
       " 739,\n",
       " 823,\n",
       " 929,\n",
       " 947}"
      ]
     },
     "execution_count": 37,
     "metadata": {},
     "output_type": "execute_result"
    }
   ],
   "source": [
    "pair_set(3, 10**3)"
   ]
  },
  {
   "cell_type": "code",
   "execution_count": 17,
   "id": "a6cb6941",
   "metadata": {},
   "outputs": [],
   "source": [
    "def find_prime_lst():\n",
    "    prime_numbers = []\n",
    "    for num in range(10**5):\n",
    "        if is_prime(num):\n",
    "            prime_numbers.append(num)\n",
    "            \n",
    "    for prime in prime_numbers:\n",
    "        a = double_prime(prime, 3)\n",
    "        b = double_prime(prime, 7)\n",
    "        c = double_prime(prime, 109)\n",
    "        d = double_prime(prime, 673)\n",
    "        if a and b and c and d:\n",
    "            return prime"
   ]
  },
  {
   "cell_type": "code",
   "execution_count": 18,
   "id": "fbe582ef",
   "metadata": {},
   "outputs": [],
   "source": [
    "find_prime_lst()"
   ]
  },
  {
   "cell_type": "code",
   "execution_count": 20,
   "id": "bd7e798f",
   "metadata": {},
   "outputs": [],
   "source": [
    "a = set()"
   ]
  },
  {
   "cell_type": "code",
   "execution_count": 22,
   "id": "76a5e084",
   "metadata": {},
   "outputs": [],
   "source": [
    "a.add(3)"
   ]
  },
  {
   "cell_type": "code",
   "execution_count": 23,
   "id": "eb27e3eb",
   "metadata": {},
   "outputs": [
    {
     "data": {
      "text/plain": [
       "{3}"
      ]
     },
     "execution_count": 23,
     "metadata": {},
     "output_type": "execute_result"
    }
   ],
   "source": [
    "a"
   ]
  },
  {
   "cell_type": "code",
   "execution_count": 24,
   "id": "7988dbd9",
   "metadata": {},
   "outputs": [
    {
     "data": {
      "text/plain": [
       "set"
      ]
     },
     "execution_count": 24,
     "metadata": {},
     "output_type": "execute_result"
    }
   ],
   "source": [
    "type(a)"
   ]
  },
  {
   "cell_type": "code",
   "execution_count": 30,
   "id": "6df22afc",
   "metadata": {},
   "outputs": [
    {
     "data": {
      "text/plain": [
       "1"
      ]
     },
     "execution_count": 30,
     "metadata": {},
     "output_type": "execute_result"
    }
   ],
   "source": [
    "True * True"
   ]
  },
  {
   "cell_type": "code",
   "execution_count": 31,
   "id": "2f381358",
   "metadata": {},
   "outputs": [
    {
     "data": {
      "text/plain": [
       "0"
      ]
     },
     "execution_count": 31,
     "metadata": {},
     "output_type": "execute_result"
    }
   ],
   "source": [
    "True * False"
   ]
  },
  {
   "cell_type": "code",
   "execution_count": null,
   "id": "2c5bab2c",
   "metadata": {},
   "outputs": [],
   "source": []
  }
 ],
 "metadata": {
  "kernelspec": {
   "display_name": "Python 3 (ipykernel)",
   "language": "python",
   "name": "python3"
  },
  "language_info": {
   "codemirror_mode": {
    "name": "ipython",
    "version": 3
   },
   "file_extension": ".py",
   "mimetype": "text/x-python",
   "name": "python",
   "nbconvert_exporter": "python",
   "pygments_lexer": "ipython3",
   "version": "3.11.4"
  }
 },
 "nbformat": 4,
 "nbformat_minor": 5
}
