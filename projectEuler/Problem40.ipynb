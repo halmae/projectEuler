{
 "cells": [
  {
   "cell_type": "markdown",
   "id": "5bb3ac0f",
   "metadata": {},
   "source": [
    "# Champernowne's Constant\n",
    "An irrational decimal fraction is created by concatenating the postiive integers:\n",
    "$$\n",
    "\\begin{align}\n",
    "0.12345678910\\mathbf{1}112131415161718192021\\cdots\n",
    "\\end{align}\n",
    "$$\n",
    "It can be seen that the $12$th digit of the fraction part is $1$. </br>\n",
    "\n",
    "If $d_n$ represents the $n$th digit of the fractional part, find the value of the following expression.\n",
    "$$\n",
    "\\begin{align}\n",
    "d_1 \\times d_{10} \\times d_{100} \\times d_{1000} \\times d_{10000} \\times d_{100000} \\times d_{1000000}\n",
    "\\end{align}\n",
    "$$"
   ]
  },
  {
   "cell_type": "code",
   "execution_count": 12,
   "id": "bba02a06",
   "metadata": {},
   "outputs": [],
   "source": [
    "irr = ''\n",
    "result = 1\n",
    "\n",
    "i = 0\n",
    "num = 1\n",
    "while 1:\n",
    "    while len(irr) < 10 ** i:\n",
    "        irr += str(num)\n",
    "        num +=1\n",
    "    \n",
    "    result *= int(irr[10 ** i - 1])\n",
    "    \n",
    "    i += 1\n",
    "    \n",
    "    if len(irr) >= 10**6:\n",
    "        break"
   ]
  },
  {
   "cell_type": "code",
   "execution_count": 13,
   "id": "adb84e21",
   "metadata": {},
   "outputs": [
    {
     "data": {
      "text/plain": [
       "210"
      ]
     },
     "execution_count": 13,
     "metadata": {},
     "output_type": "execute_result"
    }
   ],
   "source": [
    "result"
   ]
  }
 ],
 "metadata": {
  "kernelspec": {
   "display_name": "Python 3 (ipykernel)",
   "language": "python",
   "name": "python3"
  },
  "language_info": {
   "codemirror_mode": {
    "name": "ipython",
    "version": 3
   },
   "file_extension": ".py",
   "mimetype": "text/x-python",
   "name": "python",
   "nbconvert_exporter": "python",
   "pygments_lexer": "ipython3",
   "version": "3.11.4"
  }
 },
 "nbformat": 4,
 "nbformat_minor": 5
}
