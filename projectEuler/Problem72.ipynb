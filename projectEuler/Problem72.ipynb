{
 "cells": [
  {
   "cell_type": "markdown",
   "id": "94252d28",
   "metadata": {},
   "source": [
    "# Counting Fractions\n",
    "\n",
    "Consider the fracdtion, $\\frac{n}{d}$, where $n$ and $d$ are positive integers. If $n < d$ and $\\text{HCF}(n, d) = 1$, it is called a reduced proper fraction.\n",
    "\n",
    "If we list the set of reduced proper fractions for $d \\leq 8$ in ascending order of size, we get:\n",
    "$$\n",
    "\\begin{align}\n",
    "    \\frac{1}{8},\\frac{1}{7},\\frac{1}{6},\\frac{1}{5},\\frac{1}{4},\\frac{2}{7},\\frac{1}{3},\\frac{3}{8},\\frac{2}{5},\\frac{3}{7},\\frac{1}{2},\\frac{4}{7},\\frac{3}{5},\\frac{5}{8},\\frac{2}{3},\\frac{5}{7},\\frac{3}{4}, \\frac{4}{5}, \\frac{5}{6}, \\frac{6}{7}, \\frac{7}{8}\n",
    "\\end{align}\n",
    "$$\n",
    "\n",
    "It can be seen that there are $21$ elements in this set.\n",
    "\n",
    "How many elements would be contained in the set of reduced proper fractions for $d \\leq 1 \\, 000 \\, 000$?"
   ]
  },
  {
   "cell_type": "code",
   "execution_count": 19,
   "id": "e8da8ac7",
   "metadata": {},
   "outputs": [],
   "source": [
    "from tqdm import tqdm"
   ]
  },
  {
   "cell_type": "code",
   "execution_count": 23,
   "id": "ad33507b",
   "metadata": {},
   "outputs": [],
   "source": [
    "def euler(num):\n",
    "    cnt = num\n",
    "    p = 2\n",
    "    \n",
    "    while p * p <= num:\n",
    "        if num % p == 0:\n",
    "            cnt -= cnt // p\n",
    "            while num % p == 0:\n",
    "                num //= p\n",
    "                \n",
    "        p += 1\n",
    "    \n",
    "    if num > 1:\n",
    "        cnt -= cnt // num\n",
    "        \n",
    "    return cnt"
   ]
  },
  {
   "cell_type": "code",
   "execution_count": 26,
   "id": "bc954e76",
   "metadata": {},
   "outputs": [],
   "source": [
    "def count_reduced_fractions(bound):\n",
    "    cnt = 0\n",
    "    \n",
    "    for denomi in range(2, bound + 1):\n",
    "        cnt += euler(denomi)\n",
    "    \n",
    "    return cnt"
   ]
  },
  {
   "cell_type": "code",
   "execution_count": 27,
   "id": "bab5a2ec",
   "metadata": {},
   "outputs": [
    {
     "data": {
      "text/plain": [
       "303963552391"
      ]
     },
     "execution_count": 27,
     "metadata": {},
     "output_type": "execute_result"
    }
   ],
   "source": [
    "count_reduced_fractions(bound)"
   ]
  }
 ],
 "metadata": {
  "kernelspec": {
   "display_name": "Python 3 (ipykernel)",
   "language": "python",
   "name": "python3"
  },
  "language_info": {
   "codemirror_mode": {
    "name": "ipython",
    "version": 3
   },
   "file_extension": ".py",
   "mimetype": "text/x-python",
   "name": "python",
   "nbconvert_exporter": "python",
   "pygments_lexer": "ipython3",
   "version": "3.11.4"
  }
 },
 "nbformat": 4,
 "nbformat_minor": 5
}
