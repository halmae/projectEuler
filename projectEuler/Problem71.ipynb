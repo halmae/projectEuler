{
 "cells": [
  {
   "cell_type": "markdown",
   "id": "abd117d9",
   "metadata": {},
   "source": [
    "# Ordered Fractions\n",
    "\n",
    "Consider the fraction, $\\frac{n}{d}$, where $n$ and $d$ are positive integers. If $n < d$ and $\\text{HCF}(n,\\,d) = 1$, it is called a reduced proper fraction. \n",
    "\n",
    "If we list the set of reduced proper fractions for $d \\leq 8$ in ascending order of size, we get:\n",
    "$$\n",
    "\\frac{1}{8},\\,\\frac{1}{7},\\,\\frac{1}{6},\\,\\frac{1}{5},\\,\\frac{1}{4},\\,\\frac{2}{7},\\,\\frac{1}{3},\\,\\frac{3}{8},\\,\\frac{2}{5},\\,\\frac{3}{7},\\,\\frac{1}{2},\\,\\frac{4}{7},\\,\\frac{3}{5},\\,\\frac{5}{8},\\,\\frac{2}{3},\\,\\frac{5}{7},\\,\\frac{3}{4},\\,\\frac{4}{5},\\,\\frac{5}{6},\\,\\frac{6}{7},\\,\\frac{7}{8}\n",
    "$$\n",
    "\n",
    "It can be seen that $\\frac{2}{5}$ is the fraction immediately to the left of $\\frac{3}{7}$. </br>\n",
    "\n",
    "By listing the set of reduced proper fractions for $d \\leq 1 \\, 000 \\, 000$ in ascending order of size, find the numerator of the fraction immediately to the left of $\\frac{3}{7}$."
   ]
  },
  {
   "cell_type": "code",
   "execution_count": null,
   "id": "1bd8de30",
   "metadata": {},
   "outputs": [],
   "source": []
  }
 ],
 "metadata": {
  "kernelspec": {
   "display_name": "Python 3 (ipykernel)",
   "language": "python",
   "name": "python3"
  },
  "language_info": {
   "codemirror_mode": {
    "name": "ipython",
    "version": 3
   },
   "file_extension": ".py",
   "mimetype": "text/x-python",
   "name": "python",
   "nbconvert_exporter": "python",
   "pygments_lexer": "ipython3",
   "version": "3.11.4"
  }
 },
 "nbformat": 4,
 "nbformat_minor": 5
}
