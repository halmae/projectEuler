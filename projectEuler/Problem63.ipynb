{
 "cells": [
  {
   "cell_type": "markdown",
   "id": "c742fada",
   "metadata": {},
   "source": [
    "# Powerful Digit Counts\n",
    "The $5$-digit number, $16807 = 7^5$, is also a fifth power. Similarly, the $9$-digit number, $134217728 = 8^9$, is a ninth power.</br>\n",
    "How many $n$-digit positive integers exist which are also an $n$th power?"
   ]
  },
  {
   "cell_type": "code",
   "execution_count": 7,
   "id": "bd9a1644",
   "metadata": {},
   "outputs": [],
   "source": [
    "def find_digit_counts():\n",
    "    result = 9   # 1-digit counts\n",
    "    \n",
    "    N = 2\n",
    "    a = (10**(N-1))**(1/2)\n",
    "    result += int(10 - a)\n",
    "    \n",
    "    while a < 9:\n",
    "        N += 1\n",
    "        a = (10**(N-1))**(1/N)\n",
    "        result += int(10 - a)\n",
    "        \n",
    "    return result"
   ]
  },
  {
   "cell_type": "code",
   "execution_count": 8,
   "id": "11e3d439",
   "metadata": {},
   "outputs": [
    {
     "data": {
      "text/plain": [
       "49"
      ]
     },
     "execution_count": 8,
     "metadata": {},
     "output_type": "execute_result"
    }
   ],
   "source": [
    "find_digit_counts()"
   ]
  }
 ],
 "metadata": {
  "kernelspec": {
   "display_name": "Python 3 (ipykernel)",
   "language": "python",
   "name": "python3"
  },
  "language_info": {
   "codemirror_mode": {
    "name": "ipython",
    "version": 3
   },
   "file_extension": ".py",
   "mimetype": "text/x-python",
   "name": "python",
   "nbconvert_exporter": "python",
   "pygments_lexer": "ipython3",
   "version": "3.11.4"
  }
 },
 "nbformat": 4,
 "nbformat_minor": 5
}
