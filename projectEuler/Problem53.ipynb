{
 "cells": [
  {
   "cell_type": "markdown",
   "id": "f56e8028",
   "metadata": {},
   "source": [
    "# Combinatoric Selections\n",
    "There are exactly ten ways of selecting three from five, $12345$:\n",
    "$$\n",
    "\\begin{align}\n",
    "123, 124, 125, 134, 135, 145, 234, 235, 245, \\text{ and } 345\n",
    "\\end{align}\n",
    "$$\n",
    "In combinatorics, we use the notation, $\\binom{5}{3} = 10$. </br>\n",
    "\n",
    "In general, $\\binom{n}{r} = \\frac{n!}{r!(n-r)!}$, wehre $r \\leq n, \\, n! = n \\times (n - 1) \\times \\ldots \\times 3 \\times 2 \\times 1$, and $0! = 1$. </br>\n",
    "\n",
    "It is not until $n = 23$, that a value exceeds one-million: $\\binom{23}{10} = 1144066$. </br>\n",
    "\n",
    "How many, not necessarily distinct, values of $\\binom{n}{r}$ for $1 \\leq n \\leq 100$, are greater than one-million?"
   ]
  },
  {
   "cell_type": "code",
   "execution_count": 15,
   "id": "d1b2d99a",
   "metadata": {},
   "outputs": [],
   "source": [
    "from scipy.special import comb\n",
    "\n",
    "count = 0\n",
    "\n",
    "\n",
    "for n in range(1, 100 + 1):\n",
    "    for k in range(1, n):\n",
    "        sample = comb(n, k)\n",
    "        if sample > 10 ** 6:\n",
    "            count += 1"
   ]
  },
  {
   "cell_type": "code",
   "execution_count": 16,
   "id": "c22a2d0a",
   "metadata": {},
   "outputs": [
    {
     "data": {
      "text/plain": [
       "4075"
      ]
     },
     "execution_count": 16,
     "metadata": {},
     "output_type": "execute_result"
    }
   ],
   "source": [
    "count"
   ]
  }
 ],
 "metadata": {
  "kernelspec": {
   "display_name": "Python 3 (ipykernel)",
   "language": "python",
   "name": "python3"
  },
  "language_info": {
   "codemirror_mode": {
    "name": "ipython",
    "version": 3
   },
   "file_extension": ".py",
   "mimetype": "text/x-python",
   "name": "python",
   "nbconvert_exporter": "python",
   "pygments_lexer": "ipython3",
   "version": "3.11.4"
  }
 },
 "nbformat": 4,
 "nbformat_minor": 5
}
