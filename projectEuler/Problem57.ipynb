{
 "cells": [
  {
   "cell_type": "markdown",
   "id": "57aff223",
   "metadata": {},
   "source": [
    "# Square Root Convergents\n",
    "\n",
    "It is possible to show that the square root of two can be expressed as an infinite continued fraction.\n",
    "$$\n",
    "\\begin{align}\n",
    "\\sqrt{2} = 1 + \\frac{1}{2 + \\frac{1}{2 + \\frac{1}{2 + \\cdots}}}\n",
    "\\end{align}\n",
    "$$\n",
    "By expanding this for the first four iterations, we get:\n",
    "$$\n",
    "\\begin{eqnarray}\n",
    "& 1 + \\frac{1}{2} = \\frac{3}{2} = 1.5 \\\\\n",
    "& 1 + \\frac{1}{2 + \\frac{1}{2}} = \\frac{7}{5} = 1.4 \\\\\n",
    "& 1 + \\frac{1}{2 + \\frac{1}{2 + \\frac{1}{2}}} = \\frac{17}{12} = 1.41666\\ldots \\\\\n",
    "& 1 + \\frac{1}{2 + \\frac{1}{2 + \\frac{1}{2 + \\frac{1}{2}}}} = \\frac{41}{28} = 1.41379 \\ldots\n",
    "\\end{eqnarray}\n",
    "$$\n",
    "\n",
    "The next three expansions are $\\frac{99}{70}$, $\\frac{239}{169}$, and $\\frac{577}{408}$, but the eighth expansion, $\\frac{1393}{985}$, is the first example where the number of digits in the numerator exceeds the number of digits in the denominator. </br>\n",
    "\n",
    "In the first one-thousand expansions, how many fractions contain a numerator with more digits than the denominator?"
   ]
  },
  {
   "cell_type": "code",
   "execution_count": 9,
   "id": "bb6ad3d4",
   "metadata": {},
   "outputs": [],
   "source": [
    "def f(fraction):\n",
    "    numerator, denominator = fraction\n",
    "    \n",
    "    new_denominator = denominator + numerator\n",
    "    new_numerator = denominator + new_denominator\n",
    "    return new_numerator, new_denominator"
   ]
  },
  {
   "cell_type": "code",
   "execution_count": 12,
   "id": "6cd0d423",
   "metadata": {},
   "outputs": [],
   "source": [
    "result = 0\n",
    "\n",
    "cnt = 10**3\n",
    "\n",
    "numerator = 3\n",
    "denominator = 2\n",
    "\n",
    "for i in range(cnt):\n",
    "    numerator, denominator = f([numerator, denominator])\n",
    "    if len(str(numerator)) > len(str(denominator)):\n",
    "        result += 1"
   ]
  },
  {
   "cell_type": "code",
   "execution_count": 13,
   "id": "d0bde6bc",
   "metadata": {},
   "outputs": [
    {
     "data": {
      "text/plain": [
       "153"
      ]
     },
     "execution_count": 13,
     "metadata": {},
     "output_type": "execute_result"
    }
   ],
   "source": [
    "result"
   ]
  }
 ],
 "metadata": {
  "kernelspec": {
   "display_name": "Python 3 (ipykernel)",
   "language": "python",
   "name": "python3"
  },
  "language_info": {
   "codemirror_mode": {
    "name": "ipython",
    "version": 3
   },
   "file_extension": ".py",
   "mimetype": "text/x-python",
   "name": "python",
   "nbconvert_exporter": "python",
   "pygments_lexer": "ipython3",
   "version": "3.11.4"
  }
 },
 "nbformat": 4,
 "nbformat_minor": 5
}
