{
 "cells": [
  {
   "cell_type": "markdown",
   "id": "9cdbec77",
   "metadata": {},
   "source": [
    "The sum of the primes below $10$ is $2 + 3 + 5 + 7 = 17$</br>\n",
    "Find the sum of all the primes below two million."
   ]
  },
  {
   "cell_type": "code",
   "execution_count": 4,
   "id": "698a7b33",
   "metadata": {},
   "outputs": [],
   "source": [
    "def is_prime(N):\n",
    "    if N == 2 : return True\n",
    "    elif N % 2 == 0: return False\n",
    "    for i in range(3, int(N**0.5) + 1, 2):\n",
    "        if N % i == 0: return False\n",
    "    return True\n",
    "\n",
    "def prime_sum(N):\n",
    "    result = 0\n",
    "    for num in range(2, N+1):\n",
    "        if is_prime(num):\n",
    "            result += num\n",
    "    return result"
   ]
  },
  {
   "cell_type": "code",
   "execution_count": 5,
   "id": "2ca0a936",
   "metadata": {},
   "outputs": [
    {
     "data": {
      "text/plain": [
       "17"
      ]
     },
     "execution_count": 5,
     "metadata": {},
     "output_type": "execute_result"
    }
   ],
   "source": [
    "prime_sum(10)"
   ]
  },
  {
   "cell_type": "code",
   "execution_count": 6,
   "id": "5cde78ef",
   "metadata": {},
   "outputs": [
    {
     "data": {
      "text/plain": [
       "142913828922"
      ]
     },
     "execution_count": 6,
     "metadata": {},
     "output_type": "execute_result"
    }
   ],
   "source": [
    "prime_sum(2 * 10**6)"
   ]
  },
  {
   "cell_type": "code",
   "execution_count": null,
   "id": "a9467b66",
   "metadata": {},
   "outputs": [],
   "source": []
  }
 ],
 "metadata": {
  "kernelspec": {
   "display_name": "Python 3 (ipykernel)",
   "language": "python",
   "name": "python3"
  },
  "language_info": {
   "codemirror_mode": {
    "name": "ipython",
    "version": 3
   },
   "file_extension": ".py",
   "mimetype": "text/x-python",
   "name": "python",
   "nbconvert_exporter": "python",
   "pygments_lexer": "ipython3",
   "version": "3.11.4"
  }
 },
 "nbformat": 4,
 "nbformat_minor": 5
}
