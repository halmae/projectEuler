{
 "cells": [
  {
   "cell_type": "markdown",
   "id": "2c33e25a",
   "metadata": {},
   "source": [
    "# Spiral Primes\n",
    "\n",
    "Starting with $1$ and spiralling anticlockwise in the following way, a square spiral with side length $7$ is formed.\n",
    "$$\n",
    "\\begin{align}\n",
    "\\begin{array}{ccccccc}\n",
    "37 & 36 & 35 & 34 & 33 & 32 & 31 \\\\\n",
    "38 & 17 & 16 & 15 & 14 & 13 & 30 \\\\\n",
    "39 & 18 & 5 & 4 & 3 & 12 & 29 \\\\\n",
    "40 & 19 & 6 & 1 & 2 & 11 & 28 \\\\\n",
    "41 & 20 & 7 & 8 & 9 & 10 & 27 \\\\\n",
    "42 & 21 & 22 & 23 & 24 & 25 & 26 \\\\\n",
    "43 & 44 & 45 & 46 & 47 & 48 & 49\n",
    "\\end{array}\n",
    "\\end{align}\n",
    "$$\n",
    "It is interesting to note that the odd squares lie along the bottom right diagonal, but what is more interesting is that $8$ out of the $13$ numbers lying along both diagonals are prime; that is, a ratio of $8 / 13 \\approx 62 \\%$. </br>\n",
    "\n",
    "If one complete new layer is wrapped around the spiral above, a square spiral with side length $9$ will be formed. If this process is continued, what is the side length of the square spiral for which the ratio of primes along both diagonals first falls below $10\\%$?"
   ]
  },
  {
   "cell_type": "code",
   "execution_count": 27,
   "id": "8db6d797",
   "metadata": {},
   "outputs": [],
   "source": [
    "import numpy as np"
   ]
  },
  {
   "cell_type": "code",
   "execution_count": 53,
   "id": "d670b8e5",
   "metadata": {},
   "outputs": [],
   "source": [
    "def is_prime(num):\n",
    "    if num <= 1: return False\n",
    "    elif num == 2: return True\n",
    "    elif num % 2 ==0: return False\n",
    "    else:\n",
    "        for i in range(3, int(num**0.5) + 1, 2):\n",
    "            if num % i == 0: return False\n",
    "        return True"
   ]
  },
  {
   "cell_type": "code",
   "execution_count": 8,
   "id": "55d7c368",
   "metadata": {},
   "outputs": [],
   "source": [
    "def RT(cycle):\n",
    "    return (2 * cycle - 1)**2 + 2 * cycle\n",
    "    \n",
    "def LT(cycle):\n",
    "    return RT(cycle) + 2 * cycle\n",
    "\n",
    "def LD(cycle):\n",
    "    return LT(cycle) + 2 * cycle\n",
    "\n",
    "def RD(cycle):\n",
    "    return (2 * cycle + 1)**2"
   ]
  },
  {
   "cell_type": "code",
   "execution_count": 50,
   "id": "1236599e",
   "metadata": {},
   "outputs": [],
   "source": [
    "def prime_ratio(bound):\n",
    "    prime_cnt = 0\n",
    "    cycle = 0\n",
    "    \n",
    "    while 1:\n",
    "        cycle += 1\n",
    "        if is_prime(RT(cycle)):\n",
    "            prime_cnt += 1\n",
    "        if is_prime(LT(cycle)):\n",
    "            prime_cnt += 1\n",
    "        if is_prime(LD(cycle)):\n",
    "            prime_cnt += 1\n",
    "        if is_prime(RD(cycle)):\n",
    "            prime_cnt += 1\n",
    "        \n",
    "        ratio = prime_cnt / (1 + 4 * cycle)\n",
    "        \n",
    "        if ratio < bound:\n",
    "            return 2*cycle + 1"
   ]
  },
  {
   "cell_type": "code",
   "execution_count": 51,
   "id": "366ba7f8",
   "metadata": {},
   "outputs": [
    {
     "data": {
      "text/plain": [
       "26241"
      ]
     },
     "execution_count": 51,
     "metadata": {},
     "output_type": "execute_result"
    }
   ],
   "source": [
    "prime_ratio(0.1)"
   ]
  }
 ],
 "metadata": {
  "kernelspec": {
   "display_name": "Python 3 (ipykernel)",
   "language": "python",
   "name": "python3"
  },
  "language_info": {
   "codemirror_mode": {
    "name": "ipython",
    "version": 3
   },
   "file_extension": ".py",
   "mimetype": "text/x-python",
   "name": "python",
   "nbconvert_exporter": "python",
   "pygments_lexer": "ipython3",
   "version": "3.11.4"
  }
 },
 "nbformat": 4,
 "nbformat_minor": 5
}
