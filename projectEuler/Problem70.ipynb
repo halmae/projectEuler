{
 "cells": [
  {
   "cell_type": "markdown",
   "id": "434e2c9e",
   "metadata": {},
   "source": [
    "# Totient Permutation\n",
    "\n",
    "Euler's totient function, $\\phi(n)$ [sometimes called the phi function], is used to determine the number of positive numbers less than or equal to $n$ which are relatively prime to $n$. For example, $1,\\,2,\\,4,\\,5,\\,7,$ and $8$ are all less than nine and relatively prime to nine, $\\phi(9) = 6$.\n",
    "\n",
    "The number $1$ is considered to be relatively prime to every positive number, so $\\phi(1) = 1$. \n",
    "\n",
    "Interestingly, $\\phi(87109) = 79180$, and it can be seen that $87109$ is a permutation of $79180$. \n",
    "\n",
    "Find the value of $n$, $1 < n < 10^7$, for which $\\phi(n)$ is a permutation of $n$ and the ratio $n/\\phi(n)$ produces a minimum."
   ]
  },
  {
   "cell_type": "code",
   "execution_count": 6,
   "id": "955053f9",
   "metadata": {},
   "outputs": [],
   "source": [
    "def gcd(a, b):\n",
    "    while b:\n",
    "        a, b = b, a % b\n",
    "    return a"
   ]
  },
  {
   "cell_type": "code",
   "execution_count": 13,
   "id": "54dc88cc",
   "metadata": {},
   "outputs": [],
   "source": [
    "def euler_totient(n):\n",
    "    count = 0\n",
    "    for i in range(1, n + 1):\n",
    "        if gcd(i, n) == 1:\n",
    "            count += 1\n",
    "    return count"
   ]
  },
  {
   "cell_type": "code",
   "execution_count": 39,
   "id": "1c41455c",
   "metadata": {},
   "outputs": [],
   "source": [
    "def check_permutation(n):\n",
    "    a = list(str(n))\n",
    "    a.sort()\n",
    "    \n",
    "    b = list(str(euler_totient(n)))\n",
    "    b.sort()\n",
    "    \n",
    "    return a == b"
   ]
  },
  {
   "cell_type": "code",
   "execution_count": 44,
   "id": "785ac80c",
   "metadata": {},
   "outputs": [],
   "source": [
    "def main():\n",
    "    bound = 10**7\n",
    "    result = 1 / euler_totient(1)\n",
    "    \n",
    "    for n in range(2, bound):\n",
    "        if n % 10000 == 0: print(n)\n",
    "        if check_permutation(n):\n",
    "            result = min(result, n / euler_totient(n))\n",
    "            \n",
    "    return result"
   ]
  },
  {
   "cell_type": "code",
   "execution_count": 46,
   "id": "494008c8",
   "metadata": {},
   "outputs": [
    {
     "name": "stdout",
     "output_type": "stream",
     "text": [
      "The value of n: 8319823\n"
     ]
    }
   ],
   "source": [
    "from collections import Counter\n",
    "\n",
    "def sieve_totient(n):\n",
    "    phi = list(range(n + 1))\n",
    "    for i in range(2, n + 1):\n",
    "        if phi[i] == i:\n",
    "            for j in range(i, n + 1, i):\n",
    "                phi[j] -= phi[j] // i\n",
    "    return phi\n",
    "\n",
    "def is_permutation(a, b):\n",
    "    return Counter(str(a)) == Counter(str(b))\n",
    "\n",
    "def find_min_ratio(limit):\n",
    "    phi_values = sieve_totient(limit)\n",
    "    min_ratio = float('inf')\n",
    "    min_n = 0\n",
    "\n",
    "    for n in range(2, limit):\n",
    "        phi_n = phi_values[n]\n",
    "        if is_permutation(n, phi_n):\n",
    "            ratio = n / phi_n\n",
    "            if ratio < min_ratio:\n",
    "                min_ratio = ratio\n",
    "                min_n = n\n",
    "\n",
    "    return min_n\n",
    "\n",
    "limit = 10 ** 7\n",
    "result = find_min_ratio(limit)\n",
    "print(\"The value of n:\", result)"
   ]
  }
 ],
 "metadata": {
  "kernelspec": {
   "display_name": "Python 3 (ipykernel)",
   "language": "python",
   "name": "python3"
  },
  "language_info": {
   "codemirror_mode": {
    "name": "ipython",
    "version": 3
   },
   "file_extension": ".py",
   "mimetype": "text/x-python",
   "name": "python",
   "nbconvert_exporter": "python",
   "pygments_lexer": "ipython3",
   "version": "3.11.4"
  }
 },
 "nbformat": 4,
 "nbformat_minor": 5
}
