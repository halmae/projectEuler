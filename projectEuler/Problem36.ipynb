{
 "cells": [
  {
   "cell_type": "markdown",
   "id": "c137f2a0",
   "metadata": {},
   "source": [
    "# Double-base Palindromes\n",
    "The decimal numbers, $585 = 1001001001_2$ (binary), is palindromic in both bases. </br>\n",
    "Find the sum of all numbers, less than one million, which are palindromic in base $10$ and base $2$. </br>\n",
    "(Please note that the palindromic number, in either base, may not include leading zeros.)"
   ]
  },
  {
   "cell_type": "code",
   "execution_count": 10,
   "id": "7e6d51c5",
   "metadata": {},
   "outputs": [],
   "source": [
    "def is_palindrome(num):\n",
    "    num = str(num)\n",
    "    return num == num[::-1]"
   ]
  },
  {
   "cell_type": "code",
   "execution_count": 14,
   "id": "a990e775",
   "metadata": {},
   "outputs": [],
   "source": [
    "bound = 10**6\n",
    "\n",
    "num = 1\n",
    "result = 0\n",
    "\n",
    "while num < bound:\n",
    "    num_bin = int(bin(num)[2:])\n",
    "    \n",
    "    if is_palindrome(num) and is_palindrome(num_bin):\n",
    "        result += num\n",
    "        \n",
    "    num += 1"
   ]
  },
  {
   "cell_type": "code",
   "execution_count": 15,
   "id": "665bdc54",
   "metadata": {
    "scrolled": true
   },
   "outputs": [
    {
     "data": {
      "text/plain": [
       "872187"
      ]
     },
     "execution_count": 15,
     "metadata": {},
     "output_type": "execute_result"
    }
   ],
   "source": [
    "result"
   ]
  }
 ],
 "metadata": {
  "kernelspec": {
   "display_name": "Python 3 (ipykernel)",
   "language": "python",
   "name": "python3"
  },
  "language_info": {
   "codemirror_mode": {
    "name": "ipython",
    "version": 3
   },
   "file_extension": ".py",
   "mimetype": "text/x-python",
   "name": "python",
   "nbconvert_exporter": "python",
   "pygments_lexer": "ipython3",
   "version": "3.11.4"
  }
 },
 "nbformat": 4,
 "nbformat_minor": 5
}
