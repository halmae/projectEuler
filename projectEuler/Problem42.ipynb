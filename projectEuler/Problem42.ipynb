{
 "cells": [
  {
   "cell_type": "markdown",
   "id": "f8606c62",
   "metadata": {},
   "source": [
    "# Coded Triangle Numbers\n",
    "The $n$th term of the sequence of triangle numbers is given by, $t_n = \\frac{1}{2}n(n+1)$; so the first ten triangle numbers are:\n",
    "$$\n",
    "\\begin{align}\n",
    "1, 3, 6, 10, 15, 21, 28, 36, 45, 55, \\ldots\n",
    "\\end{align}\n",
    "$$\n",
    "By converting each letter in a word to a number corresponding to its alphabetical position and adding these values we form a word value. For example, the world value for SKY is $19 + 11 + 25 = 55 = t_{10}$. If the world value is a triangle number then we shall call the word a triangle word. </br>\n",
    "\n",
    "Using **words.txt**, a $16$K text file containing nearly two-thousand common English words, how many are triangle words?"
   ]
  },
  {
   "cell_type": "code",
   "execution_count": 15,
   "id": "f36c699b",
   "metadata": {},
   "outputs": [],
   "source": [
    "import csv\n",
    "\n",
    "file_path = \"words.txt\"\n",
    "\n",
    "word_lst = []\n",
    "\n",
    "with open(file_path, 'r') as file:\n",
    "    word_lst = list(csv.reader(file))[0]\n",
    "        "
   ]
  },
  {
   "cell_type": "code",
   "execution_count": 34,
   "id": "34932cfc",
   "metadata": {},
   "outputs": [],
   "source": [
    "triangle_numbers = [int(x * (x + 1) / 2) for x in range(1, 26 + 1)]"
   ]
  },
  {
   "cell_type": "code",
   "execution_count": 36,
   "id": "f9fffa72",
   "metadata": {},
   "outputs": [],
   "source": [
    "def is_triangle(word):\n",
    "    result = 0\n",
    "    for alphabet in word:\n",
    "        result += ord(alphabet) - ord('A') + 1\n",
    "        \n",
    "    return result in triangle_numbers"
   ]
  },
  {
   "cell_type": "code",
   "execution_count": 38,
   "id": "c6fbf650",
   "metadata": {},
   "outputs": [],
   "source": [
    "result = 0\n",
    "\n",
    "for word in word_lst:\n",
    "    if is_triangle(word):\n",
    "        result += 1"
   ]
  },
  {
   "cell_type": "code",
   "execution_count": 39,
   "id": "24f534e8",
   "metadata": {},
   "outputs": [
    {
     "data": {
      "text/plain": [
       "162"
      ]
     },
     "execution_count": 39,
     "metadata": {},
     "output_type": "execute_result"
    }
   ],
   "source": [
    "result"
   ]
  }
 ],
 "metadata": {
  "kernelspec": {
   "display_name": "Python 3 (ipykernel)",
   "language": "python",
   "name": "python3"
  },
  "language_info": {
   "codemirror_mode": {
    "name": "ipython",
    "version": 3
   },
   "file_extension": ".py",
   "mimetype": "text/x-python",
   "name": "python",
   "nbconvert_exporter": "python",
   "pygments_lexer": "ipython3",
   "version": "3.11.4"
  }
 },
 "nbformat": 4,
 "nbformat_minor": 5
}
