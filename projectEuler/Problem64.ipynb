{
 "cells": [
  {
   "cell_type": "markdown",
   "id": "2d7b6c19",
   "metadata": {},
   "source": [
    "# Odd Period Square Roots\n",
    "All square roots are periodic when written as continued fractions and can be written in the form:\n",
    "$$\n",
    "\\begin{align}\n",
    "    \\sqrt{N} = a_0 + \\frac{1}{\n",
    "    a_1 + \\frac{1}{\n",
    "    a_2 + \\frac{1}{\n",
    "    a_3 + \\cdots\n",
    "    }\n",
    "    }\n",
    "    }\n",
    "\\end{align}\n",
    "$$\n",
    "For example, let us consider $\\sqrt{23}$:\n",
    "$$\n",
    "\\begin{align}\n",
    "\\sqrt{23} = 4 + \\sqrt{23} - 4 = 4 + \\frac{1}{\\frac{1}{\\sqrt{23}-4}} = 4 + \\frac{1}{1 + \\frac{\\sqrt{23} - 3}{7}}\n",
    "\\end{align}\n",
    "$$\n",
    "If we continue we would get the following expansion:\n",
    "$$\n",
    "\\begin{align}\n",
    "    \\sqrt{23} = 4 + \\frac{1}{\n",
    "    1 + \\frac{1}{\n",
    "    3 + \\frac{1}{\n",
    "    1 + \\frac{1}{\n",
    "    8 + \\cdots\n",
    "    }\n",
    "    }\n",
    "    }\n",
    "    }\n",
    "\\end{align}\n",
    "$$\n",
    "It can be seen that the sequence is repeating. For conciseness, we use the notation $\\sqrt{23} = [4; (1,3,1,8)]$, to indicate that the block $(1,3,1,8)$ repeats indefinitely.</br>\n",
    "How many continued fractions for $N \\leq 10000$ have an odd period?"
   ]
  },
  {
   "cell_type": "code",
   "execution_count": 1,
   "id": "d2689692",
   "metadata": {},
   "outputs": [],
   "source": [
    "import numpy as np"
   ]
  },
  {
   "cell_type": "code",
   "execution_count": 138,
   "id": "cf304ba4",
   "metadata": {},
   "outputs": [],
   "source": [
    "def find_gcd(a, b):\n",
    "    a = np.abs(a)\n",
    "    b = np.abs(b)\n",
    "    \n",
    "    while b:\n",
    "        a, b = b, b % a\n",
    "    return a\n",
    "\n",
    "\n",
    "def abbrev(numerator, denominator):\n",
    "    gcd = find_gcd(numerator, denominator)\n",
    "    \n",
    "    numerator_new = numerator // gcd\n",
    "    denominator_new = denominator // gcd\n",
    "    \n",
    "    return numerator_new, denominator_new\n",
    "\n",
    "\n",
    "def recursion_relation(N, a, b, c, d, e):\n",
    "    \"\"\"\n",
    "    General form : (N^(1/2) + b / c) / (d / e)\n",
    "    \"\"\"\n",
    "    a_new = int(d * (np.sqrt(N) - b / c) / e / (N - b**2 / c**2))\n",
    "    \n",
    "    d_new, e_new = abbrev(((c**2) * N - b**2) * e, (c**2)*d)\n",
    "    b_new, c_new = abbrev(-b * e_new - c * a_new * d_new, c * e_new)\n",
    "    \n",
    "    return a_new, b_new, c_new, d_new, e_new\n",
    "\n",
    "\n",
    "def find_period(N):\n",
    "    \n",
    "    period_lst = []\n",
    "    \n",
    "    a = 0\n",
    "    b = -int(np.sqrt(N))\n",
    "    c = 1\n",
    "    d = 1\n",
    "    e = 1\n",
    "    \n",
    "    while 1:\n",
    "        h = recursion_relation(N, a, b, c, d, e)\n",
    "        \n",
    "        if h in period_lst:\n",
    "            return period_lst\n",
    "        else:\n",
    "            period_lst.append(h)\n",
    "            a, b, c, d, e = h\n",
    "            \n",
    "            \n",
    "def find_odd_period():\n",
    "    result = 0\n",
    "    \n",
    "    for N in range(1, 10000 + 1):\n",
    "        if np.sqrt(N).is_integer():\n",
    "            continue\n",
    "        else:\n",
    "            l = find_period(N)\n",
    "            if not l:\n",
    "                continue\n",
    "            elif len(l) % 2 == 0:\n",
    "                continue\n",
    "            else:\n",
    "                result +=1\n",
    "                \n",
    "    return result"
   ]
  },
  {
   "cell_type": "code",
   "execution_count": 139,
   "id": "b842dc66",
   "metadata": {},
   "outputs": [
    {
     "data": {
      "text/plain": [
       "1322"
      ]
     },
     "execution_count": 139,
     "metadata": {},
     "output_type": "execute_result"
    }
   ],
   "source": [
    "find_odd_period()"
   ]
  }
 ],
 "metadata": {
  "kernelspec": {
   "display_name": "Python 3 (ipykernel)",
   "language": "python",
   "name": "python3"
  },
  "language_info": {
   "codemirror_mode": {
    "name": "ipython",
    "version": 3
   },
   "file_extension": ".py",
   "mimetype": "text/x-python",
   "name": "python",
   "nbconvert_exporter": "python",
   "pygments_lexer": "ipython3",
   "version": "3.11.4"
  }
 },
 "nbformat": 4,
 "nbformat_minor": 5
}
