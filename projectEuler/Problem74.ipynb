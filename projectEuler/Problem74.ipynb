{
 "cells": [
  {
   "cell_type": "markdown",
   "id": "8aabfa4c",
   "metadata": {},
   "source": [
    "# Digital Factorial Chains\n",
    "\n",
    "The number $145$ is well known for the property that the sum of the factorial of its digits is equal to $145$:\n",
    "$$\n",
    "\\begin{align}\n",
    "    1! + 4! + 5! = 1 + 24 + 120 = 145.\n",
    "\\end{align}\n",
    "$$\n",
    "Perhaps less well known is $169$, in that it produces the longest chain of numbers that link back to $169$; it turns out that there are only three such loops that exist:\n",
    "$$\n",
    "\\begin{align}\n",
    "&169 \\rightarrow 363601 \\rightarrow 1454 \\rightarrow 169 \\\\\n",
    "& 871 \\rightarrow 45361 \\rightarrow 871 \\\\\n",
    "& 872 \\rightarrow 45362 \\rightarrow 872\n",
    "\\end{align}\n",
    "$$\n",
    "\n",
    "It is not difficult to prove that EVERY starting number will eventually get stuck in a loop. For example,\n",
    "$$\n",
    "\\begin{align}\n",
    "& 69 \\rightarrow 363600 \\rightarrow 1454 \\rightarrow 169 \\rightarrow 363601 (\\rightarrow 1454) \\\\\n",
    "& 78 \\rightarrow 45360 \\rightarrow 871 \\rightarrow 45361 (\\rightarrow 871) \\\\\n",
    "& 540 \\rightarrow 145 (\\rightarrow 145)\n",
    "\\end{align}\n",
    "$$\n",
    "\n",
    "Starting with $69$ produces a chain of five non-repeating terms, but the longest non-repeating chain with a starting number below one million is sixty terms. </br>\n",
    "\n",
    "How many chains, with a starting number below one million, contain exactly sixty non-repeating terms?"
   ]
  },
  {
   "cell_type": "code",
   "execution_count": 8,
   "id": "c9821851",
   "metadata": {},
   "outputs": [],
   "source": [
    "def factorial(n):\n",
    "    if n == 0:\n",
    "        return 1\n",
    "    else:\n",
    "        return n * factorial(n - 1)"
   ]
  },
  {
   "cell_type": "code",
   "execution_count": 22,
   "id": "2603a9d9",
   "metadata": {},
   "outputs": [],
   "source": [
    "def next_factor(num):\n",
    "    num_lst = list(str(num))\n",
    "    \n",
    "    result = 0\n",
    "    \n",
    "    for num in num_lst:\n",
    "        result += factorial(int(num))\n",
    "        \n",
    "    return result"
   ]
  },
  {
   "cell_type": "code",
   "execution_count": 23,
   "id": "8c45833f",
   "metadata": {},
   "outputs": [],
   "source": [
    "def chain(num):\n",
    "    result = [num]\n",
    "    sample = num\n",
    "    \n",
    "    while 1:\n",
    "        if next_factor(sample) not in result:\n",
    "            sample = next_factor(sample)\n",
    "            result.append(sample)\n",
    "        else:\n",
    "            break\n",
    "            \n",
    "    return result"
   ]
  },
  {
   "cell_type": "code",
   "execution_count": 41,
   "id": "6864382c",
   "metadata": {},
   "outputs": [],
   "source": [
    "from tqdm import tqdm"
   ]
  },
  {
   "cell_type": "code",
   "execution_count": 42,
   "id": "db4fc9b3",
   "metadata": {},
   "outputs": [
    {
     "name": "stderr",
     "output_type": "stream",
     "text": [
      "100%|████████████████████████████████████████████████████████| 999999/999999 [01:10<00:00, 14171.99it/s]\n"
     ]
    }
   ],
   "source": [
    "cnt = 0\n",
    "\n",
    "for num in tqdm(range(1, 1000000)):\n",
    "    if len(chin(num)) == 60:\n",
    "        cnt += 1"
   ]
  },
  {
   "cell_type": "code",
   "execution_count": 43,
   "id": "2fc14df8",
   "metadata": {},
   "outputs": [
    {
     "data": {
      "text/plain": [
       "402"
      ]
     },
     "execution_count": 43,
     "metadata": {},
     "output_type": "execute_result"
    }
   ],
   "source": [
    "cnt"
   ]
  }
 ],
 "metadata": {
  "kernelspec": {
   "display_name": "Python 3 (ipykernel)",
   "language": "python",
   "name": "python3"
  },
  "language_info": {
   "codemirror_mode": {
    "name": "ipython",
    "version": 3
   },
   "file_extension": ".py",
   "mimetype": "text/x-python",
   "name": "python",
   "nbconvert_exporter": "python",
   "pygments_lexer": "ipython3",
   "version": "3.11.4"
  }
 },
 "nbformat": 4,
 "nbformat_minor": 5
}
