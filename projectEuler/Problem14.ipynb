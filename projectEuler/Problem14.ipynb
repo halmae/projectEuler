{
 "cells": [
  {
   "cell_type": "markdown",
   "id": "8da00353",
   "metadata": {},
   "source": [
    "The following iterative sequence is defined for the set of positive integers:\n",
    "$$\n",
    "\\begin{align}\n",
    "& n \\rightarrow n / 2 (n \\text{ is even}) \\\\\n",
    "& n \\rightarrow 3n + 1 (n \\text{ is odd})\n",
    "\\end{align}\n",
    "$$\n",
    "Using the rule above and starting with $13$, we generate the following sequence:\n",
    "$$\n",
    "\\begin{align}\n",
    "13 \\rightarrow 40 \\rightarrow 20 \\rightarrow 10 \\rightarrow 5 \\rightarrow 16 \\rightarrow 8 \\rightarrow 4 \\rightarrow 2 \\rightarrow 1.\n",
    "\\end{align}\n",
    "$$\n",
    "It can be seen that this sequence (starting at $13$ and finishing at $1$) contains $10$terms. Although it has not been proved yet (Collatz Problem), it is thought that all starting numbers finish at $1$. </br>\n",
    "Which starting number, under one million, produces the longest chain? </br>\n",
    "**Note**: Once the chain starts the terms are allowed to go above one million."
   ]
  },
  {
   "cell_type": "code",
   "execution_count": 15,
   "id": "04d77d0d",
   "metadata": {},
   "outputs": [],
   "source": [
    "import numpy as np\n",
    "bound = 10**6"
   ]
  },
  {
   "cell_type": "code",
   "execution_count": 14,
   "id": "d573797e",
   "metadata": {},
   "outputs": [],
   "source": [
    "def next_step(N):\n",
    "    if N == 1:\n",
    "        return 1\n",
    "    elif N % 2 == 0:\n",
    "        return N // 2\n",
    "    else:\n",
    "        return 3 * N + 1\n",
    "    \n",
    "def longest_chain(N):\n",
    "    l = 1\n",
    "    while next_step(N) != 1:\n",
    "        N = next_step(N)\n",
    "        l += 1\n",
    "    return l + 1"
   ]
  },
  {
   "cell_type": "code",
   "execution_count": 16,
   "id": "41e92a62",
   "metadata": {},
   "outputs": [],
   "source": [
    "result = -np.inf\n",
    "for num in range(1, bound):\n",
    "    result = max(result, longest_chain(num))"
   ]
  },
  {
   "cell_type": "code",
   "execution_count": 17,
   "id": "d9d06359",
   "metadata": {},
   "outputs": [
    {
     "data": {
      "text/plain": [
       "525"
      ]
     },
     "execution_count": 17,
     "metadata": {},
     "output_type": "execute_result"
    }
   ],
   "source": [
    "result"
   ]
  },
  {
   "cell_type": "code",
   "execution_count": 18,
   "id": "2b437600",
   "metadata": {},
   "outputs": [
    {
     "name": "stdout",
     "output_type": "stream",
     "text": [
      "837799\n"
     ]
    },
    {
     "ename": "KeyboardInterrupt",
     "evalue": "",
     "output_type": "error",
     "traceback": [
      "\u001b[0;31m---------------------------------------------------------------------------\u001b[0m",
      "\u001b[0;31mKeyboardInterrupt\u001b[0m                         Traceback (most recent call last)",
      "Cell \u001b[0;32mIn[18], line 4\u001b[0m\n\u001b[1;32m      2\u001b[0m \u001b[38;5;28;01mwhile\u001b[39;00m \u001b[38;5;241m1\u001b[39m:\n\u001b[1;32m      3\u001b[0m     N \u001b[38;5;241m+\u001b[39m\u001b[38;5;241m=\u001b[39m \u001b[38;5;241m1\u001b[39m\n\u001b[0;32m----> 4\u001b[0m     \u001b[38;5;28;01mif\u001b[39;00m \u001b[43mlongest_chain\u001b[49m\u001b[43m(\u001b[49m\u001b[43mN\u001b[49m\u001b[43m)\u001b[49m \u001b[38;5;241m==\u001b[39m \u001b[38;5;241m525\u001b[39m:\n\u001b[1;32m      5\u001b[0m         \u001b[38;5;28mprint\u001b[39m(N)\n",
      "Cell \u001b[0;32mIn[14], line 11\u001b[0m, in \u001b[0;36mlongest_chain\u001b[0;34m(N)\u001b[0m\n\u001b[1;32m      9\u001b[0m \u001b[38;5;28;01mdef\u001b[39;00m \u001b[38;5;21mlongest_chain\u001b[39m(N):\n\u001b[1;32m     10\u001b[0m     l \u001b[38;5;241m=\u001b[39m \u001b[38;5;241m1\u001b[39m\n\u001b[0;32m---> 11\u001b[0m     \u001b[38;5;28;01mwhile\u001b[39;00m \u001b[43mnext_step\u001b[49m\u001b[43m(\u001b[49m\u001b[43mN\u001b[49m\u001b[43m)\u001b[49m\u001b[43m \u001b[49m\u001b[38;5;241;43m!=\u001b[39;49m\u001b[43m \u001b[49m\u001b[38;5;241;43m1\u001b[39;49m:\n\u001b[1;32m     12\u001b[0m         N \u001b[38;5;241m=\u001b[39m next_step(N)\n\u001b[1;32m     13\u001b[0m         l \u001b[38;5;241m+\u001b[39m\u001b[38;5;241m=\u001b[39m \u001b[38;5;241m1\u001b[39m\n",
      "\u001b[0;31mKeyboardInterrupt\u001b[0m: "
     ]
    }
   ],
   "source": [
    "N = 1\n",
    "while 1:\n",
    "    N += 1\n",
    "    if longest_chain(N) == 525:\n",
    "        print(N)"
   ]
  },
  {
   "cell_type": "code",
   "execution_count": null,
   "id": "4e8b10ec",
   "metadata": {},
   "outputs": [],
   "source": []
  }
 ],
 "metadata": {
  "kernelspec": {
   "display_name": "Python 3 (ipykernel)",
   "language": "python",
   "name": "python3"
  },
  "language_info": {
   "codemirror_mode": {
    "name": "ipython",
    "version": 3
   },
   "file_extension": ".py",
   "mimetype": "text/x-python",
   "name": "python",
   "nbconvert_exporter": "python",
   "pygments_lexer": "ipython3",
   "version": "3.11.4"
  }
 },
 "nbformat": 4,
 "nbformat_minor": 5
}
