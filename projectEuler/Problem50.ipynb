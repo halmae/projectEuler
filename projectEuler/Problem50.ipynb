{
 "cells": [
  {
   "cell_type": "markdown",
   "id": "61415ae4",
   "metadata": {},
   "source": [
    "# Consecutive Prime Sum\n",
    "The prime $41$, can be written as the sum of six consecutive primes:\n",
    "$$\n",
    "\\begin{align}\n",
    "41 = 2 + 3 + 5 + 7 + 11 + 13\n",
    "\\end{align}\n",
    "$$\n",
    "This is the longest sum of consecutive primes that adds to a prime below one-hundred. </br>\n",
    "\n",
    "The longest sum of consecutive primes below one-thousand that adds to a prime, contains $21$ terms, and is equal to $953$. </br>\n",
    "\n",
    "Which prime, below one-million, can be written as the sum of the most consecutive primes?"
   ]
  },
  {
   "cell_type": "code",
   "execution_count": 28,
   "id": "f3106ee6",
   "metadata": {},
   "outputs": [],
   "source": [
    "import numpy as np"
   ]
  },
  {
   "cell_type": "code",
   "execution_count": 29,
   "id": "bf9b28d5",
   "metadata": {},
   "outputs": [],
   "source": [
    "def is_prime(num):\n",
    "    if num <= 1: return False\n",
    "    elif num == 2: return True\n",
    "    elif num % 2 == 0: return False\n",
    "    else:\n",
    "        for i in range(3, int(num**0.5) + 1, 2):\n",
    "            if num % i == 0: return False\n",
    "        return True"
   ]
  },
  {
   "cell_type": "code",
   "execution_count": 35,
   "id": "6f7750f5",
   "metadata": {},
   "outputs": [],
   "source": [
    "def prime_lst(bound):\n",
    "    \n",
    "    num = 2\n",
    "    \n",
    "    result = []\n",
    "    check = 0\n",
    "    \n",
    "    while check < bound:\n",
    "        if is_prime(num):\n",
    "            result.append(num)\n",
    "            check += num\n",
    "        \n",
    "        num += 1\n",
    "    \n",
    "    return result"
   ]
  },
  {
   "cell_type": "code",
   "execution_count": 71,
   "id": "1df71905",
   "metadata": {},
   "outputs": [],
   "source": [
    "sample_lst = prime_lst(10**6)\n",
    "result = []\n",
    "\n",
    "for i in range(len(sample_lst)):\n",
    "    test = sample_lst[i]\n",
    "    l = 1\n",
    "    for j in range(i + 1, len(sample_lst)):\n",
    "        test += sample_lst[j]\n",
    "        l += 1\n",
    "        if is_prime(test):\n",
    "            result.append([l, test])\n",
    "            \n",
    "\n",
    "result_np = np.array(result)\n",
    "bound_condition = result_np[:, 1] <= 10**6\n",
    "\n",
    "bound_result = result_np[bound_condition]\n",
    "\n",
    "max_index = np.argmax(bound_result[:, 0])\n",
    "max_value = bound_result[max_index, 1]"
   ]
  },
  {
   "cell_type": "code",
   "execution_count": 72,
   "id": "fa890878",
   "metadata": {},
   "outputs": [
    {
     "data": {
      "text/plain": [
       "997651"
      ]
     },
     "execution_count": 72,
     "metadata": {},
     "output_type": "execute_result"
    }
   ],
   "source": [
    "max_value"
   ]
  }
 ],
 "metadata": {
  "kernelspec": {
   "display_name": "Python 3 (ipykernel)",
   "language": "python",
   "name": "python3"
  },
  "language_info": {
   "codemirror_mode": {
    "name": "ipython",
    "version": 3
   },
   "file_extension": ".py",
   "mimetype": "text/x-python",
   "name": "python",
   "nbconvert_exporter": "python",
   "pygments_lexer": "ipython3",
   "version": "3.11.4"
  }
 },
 "nbformat": 4,
 "nbformat_minor": 5
}
