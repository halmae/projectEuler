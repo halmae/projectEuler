{
 "cells": [
  {
   "cell_type": "markdown",
   "id": "df9cdbc5",
   "metadata": {},
   "source": [
    "# Cubic Permutations\n",
    "The cube, $41063625\\,(345^3)$, can be permuted to produce two other cubes: $56623104\\,(384^3)$ and $66430125\\,(405^3)$. In fact, $41063625$ is the smallest cube which has exactly three permutations of its digits which are also cube.</br>\n",
    "\n",
    "Find the smallest cube for which exactly five permutations of its digits are cube."
   ]
  },
  {
   "cell_type": "code",
   "execution_count": 1,
   "id": "0ab0c631",
   "metadata": {},
   "outputs": [],
   "source": [
    "import numpy as np"
   ]
  },
  {
   "cell_type": "code",
   "execution_count": 4,
   "id": "34be326a",
   "metadata": {},
   "outputs": [],
   "source": [
    "def number_stack(num):\n",
    "    num_stack = {'0' : 0,\n",
    "                 '1' : 0,\n",
    "                 '2' : 0,\n",
    "                 '3' : 0,\n",
    "                 '4' : 0,\n",
    "                 '5' : 0,\n",
    "                 '6' : 0,\n",
    "                 '7' : 0,\n",
    "                 '8' : 0,\n",
    "                 '9' : 0}\n",
    "    \n",
    "    num_str = str(num)\n",
    "    \n",
    "    for num in num_str:\n",
    "        num_stack[num] += 1\n",
    "    \n",
    "    result = ''\n",
    "    \n",
    "    for key in num_stack:\n",
    "        result += str(num_stack[key])\n",
    "    \n",
    "    return result"
   ]
  },
  {
   "cell_type": "code",
   "execution_count": 6,
   "id": "a91358f2",
   "metadata": {},
   "outputs": [],
   "source": [
    "def is_cube(num, tolerance = 1e-9):\n",
    "    cube_root = num**(1/3)\n",
    "    \n",
    "    return abs(cube_root - round(cube_root)) < tolerance"
   ]
  },
  {
   "cell_type": "code",
   "execution_count": 34,
   "id": "6caa9853",
   "metadata": {},
   "outputs": [],
   "source": [
    "def find_permutations():\n",
    "    \n",
    "    N = 10\n",
    "    \n",
    "    while 1:\n",
    "    # For N-th digits,\n",
    "    \n",
    "        a = (10**(N-1))**(1/3)\n",
    "        b = (10**N)**(1/3)\n",
    "\n",
    "        cube_lst = []\n",
    "\n",
    "        for num in range(int(a) + 1, int(b) + 1):\n",
    "            cube_lst.append(num**3)\n",
    "\n",
    "        cube_array = np.array(cube_lst)\n",
    "        vectorized = np.vectorize(number_stack)\n",
    "\n",
    "        stack_array = vectorized(cube_array)\n",
    "        stack_set = set(stack_array)\n",
    "\n",
    "        stack_lst = []\n",
    "\n",
    "        for stack in stack_set:\n",
    "            if list(stack_array).count(stack) == 5:\n",
    "                stack_lst.append(stack)\n",
    "\n",
    "        for i, stack in enumerate(stack_array):\n",
    "            if stack in stack_lst:\n",
    "                return cube_array[i]\n",
    "            \n",
    "        N += 1"
   ]
  },
  {
   "cell_type": "code",
   "execution_count": 35,
   "id": "7608a151",
   "metadata": {},
   "outputs": [
    {
     "data": {
      "text/plain": [
       "127035954683"
      ]
     },
     "execution_count": 35,
     "metadata": {},
     "output_type": "execute_result"
    }
   ],
   "source": [
    "find_permutations()"
   ]
  }
 ],
 "metadata": {
  "kernelspec": {
   "display_name": "Python 3 (ipykernel)",
   "language": "python",
   "name": "python3"
  },
  "language_info": {
   "codemirror_mode": {
    "name": "ipython",
    "version": 3
   },
   "file_extension": ".py",
   "mimetype": "text/x-python",
   "name": "python",
   "nbconvert_exporter": "python",
   "pygments_lexer": "ipython3",
   "version": "3.11.4"
  }
 },
 "nbformat": 4,
 "nbformat_minor": 5
}
