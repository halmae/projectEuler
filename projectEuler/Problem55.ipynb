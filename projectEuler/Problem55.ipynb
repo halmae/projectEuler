{
 "cells": [
  {
   "cell_type": "markdown",
   "id": "b2bca522",
   "metadata": {},
   "source": [
    "# Lychrel Numbers\n",
    "If we take $47$, reverse and add, $47 + 74 = 121$, which is palindromic. </br>\n",
    "\n",
    "Not all numbers produce palindromes so quickly. For example,\n",
    "$$\n",
    "\\begin{eqnarray}\n",
    "349 + 943 &=& 1292 \\\\\n",
    "1292 + 2921 &=& 4213 \\\\\n",
    "4213 + 3124 &=& 7337\n",
    "\\end{eqnarray}\n",
    "$$\n",
    "That is, $349$ took three iterations to arrive at a palindrome. </br>\n",
    "\n",
    "Although no one has proved it yet, it is thought that some numbers, like $196$, never produce a palindrome. A number that never forms a palindrome through reverse and add process is called a Lychrel number. Due to the theoretical nature of these numbers, and for the purpose of this problem, we shall assume that a number is Lychrel until proven otherwise. In addition you are given that for every number below ten-thousand, it will either (i) become a palindrome in less than fifty iterations, or, (ii) no one, with all the computing power that exists, has managed so far to map it to a palindrome. In fact, $10677$ is the first number to be shown to require over fifty iterations before producing a palindrome: $4668731596684224866951378664$ ($53$ iterations, $28$-digits). </br>\n",
    "\n",
    "Surprisingly, there are palindromic numbers that are themselves Lychrel numbers; the first example is $4994$. </br>\n",
    "\n",
    "How many Lychrel numbers are there below ten-thousand? </br>\n",
    "\n",
    "NOTE: Wording was modified slightly on $24$ April $2007$ to emphasise the theoretical nature of Lychrel numbers."
   ]
  },
  {
   "cell_type": "code",
   "execution_count": 2,
   "id": "de88beb3",
   "metadata": {},
   "outputs": [],
   "source": [
    "def is_palindrome(num):\n",
    "    num_str = str(num)\n",
    "    return num_str == num_str[::-1]"
   ]
  },
  {
   "cell_type": "code",
   "execution_count": 5,
   "id": "c44b07f2",
   "metadata": {},
   "outputs": [],
   "source": [
    "def processing(num):\n",
    "    num_str = str(num)\n",
    "    add_str = num_str[::-1]\n",
    "    return num + int(add_str)"
   ]
  },
  {
   "cell_type": "code",
   "execution_count": 16,
   "id": "5144ea54",
   "metadata": {},
   "outputs": [],
   "source": [
    "def is_Lychrel(num):\n",
    "    # it will become a palindrome in less than fifty iterations\n",
    "    for i in range(50 - 1):\n",
    "        num = processing(num)\n",
    "        if is_palindrome(num):\n",
    "            return False\n",
    "    \n",
    "    return True"
   ]
  },
  {
   "cell_type": "code",
   "execution_count": 21,
   "id": "0406d70b",
   "metadata": {},
   "outputs": [],
   "source": [
    "result = 0\n",
    "\n",
    "for num in range(10, 10**4):\n",
    "    if is_Lychrel(num):\n",
    "        result += 1"
   ]
  },
  {
   "cell_type": "code",
   "execution_count": 22,
   "id": "342c930c",
   "metadata": {},
   "outputs": [
    {
     "data": {
      "text/plain": [
       "249"
      ]
     },
     "execution_count": 22,
     "metadata": {},
     "output_type": "execute_result"
    }
   ],
   "source": [
    "result"
   ]
  }
 ],
 "metadata": {
  "kernelspec": {
   "display_name": "Python 3 (ipykernel)",
   "language": "python",
   "name": "python3"
  },
  "language_info": {
   "codemirror_mode": {
    "name": "ipython",
    "version": 3
   },
   "file_extension": ".py",
   "mimetype": "text/x-python",
   "name": "python",
   "nbconvert_exporter": "python",
   "pygments_lexer": "ipython3",
   "version": "3.11.4"
  }
 },
 "nbformat": 4,
 "nbformat_minor": 5
}
