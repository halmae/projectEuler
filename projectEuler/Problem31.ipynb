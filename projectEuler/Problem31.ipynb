{
 "cells": [
  {
   "cell_type": "markdown",
   "id": "61c1663f",
   "metadata": {},
   "source": [
    "In the United Kingdom the currency is made up of pound(&pound;) and pence($p$). There are eight coints in general circulation:\n",
    "$$\n",
    "\\begin{align}\n",
    "1p, \\, 2p,\\, 5p, \\, 10p,\\, 20p,\\, 50p,\\, \\pounds 1 ,\\text{ and } \\pounds 2.\n",
    "\\end{align}\n",
    "$$\n",
    "It is possible to make &pound;2 in the following way:\n",
    "$$\n",
    "\\begin{align}\n",
    "1\\times\\pounds 1 + 1 \\times 50 p + 2 \\times 20 p + 1 \\times 5 p + 1 \\times 2 p + 3 \\times 1 p\n",
    "\\end{align}\n",
    "$$\n",
    "How many different ways can &pound; 2 be made using any numbers of coins?"
   ]
  },
  {
   "cell_type": "code",
   "execution_count": 84,
   "id": "2c28bc9d",
   "metadata": {},
   "outputs": [],
   "source": [
    "def find_combinations(num, i):\n",
    "    coins = [200, 100, 50, 20, 10, 5, 2]\n",
    "    \n",
    "    if i == 6:\n",
    "        return num // 2 + 1\n",
    "    \n",
    "    count = 0\n",
    "    \n",
    "    for j in range(num // coins[i] + 1):\n",
    "        count += find_combinations(num - j * coins[i], i + 1)\n",
    "    \n",
    "    return count"
   ]
  },
  {
   "cell_type": "code",
   "execution_count": 85,
   "id": "5c27cf9a",
   "metadata": {},
   "outputs": [
    {
     "data": {
      "text/plain": [
       "73682"
      ]
     },
     "execution_count": 85,
     "metadata": {},
     "output_type": "execute_result"
    }
   ],
   "source": [
    "find_combinations(200, i = 0)"
   ]
  }
 ],
 "metadata": {
  "kernelspec": {
   "display_name": "Python 3 (ipykernel)",
   "language": "python",
   "name": "python3"
  },
  "language_info": {
   "codemirror_mode": {
    "name": "ipython",
    "version": 3
   },
   "file_extension": ".py",
   "mimetype": "text/x-python",
   "name": "python",
   "nbconvert_exporter": "python",
   "pygments_lexer": "ipython3",
   "version": "3.11.4"
  }
 },
 "nbformat": 4,
 "nbformat_minor": 5
}
