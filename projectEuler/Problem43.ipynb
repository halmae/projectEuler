{
 "cells": [
  {
   "cell_type": "markdown",
   "id": "74da2289",
   "metadata": {},
   "source": [
    "# Sub-string Divisibility\n",
    "The number, $1406357289$, is a $0$ to $9$ pandigital numbers because it is made up of each of the digits $0$ to $9$ in some order, but it also has a rather interesting sub-string divisibility property. </br>\n",
    "\n",
    "Let $d_1$ be the $1$st digit, $d_2$ be the $2$nd digit, and so on. In this way, we note the following:\n",
    "- $d_2 d_3 d_4 = 406$ is divisible by $2$\n",
    "- $d_3 d_4 d_5 = 063$ is divisible by $3$\n",
    "- $d_4 d_5 d_6 = 635$ is divisible by $5$\n",
    "- $d_5 d_6 d_7 = 357$ is divisible by $7$\n",
    "- $d_6 d_7 d_8 = 572$ is divisible by $11$\n",
    "- $d_7 d_8 d_9 = 728$ is divisible by $13$\n",
    "- $d_8 d_9 d_{10} = 289$ is divisible by $17$\n",
    "\n",
    "Find the sum of all $0$ to $9$ pandigital numbers with this property."
   ]
  },
  {
   "cell_type": "code",
   "execution_count": 25,
   "id": "598c8523",
   "metadata": {},
   "outputs": [],
   "source": [
    "def permutation(N, num_lst):\n",
    "    if N == 2:\n",
    "        return [str(num_lst[0]) + str(num_lst[-1]), str(num_lst[-1]) + str(num_lst[0])]\n",
    "    else:\n",
    "        result = []\n",
    "        target = ''\n",
    "\n",
    "        for i, num in enumerate(num_lst):\n",
    "            target = str(num)\n",
    "            del num_lst[i]\n",
    "            for new_number in [target + number for number in permutation(N-1, num_lst)]:\n",
    "                result.append(new_number)\n",
    "            num_lst.insert(i, num)\n",
    "            \n",
    "        return result\n",
    "    \n",
    "def find_special_pandigit(num):\n",
    "    num_str = str(num)\n",
    "    prime_numbers = [2, 3, 5, 7, 11, 13, 17]\n",
    "    \n",
    "    for i in range(1, 8):\n",
    "        target_str = num_str[i : i + 3]\n",
    "        if int(target_str) % prime_numbers[i - 1] == 0:\n",
    "            continue\n",
    "        else:\n",
    "            return False\n",
    "    \n",
    "    return True"
   ]
  },
  {
   "cell_type": "code",
   "execution_count": 26,
   "id": "3372823a",
   "metadata": {},
   "outputs": [],
   "source": [
    "num_lst = [x for x in range(10)]"
   ]
  },
  {
   "cell_type": "code",
   "execution_count": 29,
   "id": "3680ba13",
   "metadata": {},
   "outputs": [],
   "source": [
    "target_lst = permutation(10, num_lst)"
   ]
  },
  {
   "cell_type": "code",
   "execution_count": 30,
   "id": "f80559a4",
   "metadata": {},
   "outputs": [],
   "source": [
    "result = 0 \n",
    "\n",
    "for num in target_lst:\n",
    "    num = int(num)\n",
    "    if find_special_pandigit(num):\n",
    "        result += int(num)"
   ]
  },
  {
   "cell_type": "code",
   "execution_count": 31,
   "id": "dfefb369",
   "metadata": {},
   "outputs": [
    {
     "data": {
      "text/plain": [
       "16695334890"
      ]
     },
     "execution_count": 31,
     "metadata": {},
     "output_type": "execute_result"
    }
   ],
   "source": [
    "result"
   ]
  }
 ],
 "metadata": {
  "kernelspec": {
   "display_name": "Python 3 (ipykernel)",
   "language": "python",
   "name": "python3"
  },
  "language_info": {
   "codemirror_mode": {
    "name": "ipython",
    "version": 3
   },
   "file_extension": ".py",
   "mimetype": "text/x-python",
   "name": "python",
   "nbconvert_exporter": "python",
   "pygments_lexer": "ipython3",
   "version": "3.11.4"
  }
 },
 "nbformat": 4,
 "nbformat_minor": 5
}
