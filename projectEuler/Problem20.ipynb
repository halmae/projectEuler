{
 "cells": [
  {
   "cell_type": "markdown",
   "id": "13bad95c",
   "metadata": {},
   "source": [
    "$n!$ means $n\\times (n-1) \\times \\cdots \\times 3 \\times 2 \\times 1$. </br>\n",
    "For example, $10! = 10 \\times 9 \\times \\cdots \\times 3 \\times 2 \\times 1 = 3628800$, </br>\n",
    "and the sum of the digits in the number $10!$ is $3 + 6 + 2 + 8 + 8 + 0 + 0 = 27$. </br>\n",
    "Find the sum of the digits in the number $100!$."
   ]
  },
  {
   "cell_type": "code",
   "execution_count": 15,
   "id": "cd791aac",
   "metadata": {},
   "outputs": [],
   "source": [
    "def factorial(N):\n",
    "    if N == 1:\n",
    "        return 1\n",
    "    else:\n",
    "        return N * factorial(N-1)\n",
    "    \n",
    "def find_sum(N):\n",
    "    result = 0\n",
    "    num = factorial(N)\n",
    "    while num != 0:\n",
    "        result += num % 10\n",
    "        num = num // 10\n",
    "    return result"
   ]
  },
  {
   "cell_type": "code",
   "execution_count": 3,
   "id": "5d39a574",
   "metadata": {},
   "outputs": [
    {
     "data": {
      "text/plain": [
       "93326215443944152681699238856266700490715968264381621468592963895217599993229915608941463976156518286253697920827223758251185210916864000000000000000000000000"
      ]
     },
     "execution_count": 3,
     "metadata": {},
     "output_type": "execute_result"
    }
   ],
   "source": [
    "factorial(100)"
   ]
  },
  {
   "cell_type": "code",
   "execution_count": 16,
   "id": "49566c89",
   "metadata": {},
   "outputs": [
    {
     "data": {
      "text/plain": [
       "648"
      ]
     },
     "execution_count": 16,
     "metadata": {},
     "output_type": "execute_result"
    }
   ],
   "source": [
    "find_sum(100)"
   ]
  }
 ],
 "metadata": {
  "kernelspec": {
   "display_name": "Python 3 (ipykernel)",
   "language": "python",
   "name": "python3"
  },
  "language_info": {
   "codemirror_mode": {
    "name": "ipython",
    "version": 3
   },
   "file_extension": ".py",
   "mimetype": "text/x-python",
   "name": "python",
   "nbconvert_exporter": "python",
   "pygments_lexer": "ipython3",
   "version": "3.11.4"
  }
 },
 "nbformat": 4,
 "nbformat_minor": 5
}
