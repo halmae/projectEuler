{
 "cells": [
  {
   "cell_type": "markdown",
   "id": "e600d2e1",
   "metadata": {},
   "source": [
    "# Permuted Multiples\n",
    "It can be seen that the number, $125784$, and its double, $251748$, contain exactly the same digits, but in a different order. </br>\n",
    "\n",
    "Find the smallest positive integer, $x$, such that $2x$, $3x$, $4x$, $5x$ and $6x$, contain the same digits."
   ]
  },
  {
   "cell_type": "code",
   "execution_count": 17,
   "id": "8146463b",
   "metadata": {},
   "outputs": [],
   "source": [
    "def num_to_ordered_digit(num):\n",
    "    num_lst = list(str(num))\n",
    "    num_lst.sort()\n",
    "    return ''.join(num_lst)\n",
    "\n",
    "def find_permuted_multiples(num):\n",
    "    target = num_to_ordered_digit(num)\n",
    "    \n",
    "    for x in range(2, 6 + 1):\n",
    "        multipled_num = num * x\n",
    "        sample = num_to_ordered_digit(multipled_num)\n",
    "        if target != sample:\n",
    "            return False\n",
    "        \n",
    "    return True"
   ]
  },
  {
   "cell_type": "code",
   "execution_count": 18,
   "id": "4f022061",
   "metadata": {},
   "outputs": [
    {
     "name": "stdout",
     "output_type": "stream",
     "text": [
      "142857\n"
     ]
    }
   ],
   "source": [
    "num = 10\n",
    "\n",
    "while 1:\n",
    "    num += 1\n",
    "    if find_permuted_multiples(num):\n",
    "        print(num)\n",
    "        break"
   ]
  }
 ],
 "metadata": {
  "kernelspec": {
   "display_name": "Python 3 (ipykernel)",
   "language": "python",
   "name": "python3"
  },
  "language_info": {
   "codemirror_mode": {
    "name": "ipython",
    "version": 3
   },
   "file_extension": ".py",
   "mimetype": "text/x-python",
   "name": "python",
   "nbconvert_exporter": "python",
   "pygments_lexer": "ipython3",
   "version": "3.11.4"
  }
 },
 "nbformat": 4,
 "nbformat_minor": 5
}
