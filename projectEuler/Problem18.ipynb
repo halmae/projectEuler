{
 "cells": [
  {
   "cell_type": "markdown",
   "id": "7d43d680",
   "metadata": {},
   "source": [
    "By starting at the top of the triangle below and moving to adjacent numbers on the row below, the maximum total from top to bottom is $23$.\n",
    "$$\n",
    "\\mathbf{3} \\\\\n",
    "\\mathbf{7} \\quad 4 \\\\\n",
    "2 \\quad \\mathbf{4} \\quad 6 \\\\\n",
    "8 \\quad 5 \\quad \\mathbf{9} \\quad 3\n",
    "$$\n",
    "That is, $3 + 7 + 4 + 9 = 23$. </br>\n",
    "Find the maximum total from top to bottom of the triangle below:\n",
    "$$\n",
    "\\begin{align}\n",
    "&75 \\\\\n",
    "&95 \\quad 64 \\\\\n",
    "&17 \\quad 47 \\quad 82 \\\\\n",
    "&18 \\quad 35 \\quad 87 \\quad 10 \\\\\n",
    "&20 \\quad 04 \\quad 82 \\quad 47 \\quad 65 \\\\\n",
    "&19 \\quad 01 \\quad 23 \\quad 75 \\quad 03 \\quad 34 \\\\\n",
    "&88 \\quad 02 \\quad 77 \\quad 73 \\quad 07 \\quad 63 \\quad 67 \\\\\n",
    "&99 \\quad 65 \\quad 04 \\quad 28 \\quad 06 \\quad 16 \\quad 70 \\quad 92 \\\\\n",
    "&41 \\quad 41 \\quad 26 \\quad 56 \\quad 83 \\quad 40 \\quad 80 \\quad 70 \\quad 33 \\\\\n",
    "&41 \\quad 48 \\quad 72 \\quad 33 \\quad 47 \\quad 32 \\quad 37 \\quad 16 \\quad 94 \\quad 29 \\\\\n",
    "&53 \\quad 71 \\quad 44 \\quad 65 \\quad 25 \\quad 43 \\quad 91 \\quad 52 \\quad 97 \\quad 51 \\quad 14 \\\\\n",
    "&70 \\quad 11 \\quad 33 \\quad 28 \\quad 77 \\quad 73 \\quad 17 \\quad 78 \\quad 39 \\quad 68 \\quad 17 \\quad 57 \\\\\n",
    "&91 \\quad 71 \\quad 52 \\quad 38 \\quad 17 \\quad 14 \\quad 91 \\quad 43 \\quad 58 \\quad 50 \\quad 27 \\quad 29 \\quad 48 \\\\\n",
    "&63 \\quad 66 \\quad 04 \\quad 68 \\quad 89 \\quad 53 \\quad 67 \\quad 30 \\quad 73 \\quad 16 \\quad 69 \\quad 87 \\quad 40 \\quad 31 \\\\\n",
    "&04 \\quad 62 \\quad 98 \\quad 27 \\quad 23 \\quad 09 \\quad 70 \\quad 98 \\quad 73 \\quad 93 \\quad 38 \\quad 53 \\quad 60 \\quad 04 \\quad 23 \\\\\n",
    "\\end{align}\n",
    "$$"
   ]
  },
  {
   "cell_type": "code",
   "execution_count": 1,
   "id": "ab9731a3",
   "metadata": {},
   "outputs": [],
   "source": [
    "import numpy as np"
   ]
  },
  {
   "cell_type": "code",
   "execution_count": 2,
   "id": "e6722ba0",
   "metadata": {},
   "outputs": [],
   "source": [
    "N = [[75],\n",
    "[95, 64],\n",
    "[17, 47, 82],\n",
    "[18, 35, 87, 10],\n",
    "[20,  4, 82, 47, 65],\n",
    "[19,  1, 23, 75,  3, 34],\n",
    "[88,  2, 77, 73,  7, 63, 67],\n",
    "[99, 65,  4, 28,  6, 16, 70, 92],\n",
    "[41, 41, 26, 56, 83, 40, 80, 70, 33],\n",
    "[41, 48, 72, 33, 47, 32, 37, 16, 94, 29],\n",
    "[53, 71, 44, 65, 25, 43, 91, 52, 97, 51, 14],\n",
    "[70, 11, 33, 28, 77, 73, 17, 78, 39, 68, 17, 57],\n",
    "[91, 71, 52, 38, 17, 14, 91, 43, 58, 50, 27, 29, 48],\n",
    "[63, 66,  4, 68, 89, 53, 67, 30, 73, 16, 69, 87, 40, 31],\n",
    "[ 4, 62, 98, 27, 23,  9, 70, 98, 73, 93, 38, 53, 60,  4, 23]]"
   ]
  },
  {
   "cell_type": "code",
   "execution_count": 7,
   "id": "05862d6d",
   "metadata": {},
   "outputs": [],
   "source": [
    "def sub_maximal_path(triangle, N, i):\n",
    "    \"\"\"\n",
    "    N-th level, i-th index (0 <= i < N)\n",
    "    \"\"\"\n",
    "    if N == 14:\n",
    "        return triangle[N][i]\n",
    "    elif N == 13:\n",
    "        return triangle[N][i] + max(triangle[N+1][i], triangle[N+1][i+1])\n",
    "    else:\n",
    "        return triangle[N][i] + max(sub_maximal_path(triangle, N + 1, i), sub_maximal_path(triangle, N + 1, i + 1))"
   ]
  },
  {
   "cell_type": "code",
   "execution_count": 8,
   "id": "927a3983",
   "metadata": {},
   "outputs": [
    {
     "data": {
      "text/plain": [
       "1074"
      ]
     },
     "execution_count": 8,
     "metadata": {},
     "output_type": "execute_result"
    }
   ],
   "source": [
    "sub_maximal_path(N, 0, 0)"
   ]
  }
 ],
 "metadata": {
  "kernelspec": {
   "display_name": "Python 3 (ipykernel)",
   "language": "python",
   "name": "python3"
  },
  "language_info": {
   "codemirror_mode": {
    "name": "ipython",
    "version": 3
   },
   "file_extension": ".py",
   "mimetype": "text/x-python",
   "name": "python",
   "nbconvert_exporter": "python",
   "pygments_lexer": "ipython3",
   "version": "3.11.4"
  }
 },
 "nbformat": 4,
 "nbformat_minor": 5
}
