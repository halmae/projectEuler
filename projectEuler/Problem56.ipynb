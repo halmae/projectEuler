{
 "cells": [
  {
   "cell_type": "markdown",
   "id": "e3bd9d05",
   "metadata": {},
   "source": [
    "# Powerful Digit Sum\n",
    "\n",
    "A googol($10^{100}$) is a massive number: one followed by one-hundred zeros: $100^{100}$ is almost unimaginably large: one followed by two-hundred zeros. Despite their size, the sum of the digits in each number is only $1$. </br>\n",
    "\n",
    "Considering natural numbers of the form, $a^b$, where $a,\\, b < 100$, what is the maximum digit sum?"
   ]
  },
  {
   "cell_type": "code",
   "execution_count": 1,
   "id": "6f1a3f28",
   "metadata": {},
   "outputs": [],
   "source": [
    "def get_digit_sum(num):\n",
    "    num_str = str(num)\n",
    "    num_lst = list(num_str)\n",
    "    \n",
    "    result = 0\n",
    "    \n",
    "    for i in num_lst:\n",
    "        result += int(i)\n",
    "        \n",
    "    return result"
   ]
  },
  {
   "cell_type": "code",
   "execution_count": 4,
   "id": "0f18ff36",
   "metadata": {},
   "outputs": [],
   "source": [
    "result = 0\n",
    "\n",
    "for a in range(2, 100):\n",
    "    for b in range(2, 100):\n",
    "        num = a ** b\n",
    "        result = max(result, get_digit_sum(num))"
   ]
  },
  {
   "cell_type": "code",
   "execution_count": 5,
   "id": "d3a69749",
   "metadata": {},
   "outputs": [
    {
     "data": {
      "text/plain": [
       "972"
      ]
     },
     "execution_count": 5,
     "metadata": {},
     "output_type": "execute_result"
    }
   ],
   "source": [
    "result"
   ]
  }
 ],
 "metadata": {
  "kernelspec": {
   "display_name": "Python 3 (ipykernel)",
   "language": "python",
   "name": "python3"
  },
  "language_info": {
   "codemirror_mode": {
    "name": "ipython",
    "version": 3
   },
   "file_extension": ".py",
   "mimetype": "text/x-python",
   "name": "python",
   "nbconvert_exporter": "python",
   "pygments_lexer": "ipython3",
   "version": "3.11.4"
  }
 },
 "nbformat": 4,
 "nbformat_minor": 5
}
