{
 "cells": [
  {
   "cell_type": "markdown",
   "id": "09f86c4d",
   "metadata": {},
   "source": [
    "You are given the following information, but you may prefer to do some research for yourself.\n",
    "- 1 Jan 1900 was a Monday.\n",
    "- Thirty days has September, April, June and November.\n",
    "- All the rest have thirty-one\n",
    "- Saving February alone,\n",
    "- Which has twenty-eight, rain or shine.\n",
    "- And on leap years, twenty-nine.\n",
    "- A leap year occurs on any year evenly divisible by 4, but not on a century unless it is divisble by 400.\n",
    "How many Sundays fell on the first of the month during the twentieth century (1 Jan 1901 to 31 Dec 2000)?"
   ]
  },
  {
   "cell_type": "code",
   "execution_count": 67,
   "id": "9f9ee4cd",
   "metadata": {},
   "outputs": [],
   "source": [
    "months = {1 : 31,\n",
    "        2: 28,\n",
    "        3: 31,\n",
    "        4: 30,\n",
    "        5: 31,\n",
    "        6: 30,\n",
    "        7: 31,\n",
    "        8: 31,\n",
    "        9: 30,\n",
    "        10 : 31,\n",
    "        11 : 30,\n",
    "        12 : 31}"
   ]
  },
  {
   "cell_type": "code",
   "execution_count": 68,
   "id": "bd6fb0ea",
   "metadata": {},
   "outputs": [],
   "source": [
    "result = 0\n",
    "no_sun = 0\n",
    "start = 0\n",
    "for year in range(1900, 2000 + 1):\n",
    "    if year == 1900:\n",
    "        pass\n",
    "    elif year % 4 == 0 or year % 400 == 0:\n",
    "        months[2] = 29\n",
    "    else:\n",
    "        months[2] = 28\n",
    "    \n",
    "    for days in months:\n",
    "        if start == 6 and year != 1900:\n",
    "            result += 1\n",
    "        no_sun += (start + months[days]) // 7\n",
    "        start = (start + months[days]) % 7"
   ]
  },
  {
   "cell_type": "code",
   "execution_count": 69,
   "id": "474648dd",
   "metadata": {},
   "outputs": [
    {
     "data": {
      "text/plain": [
       "171"
      ]
     },
     "execution_count": 69,
     "metadata": {},
     "output_type": "execute_result"
    }
   ],
   "source": [
    "result"
   ]
  }
 ],
 "metadata": {
  "kernelspec": {
   "display_name": "Python 3 (ipykernel)",
   "language": "python",
   "name": "python3"
  },
  "language_info": {
   "codemirror_mode": {
    "name": "ipython",
    "version": 3
   },
   "file_extension": ".py",
   "mimetype": "text/x-python",
   "name": "python",
   "nbconvert_exporter": "python",
   "pygments_lexer": "ipython3",
   "version": "3.11.4"
  }
 },
 "nbformat": 4,
 "nbformat_minor": 5
}
