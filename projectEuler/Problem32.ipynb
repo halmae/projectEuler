{
 "cells": [
  {
   "cell_type": "markdown",
   "id": "265ea307",
   "metadata": {},
   "source": [
    "We shall say that an $n$-digit number is pandigital if it makes use of all the digits $1$ to $n$ exactly once; for example, the $5$-digit number, $15234$, is $1$ through $5$ pandigital. </br>\n",
    "Thr product $7254$ is unusual, as the identity, $39 \\times 186 = 7254$, containing multiplicand, multiplier, and product is $1$ through $9$ pandigital. </br>\n",
    "Find the sum of all products whose multiplicand / multiplier / product identity can be written as a $1$ through $9$ pandigital. </br>\n",
    "HINT: Some products can be obtained in more than one way so be sure to only include it once in your sum."
   ]
  },
  {
   "cell_type": "code",
   "execution_count": 80,
   "id": "c46e61c4",
   "metadata": {},
   "outputs": [],
   "source": [
    "def find_pandigital():\n",
    "    \n",
    "    product_sum = 0\n",
    "    pandigital_products = set()\n",
    "    \n",
    "    for multiplicand in range(1, 10000):\n",
    "        for multiplier in range(1, 100):\n",
    "            product = multiplicand * multiplier\n",
    "            \n",
    "            check = str(product) + str(multiplicand) + str(multiplier)\n",
    "            if ''.join(sorted(check)) == '123456789':\n",
    "                pandigital_products.add(product)\n",
    "\n",
    "    products_sum = sum(pandigital_products)\n",
    "    return products_sum"
   ]
  },
  {
   "cell_type": "code",
   "execution_count": 81,
   "id": "3f9aba7e",
   "metadata": {},
   "outputs": [
    {
     "data": {
      "text/plain": [
       "45228"
      ]
     },
     "execution_count": 81,
     "metadata": {},
     "output_type": "execute_result"
    }
   ],
   "source": [
    "find_pandigital()"
   ]
  }
 ],
 "metadata": {
  "kernelspec": {
   "display_name": "Python 3 (ipykernel)",
   "language": "python",
   "name": "python3"
  },
  "language_info": {
   "codemirror_mode": {
    "name": "ipython",
    "version": 3
   },
   "file_extension": ".py",
   "mimetype": "text/x-python",
   "name": "python",
   "nbconvert_exporter": "python",
   "pygments_lexer": "ipython3",
   "version": "3.11.4"
  }
 },
 "nbformat": 4,
 "nbformat_minor": 5
}
