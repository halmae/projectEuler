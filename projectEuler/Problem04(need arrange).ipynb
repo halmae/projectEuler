{
 "cells": [
  {
   "cell_type": "markdown",
   "id": "8e136493",
   "metadata": {},
   "source": [
    "A palindromic number reads the same both ways. The largest palindrome made from the product of two 2-digit numbers is $9009 = 91 \\times 99$. </br>\n",
    "Find the largest palindrome made from the product of two 3-digit numbers."
   ]
  },
  {
   "cell_type": "code",
   "execution_count": 44,
   "id": "1f91dd9f",
   "metadata": {},
   "outputs": [],
   "source": [
    "import numpy as np"
   ]
  },
  {
   "cell_type": "code",
   "execution_count": 58,
   "id": "144867d0",
   "metadata": {},
   "outputs": [],
   "source": [
    "def largest_prime_factor(number):\n",
    "    i = 2\n",
    "    while i * i <= number:\n",
    "        if number % i == 0:\n",
    "            number //= i\n",
    "        else:\n",
    "            i += 1\n",
    "    return number\n",
    "\n",
    "def is_prime(I):\n",
    "    if I == 2: return True\n",
    "    elif I % 2 == 0: return False\n",
    "    for i in range(3, int(I**0.5) + 1, 2):\n",
    "        if I % i == 0: return False\n",
    "    return True\n",
    "\n",
    "def prime_factors(n):\n",
    "    factors = []\n",
    "    while n % 2 == 0:\n",
    "        factors.append(2)\n",
    "        n = n // 2\n",
    "    \n",
    "    for i in range(3, int(n**0.5) + 1, 2):\n",
    "        while n % i == 0:\n",
    "            factors.append(i)\n",
    "            n = n // i\n",
    "    \n",
    "    if n > 2:\n",
    "        factors.append(n)\n",
    "    \n",
    "    return factors"
   ]
  },
  {
   "cell_type": "code",
   "execution_count": 46,
   "id": "422e7493",
   "metadata": {},
   "outputs": [],
   "source": [
    "N_lst = np.arange(100 * 100, 999 * 999 + 1, 1)"
   ]
  },
  {
   "cell_type": "code",
   "execution_count": 47,
   "id": "3d77d051",
   "metadata": {},
   "outputs": [
    {
     "data": {
      "text/plain": [
       "array([ 10000,  10001,  10002, ..., 997999, 998000, 998001])"
      ]
     },
     "execution_count": 47,
     "metadata": {},
     "output_type": "execute_result"
    }
   ],
   "source": [
    "N_lst"
   ]
  },
  {
   "cell_type": "code",
   "execution_count": 59,
   "id": "e0383dbc",
   "metadata": {},
   "outputs": [],
   "source": [
    "palindrom_lst = []\n",
    "factor_lst = []\n",
    "\n",
    "for number in N_lst:\n",
    "    if str(number) == str(number)[::-1]:\n",
    "        if len(str(largest_prime_factor(number))) == 3:\n",
    "            palindrom_lst.append(number)\n",
    "            factor_lst.append([largest_prime_factor(number), int(number / largest_prime_factor(number))])"
   ]
  },
  {
   "cell_type": "code",
   "execution_count": 86,
   "id": "51d4a269",
   "metadata": {},
   "outputs": [
    {
     "name": "stdout",
     "output_type": "stream",
     "text": [
      "906609\n"
     ]
    }
   ],
   "source": [
    "def is_palindrome(n):\n",
    "    # Convert the number to a string and check if it reads the same backward\n",
    "    return str(n) == str(n)[::-1]\n",
    "\n",
    "def largest_palindrome_product():\n",
    "    largest_palindrome = 0\n",
    "\n",
    "    for i in range(100, 1000):\n",
    "        for j in range(100, 1000):\n",
    "            product = i * j\n",
    "            if is_palindrome(product) and product > largest_palindrome:\n",
    "                largest_palindrome = product\n",
    "\n",
    "    return largest_palindrome\n",
    "\n",
    "result = largest_palindrome_product()\n",
    "print(result)"
   ]
  },
  {
   "cell_type": "code",
   "execution_count": null,
   "id": "cc3e8cba",
   "metadata": {},
   "outputs": [],
   "source": []
  }
 ],
 "metadata": {
  "kernelspec": {
   "display_name": "Python 3 (ipykernel)",
   "language": "python",
   "name": "python3"
  },
  "language_info": {
   "codemirror_mode": {
    "name": "ipython",
    "version": 3
   },
   "file_extension": ".py",
   "mimetype": "text/x-python",
   "name": "python",
   "nbconvert_exporter": "python",
   "pygments_lexer": "ipython3",
   "version": "3.11.4"
  }
 },
 "nbformat": 4,
 "nbformat_minor": 5
}
