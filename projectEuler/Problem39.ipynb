{
 "cells": [
  {
   "cell_type": "markdown",
   "id": "8ee0b169",
   "metadata": {},
   "source": [
    "# Integer Right Triangles\n",
    "If $p$ is the perimeter of a right angle triangle with integral length sides, $\\{a,\\,b,\\,c\\}$, there are exactly three solutions for $p = 120$. </br>\n",
    "$$\n",
    "\\begin{align}\n",
    "\\{20,\\,48,\\,52\\},\\: \\{24,\\,45,\\,51\\},\\: \\{30,\\,40,\\,50\\}\n",
    "\\end{align}\n",
    "$$\n",
    "For which value of $p \\leq 1000$, is the number of solutions maximized?"
   ]
  },
  {
   "cell_type": "code",
   "execution_count": 15,
   "id": "a34e694e",
   "metadata": {},
   "outputs": [],
   "source": [
    "def is_pythagorean(lst):\n",
    "    lst.sort()\n",
    "    a = lst[0]\n",
    "    b = lst[1]\n",
    "    c = lst[2]\n",
    "    return a**2 + b**2 == c**2"
   ]
  },
  {
   "cell_type": "code",
   "execution_count": 29,
   "id": "0eba14c1",
   "metadata": {},
   "outputs": [],
   "source": [
    "def num_of_pythagorean(num):\n",
    "    bound = num // 2\n",
    "    result = []\n",
    "    \n",
    "    # hypotenuse\n",
    "    for i in range(1, bound):\n",
    "        for j in range(i):\n",
    "            k = num - i - j\n",
    "            if j + k < i:\n",
    "                continue\n",
    "            else:\n",
    "                triangle = [i, j, k]\n",
    "                if is_pythagorean(triangle) and triangle not in result:\n",
    "                    result.append(triangle)\n",
    "    \n",
    "    return len(result)"
   ]
  },
  {
   "cell_type": "code",
   "execution_count": 32,
   "id": "2595d6fd",
   "metadata": {},
   "outputs": [
    {
     "name": "stdout",
     "output_type": "stream",
     "text": [
      "12\n",
      "60\n",
      "120\n",
      "240\n",
      "420\n",
      "720\n",
      "840\n"
     ]
    },
    {
     "data": {
      "text/plain": [
       "8"
      ]
     },
     "execution_count": 32,
     "metadata": {},
     "output_type": "execute_result"
    }
   ],
   "source": [
    "bound = 1000\n",
    "\n",
    "result = 0\n",
    "\n",
    "p = 3\n",
    "\n",
    "while p < 1000:\n",
    "    if result < num_of_pythagorean(p):\n",
    "        print(p)\n",
    "    result = max(result, num_of_pythagorean(p))\n",
    "    p +=1\n",
    "    \n",
    "result"
   ]
  }
 ],
 "metadata": {
  "kernelspec": {
   "display_name": "Python 3 (ipykernel)",
   "language": "python",
   "name": "python3"
  },
  "language_info": {
   "codemirror_mode": {
    "name": "ipython",
    "version": 3
   },
   "file_extension": ".py",
   "mimetype": "text/x-python",
   "name": "python",
   "nbconvert_exporter": "python",
   "pygments_lexer": "ipython3",
   "version": "3.11.4"
  }
 },
 "nbformat": 4,
 "nbformat_minor": 5
}
