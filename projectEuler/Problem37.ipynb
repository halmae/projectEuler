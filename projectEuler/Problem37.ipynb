{
 "cells": [
  {
   "cell_type": "markdown",
   "id": "4ac77c76",
   "metadata": {},
   "source": [
    "# Truncatable Primes\n",
    "The number $3797$ has an interesting property. Being prime itself, it is possible to coninuously remove digits from left to right, and remain prime at each stage: $3797$, $797$, $97$, and $7$. Similarly we can work from right to left: $3797$, $379$, $37$, and $3$. </br>\n",
    "\n",
    "Find the sum of the only eleven primes that are both truncatable from left to right and right to left. </br>\n",
    "\n",
    "NOTE : $2$, $3$, $5$, and $7$ are not considered to be truncatable primes."
   ]
  },
  {
   "cell_type": "code",
   "execution_count": 10,
   "id": "c0f72c80",
   "metadata": {},
   "outputs": [],
   "source": [
    "def is_prime(num):\n",
    "    if num <= 1: return False\n",
    "    elif num == 2: return True\n",
    "    elif num % 2 == 0: return False\n",
    "    else:\n",
    "        for i in range(3, int(num**0.5) + 1, 2):\n",
    "            if num % i == 0: return False\n",
    "        return True\n",
    "\n",
    "def num_LR(num):\n",
    "    num = str(num)\n",
    "    result = []\n",
    "    \n",
    "    for i in range(len(num)):\n",
    "        result.append(int(num[i:]))\n",
    "    \n",
    "    return result\n",
    "\n",
    "def num_RL(num):\n",
    "    num = str(num)\n",
    "    result = []\n",
    "    \n",
    "    for i in range(len(num)):\n",
    "        result.append(int(num[:len(num) - i]))\n",
    "    \n",
    "    return result"
   ]
  },
  {
   "cell_type": "code",
   "execution_count": 18,
   "id": "4e6069ee",
   "metadata": {},
   "outputs": [],
   "source": [
    "import numpy as np\n",
    "\n",
    "vectorize = np.vectorize(is_prime)\n",
    "\n",
    "result = 0\n",
    "\n",
    "cnt = 0 \n",
    "num = 10\n",
    "\n",
    "while cnt < 11:\n",
    "    LR = np.array(num_LR(num))\n",
    "    RL = np.array(num_RL(num))\n",
    "    \n",
    "    output_LR = vectorize(LR)\n",
    "    output_RL = vectorize(RL)\n",
    "    \n",
    "    if output_LR.all() and output_RL.all():\n",
    "        cnt += 1\n",
    "        result += num\n",
    "    \n",
    "    num += 1"
   ]
  },
  {
   "cell_type": "code",
   "execution_count": 19,
   "id": "e0c403fe",
   "metadata": {},
   "outputs": [
    {
     "data": {
      "text/plain": [
       "748317"
      ]
     },
     "execution_count": 19,
     "metadata": {},
     "output_type": "execute_result"
    }
   ],
   "source": [
    "result"
   ]
  }
 ],
 "metadata": {
  "kernelspec": {
   "display_name": "Python 3 (ipykernel)",
   "language": "python",
   "name": "python3"
  },
  "language_info": {
   "codemirror_mode": {
    "name": "ipython",
    "version": 3
   },
   "file_extension": ".py",
   "mimetype": "text/x-python",
   "name": "python",
   "nbconvert_exporter": "python",
   "pygments_lexer": "ipython3",
   "version": "3.11.4"
  }
 },
 "nbformat": 4,
 "nbformat_minor": 5
}
