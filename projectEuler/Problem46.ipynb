{
 "cells": [
  {
   "cell_type": "markdown",
   "id": "e448cf0a",
   "metadata": {},
   "source": [
    "# Goldbach's Other Conjecture\n",
    "It was proposed by Christian Goldbach that every odd composite number can be written as the sum of a prime and twice a square.\n",
    "$$\n",
    "\\begin{eqnarray}\n",
    "9 &=& 7 + 2 \\times 1^2 \\\\\n",
    "15 &=& 7 + 2 \\times 2^2 \\\\\n",
    "21 &=& 3 + 2 \\times 3^2 \\\\\n",
    "25 &=& 7 + 2 \\times 3^2 \\\\\n",
    "27 &=& 19 + 2 \\times 2^2 \\\\\n",
    "33 &=& 31 + 2 \\times 1^2\n",
    "\\end{eqnarray}\n",
    "$$\n",
    "It turns out that the conjecture was false. </br>\n",
    "\n",
    "What is the smallest odd composite that cannot be written as the sum of a prime and twice a square?"
   ]
  },
  {
   "cell_type": "code",
   "execution_count": 5,
   "id": "a493b280",
   "metadata": {},
   "outputs": [],
   "source": [
    "import numpy as np"
   ]
  },
  {
   "cell_type": "code",
   "execution_count": 1,
   "id": "43c1765e",
   "metadata": {},
   "outputs": [],
   "source": [
    "def is_prime(num):\n",
    "    if num <= 1: return False\n",
    "    elif num == 2: return True\n",
    "    elif num % 2 == 0: return False\n",
    "    else:\n",
    "        for i in range(3, int(num**0.5) + 1, 2):\n",
    "            if num % i == 0: return False\n",
    "        return True"
   ]
  },
  {
   "cell_type": "code",
   "execution_count": 15,
   "id": "c2161253",
   "metadata": {},
   "outputs": [],
   "source": [
    "def is_conjecture(num):\n",
    "    \n",
    "    for i in range(2, num):\n",
    "        if is_prime(i):\n",
    "            target = num - i\n",
    "            double_prime = np.array([2 * x**2 for x in range(1, int(target**0.5) + 1)])\n",
    "            \n",
    "            if np.any(target - double_prime == 0):\n",
    "                return True\n",
    "    \n",
    "    return False"
   ]
  },
  {
   "cell_type": "code",
   "execution_count": 23,
   "id": "3a28f0b2",
   "metadata": {},
   "outputs": [],
   "source": [
    "num = 3\n",
    "\n",
    "while 1:\n",
    "    if not is_prime(num) and num % 2 != 0:\n",
    "        if not is_conjecture(num):\n",
    "            break\n",
    "    num += 1"
   ]
  },
  {
   "cell_type": "code",
   "execution_count": 24,
   "id": "9dc7ffde",
   "metadata": {},
   "outputs": [
    {
     "data": {
      "text/plain": [
       "5777"
      ]
     },
     "execution_count": 24,
     "metadata": {},
     "output_type": "execute_result"
    }
   ],
   "source": [
    "num"
   ]
  }
 ],
 "metadata": {
  "kernelspec": {
   "display_name": "Python 3 (ipykernel)",
   "language": "python",
   "name": "python3"
  },
  "language_info": {
   "codemirror_mode": {
    "name": "ipython",
    "version": 3
   },
   "file_extension": ".py",
   "mimetype": "text/x-python",
   "name": "python",
   "nbconvert_exporter": "python",
   "pygments_lexer": "ipython3",
   "version": "3.11.4"
  }
 },
 "nbformat": 4,
 "nbformat_minor": 5
}
