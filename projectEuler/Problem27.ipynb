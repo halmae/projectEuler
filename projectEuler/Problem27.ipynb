{
 "cells": [
  {
   "cell_type": "markdown",
   "id": "2c5ebf7b",
   "metadata": {},
   "source": [
    "Euler discovered the remarkable quadratic formula:\n",
    "$$\n",
    "\\begin{align}\n",
    "n^2 + n + 41\n",
    "\\end{align}\n",
    "$$\n",
    "It turns out that the formula will produce $40$ primes for the consecutive integer values $0 \\leq n \\leq 39$. However, when $n = 40$, $40^2 + 40 + 41 = 40(40 + 1) + 41$ is divisible by $41$, and certainly when $n = 41$, $41^2 + 41 + 41$ is clearly divisible by $41$. </br>\n",
    "</br>\n",
    "The incredible formula $n^2 - 79 n + 1601$ was discovered, which produces $80$ primes for the consecutive values $0\\leq n \\leq 79$. The product of the coefficients, $-79$ and $1601$, is $-126479$. </br>\n",
    "</br>\n",
    "Considering quadratics of the form:\n",
    "$$\n",
    "\\begin{align}\n",
    "& n^2 + an + b, \\text{ where } |a| < 1000 \\text{ and } |b| \\leq 1000 \\\\\n",
    "&\\text{where } |n| \\text{ is the modulus / absolute value of } n \\\\\n",
    "&\\text{e.g. } |11| = 11 \\text{ and } |-4| = 4\n",
    "\\end{align}\n",
    "$$\n",
    "Find the product of the coefficients, $a$ and $b$, for the quadratic expression that produces the maximum number of primes for consecutive values of $n$, starting with $n = 0$."
   ]
  },
  {
   "cell_type": "code",
   "execution_count": 67,
   "id": "08efad17",
   "metadata": {},
   "outputs": [],
   "source": [
    "def is_prime(num):\n",
    "    if num < 2:\n",
    "        return False\n",
    "    for i in range(2, int(num**0.5) + 1):\n",
    "        if num % i == 0:\n",
    "            return False\n",
    "    return True"
   ]
  },
  {
   "cell_type": "code",
   "execution_count": 68,
   "id": "5b725ef3",
   "metadata": {},
   "outputs": [],
   "source": [
    "def target_function(n, a, b):\n",
    "    return n**2 + a * n + b"
   ]
  },
  {
   "cell_type": "code",
   "execution_count": 69,
   "id": "7996b6ee",
   "metadata": {},
   "outputs": [],
   "source": [
    "def max_prime_numbers(a, b):\n",
    "    i = 0\n",
    "    while is_prime(target_function(i, a, b)):\n",
    "        i += 1\n",
    "    return i"
   ]
  },
  {
   "cell_type": "code",
   "execution_count": 53,
   "id": "a68219b7",
   "metadata": {},
   "outputs": [
    {
     "data": {
      "text/plain": [
       "80"
      ]
     },
     "execution_count": 53,
     "metadata": {},
     "output_type": "execute_result"
    }
   ],
   "source": [
    "max_prime_numbers(-79, 1601)"
   ]
  },
  {
   "cell_type": "code",
   "execution_count": 70,
   "id": "0e88ca58",
   "metadata": {},
   "outputs": [
    {
     "name": "stdout",
     "output_type": "stream",
     "text": [
      "1 [-999, 2]\n",
      "2 [-996, 997]\n",
      "3 [-499, 997]\n",
      "4 [-325, 977]\n",
      "5 [-245, 977]\n",
      "6 [-197, 983]\n",
      "7 [-163, 983]\n",
      "8 [-131, 941]\n",
      "9 [-121, 947]\n",
      "11 [-105, 967]\n",
      "71 [-61, 971]\n"
     ]
    }
   ],
   "source": [
    "import numpy as np\n",
    "\n",
    "a = np.arange(-999, 999 + 1, 1)\n",
    "b = np.arange(-1000, 1000 + 1, 1)\n",
    "\n",
    "result = -np.inf\n",
    "target = []\n",
    "\n",
    "for i in a:\n",
    "    for j in b:\n",
    "        if j <= 0:\n",
    "            continue\n",
    "        elif is_prime(j):\n",
    "            if result < max_prime_numbers(i, j):\n",
    "                result = max_prime_numbers(i, j)\n",
    "                target = [i, j]\n",
    "                print(result, target)"
   ]
  },
  {
   "cell_type": "code",
   "execution_count": 73,
   "id": "d78399e0",
   "metadata": {},
   "outputs": [
    {
     "data": {
      "text/plain": [
       "[-61, 971]"
      ]
     },
     "execution_count": 73,
     "metadata": {},
     "output_type": "execute_result"
    }
   ],
   "source": [
    "target"
   ]
  },
  {
   "cell_type": "code",
   "execution_count": 35,
   "id": "933160f1",
   "metadata": {},
   "outputs": [
    {
     "name": "stdout",
     "output_type": "stream",
     "text": [
      "Product of coefficients (a * b): -60939\n"
     ]
    }
   ],
   "source": [
    "def consecutive_primes(a, b):\n",
    "    n = 0\n",
    "    while is_prime(n**2 + a*n + b):\n",
    "        n += 1\n",
    "    return n\n",
    "\n",
    "def product_of_coefficients(limit):\n",
    "    max_primes = 0\n",
    "    product = 0\n",
    "\n",
    "    for a in range(-limit + 1, limit):\n",
    "        for b in range(-limit, limit + 1):\n",
    "            num_primes = consecutive_primes(a, b)\n",
    "            if num_primes > max_primes:\n",
    "                max_primes = num_primes\n",
    "                product = a * b\n",
    "\n",
    "    return product\n",
    "\n",
    "# Find the product of coefficients for the quadratic expression\n",
    "result = product_of_coefficients(1000)\n",
    "print(\"Product of coefficients (a * b):\", result)"
   ]
  },
  {
   "cell_type": "code",
   "execution_count": 62,
   "id": "b266c689",
   "metadata": {},
   "outputs": [
    {
     "name": "stdout",
     "output_type": "stream",
     "text": [
      "Product of coefficients (a * b): -59231\n"
     ]
    }
   ],
   "source": [
    "def is_prime(num):\n",
    "    if num < 2:\n",
    "        return False\n",
    "    for i in range(2, int(num**0.5) + 1):\n",
    "        if num % i == 0:\n",
    "            return False\n",
    "    return True\n",
    "\n",
    "def consecutive_primes(a, b):\n",
    "    n = 0\n",
    "    while is_prime(n**2 + a*n + b):\n",
    "        n += 1\n",
    "    return n\n",
    "\n",
    "def product_of_coefficients(limit):\n",
    "    max_primes = 0\n",
    "    product = 0\n",
    "\n",
    "    for a in range(-limit + 1, limit):\n",
    "        for b in range(2, limit + 1):\n",
    "            if is_prime(b):\n",
    "                num_primes = consecutive_primes(a, b)\n",
    "                if num_primes > max_primes:\n",
    "                    max_primes = num_primes\n",
    "                    product = a * b\n",
    "\n",
    "    return product\n",
    "\n",
    "# Find the product of coefficients for the quadratic expression\n",
    "result = product_of_coefficients(1000)\n",
    "print(\"Product of coefficients (a * b):\", result)"
   ]
  },
  {
   "cell_type": "code",
   "execution_count": 63,
   "id": "3ae0b745",
   "metadata": {},
   "outputs": [
    {
     "data": {
      "text/plain": [
       "71"
      ]
     },
     "execution_count": 63,
     "metadata": {},
     "output_type": "execute_result"
    }
   ],
   "source": [
    "consecutive_primes(-61, 971)"
   ]
  },
  {
   "cell_type": "code",
   "execution_count": 66,
   "id": "16f8f79e",
   "metadata": {},
   "outputs": [
    {
     "data": {
      "text/plain": [
       "1"
      ]
     },
     "execution_count": 66,
     "metadata": {},
     "output_type": "execute_result"
    }
   ],
   "source": [
    "consecutive_primes(-999, 61)"
   ]
  },
  {
   "cell_type": "code",
   "execution_count": null,
   "id": "e34d5c1c",
   "metadata": {},
   "outputs": [],
   "source": []
  }
 ],
 "metadata": {
  "kernelspec": {
   "display_name": "Python 3 (ipykernel)",
   "language": "python",
   "name": "python3"
  },
  "language_info": {
   "codemirror_mode": {
    "name": "ipython",
    "version": 3
   },
   "file_extension": ".py",
   "mimetype": "text/x-python",
   "name": "python",
   "nbconvert_exporter": "python",
   "pygments_lexer": "ipython3",
   "version": "3.11.4"
  }
 },
 "nbformat": 4,
 "nbformat_minor": 5
}
