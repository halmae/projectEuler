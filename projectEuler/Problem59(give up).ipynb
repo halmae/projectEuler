{
 "cells": [
  {
   "cell_type": "markdown",
   "id": "d5f92a30",
   "metadata": {},
   "source": [
    "# XOR Decryption\n",
    "\n",
    "Each character on a computer is assigned a unique code and the preferred standard is ASCII (American Standard Code for Information Interchange). For example, uppercase $\\text{A} = 65$, asterisk($\\ast$) = 42, and lowercase $\\text{k} = 107$. </br>\n",
    "\n",
    "A modern encryption method is to take a text file, convert the bytes to ASCII, then XOR each byte with a given value, taken from a secret key. The advantage with XOR function is that using the same encryption key on the cipher text, restores the plain text; for example, $65$ XOR $42$ = $107$, then $107$ XOR $42$ $= 65$. </br>\n",
    "\n",
    "For unbreakable encryption, the key is the same length as the plain text message, and the key is made up of random bytes. The user would keep the encrypted message and the encryption key in different locations, and without both \"halves\", it is impossible to decrypt the message. </br>\n",
    "\n",
    "Unfortunately, this method is impractical for most users, so the modified method is to use a password as a key. If the password is shorter than the message, which is likely, the key is repeated cyclically throughout the message. The balance for this method is using a sufficiently long password key for security, but short enough to be memorable. </br>\n",
    "\n",
    "Your task has been made easy, as the encryption key consists of three lower case characters. Using **0059_cipher.txt**, a file containing the encrypted ASCII codes, and the knowledge that the plain text must contain common English words, decrypt the message and find the sum of the ASCII values in the original text."
   ]
  },
  {
   "cell_type": "code",
   "execution_count": 1,
   "id": "8ef1326b",
   "metadata": {},
   "outputs": [],
   "source": [
    "filename = '0059_cipher.txt'\n",
    "\n",
    "with open(filename, 'r') as file:\n",
    "    line = file.readline()"
   ]
  },
  {
   "cell_type": "code",
   "execution_count": 42,
   "id": "c4b13f97",
   "metadata": {},
   "outputs": [],
   "source": [
    "encrypted = line.split(',')\n",
    "encrypted = [int(x) for x in encrypted]"
   ]
  },
  {
   "cell_type": "code",
   "execution_count": 44,
   "id": "c732a81b",
   "metadata": {},
   "outputs": [],
   "source": [
    "def xor_decrypt(ciphertext, key):\n",
    "    # 키의 길이만큼 복사하여 반복\n",
    "    key_stream = (key * (len(ciphertext) // len(key) + 1))[:len(ciphertext)]\n",
    "    \n",
    "    # XOR 연산 수행 및 결과 반환\n",
    "    decrypted_text = [char ^ ord(key_char) for char, key_char in zip(ciphertext, key_stream)]\n",
    "    return decrypted_text"
   ]
  },
  {
   "cell_type": "code",
   "execution_count": 59,
   "id": "1aee0043",
   "metadata": {},
   "outputs": [],
   "source": [
    "def is_alphabet(code):\n",
    "    if 65 <= code <= 90:\n",
    "        return True\n",
    "    elif 97 <= code <= 122:\n",
    "        return True\n",
    "    else:\n",
    "        return False"
   ]
  },
  {
   "cell_type": "code",
   "execution_count": 47,
   "id": "d2d08d20",
   "metadata": {},
   "outputs": [],
   "source": [
    "key_lst = []\n",
    "for a in range(ord('a'), ord('z') + 1):\n",
    "    for b in range(ord('a'), ord('z') + 1):\n",
    "        for c in range(ord('a'), ord('z') + 1):\n",
    "            key = chr(a) + chr(b) + chr(c)\n",
    "            key_lst.append(key)"
   ]
  },
  {
   "cell_type": "code",
   "execution_count": 60,
   "id": "bbf9a912",
   "metadata": {},
   "outputs": [],
   "source": [
    "for key in key_lst:\n",
    "    decrypted = xor_decrypt(encrypted, key)\n",
    "    \n",
    "    first_letters = decrypted[::3]\n",
    "    second_letters = decrypted[1::3]\n",
    "    third_letters = decrypted[2::3]\n",
    "    \n",
    "    \n",
    "    \n",
    "    "
   ]
  },
  {
   "cell_type": "code",
   "execution_count": 96,
   "id": "9c24ba32",
   "metadata": {},
   "outputs": [],
   "source": [
    "import string\n",
    "import json\n",
    "import itertools\n",
    "\n",
    "def solution() -> int:\n",
    "    ciphertext = read_file()\n",
    "    keys_1 = possible_keys(ciphertext[::3])\n",
    "    keys_2 = possible_keys(ciphertext[1::3])\n",
    "    keys_3 = possible_keys(ciphertext[2::3])\n",
    "    assert len(keys_1) == 1\n",
    "    assert len(keys_2) == 1\n",
    "    assert len(keys_3) == 1\n",
    "    return sum(\n",
    "        c ^ k\n",
    "        for c, k in zip(ciphertext, itertools.cycle([keys_1[0], keys_2[0], keys_3[0]]))\n",
    "    )\n",
    "\n",
    "def read_file() -> list[int]:\n",
    "    with open(\"0059_cipher.txt\") as f:\n",
    "        return json.loads(f\"[{f.read()}]\")\n",
    "    \n",
    "def possible_keys(ciphertext: list[int]) -> set[int]:\n",
    "    result = []\n",
    "    for char in string.ascii_letters:\n",
    "        plaintext = {ct ^ ord(char) for ct in set(ciphertext)}\n",
    "        extras = plaintext - acceptable\n",
    "        if not extras:\n",
    "            result.append(ord(char))\n",
    "    return result\n",
    "\n",
    "acceptable = set(\n",
    "    ord(x) for x in string.ascii_letters + string.digits + \" .,:;+?!/[]()'\\\"\"\n",
    ")"
   ]
  },
  {
   "cell_type": "code",
   "execution_count": 97,
   "id": "31cc7b27",
   "metadata": {},
   "outputs": [
    {
     "data": {
      "text/plain": [
       "129448"
      ]
     },
     "execution_count": 97,
     "metadata": {},
     "output_type": "execute_result"
    }
   ],
   "source": [
    "solution()"
   ]
  }
 ],
 "metadata": {
  "kernelspec": {
   "display_name": "Python 3 (ipykernel)",
   "language": "python",
   "name": "python3"
  },
  "language_info": {
   "codemirror_mode": {
    "name": "ipython",
    "version": 3
   },
   "file_extension": ".py",
   "mimetype": "text/x-python",
   "name": "python",
   "nbconvert_exporter": "python",
   "pygments_lexer": "ipython3",
   "version": "3.11.4"
  }
 },
 "nbformat": 4,
 "nbformat_minor": 5
}
