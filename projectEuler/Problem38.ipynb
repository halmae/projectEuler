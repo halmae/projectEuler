{
 "cells": [
  {
   "cell_type": "markdown",
   "id": "5ac093e9",
   "metadata": {},
   "source": [
    "# Pandigital Multiples\n",
    "Take the number $192$ and multiply it by each of $1$, $2$, and $3$:\n",
    "$$\n",
    "\\begin{eqnarray}\n",
    "192 \\times 1 & = & 192 \\\\\n",
    "192 \\times 2 & = & 384 \\\\\n",
    "192 \\times 3 & = & 576\n",
    "\\end{eqnarray}\n",
    "$$\n",
    "By concatenating each product we get the $1$ to $9$ pandigital, $192384576$. We will call $192384576$ the concatenated product of $192$ and $(1, 2, 3)$. </br>\n",
    "\n",
    "The same can be achieved by starting with $9$ and multiplying by $1$, $2$, $3$, $4$, and $5$, giving the pandigital, $918273645$, which is the concatenated product of $9$ and $(1,2,3,4,5)$. </br>\n",
    "\n",
    "What is the largest $1$ to $9$ pandigital $9$-digit number that can be formed as the concatenated product of an integer with $(1,2,\\ldots,n)$ where $n > 1$?"
   ]
  },
  {
   "cell_type": "code",
   "execution_count": 29,
   "id": "dfb2bc28",
   "metadata": {},
   "outputs": [],
   "source": [
    "def is_pandigital(num):\n",
    "    num_lst = sorted(list(str(num)))\n",
    "    result = ''.join(map(str, num_lst))\n",
    "    \n",
    "    return result == '123456789'"
   ]
  },
  {
   "cell_type": "code",
   "execution_count": 41,
   "id": "aacbf4ff",
   "metadata": {},
   "outputs": [],
   "source": [
    "def get_pandigital_multiples(num):\n",
    "    result = ''\n",
    "    i = 0\n",
    "    \n",
    "    while len(result) < 9:\n",
    "        i += 1\n",
    "        result += str(num * i)\n",
    "    \n",
    "    if i <= 1:\n",
    "        return 0\n",
    "    elif is_pandigital(int(result)):\n",
    "        return int(result)\n",
    "    else:\n",
    "        return 0"
   ]
  },
  {
   "cell_type": "code",
   "execution_count": 46,
   "id": "3069575a",
   "metadata": {},
   "outputs": [],
   "source": [
    "result = 0\n",
    "\n",
    "for num in range(1, int(987654321**(0.5)) + 1):\n",
    "    if get_pandigital_multiples(num):\n",
    "        result = max(result, get_pandigital_multiples(num))"
   ]
  },
  {
   "cell_type": "code",
   "execution_count": 47,
   "id": "395dbc4b",
   "metadata": {},
   "outputs": [
    {
     "data": {
      "text/plain": [
       "932718654"
      ]
     },
     "execution_count": 47,
     "metadata": {},
     "output_type": "execute_result"
    }
   ],
   "source": [
    "result"
   ]
  }
 ],
 "metadata": {
  "kernelspec": {
   "display_name": "Python 3 (ipykernel)",
   "language": "python",
   "name": "python3"
  },
  "language_info": {
   "codemirror_mode": {
    "name": "ipython",
    "version": 3
   },
   "file_extension": ".py",
   "mimetype": "text/x-python",
   "name": "python",
   "nbconvert_exporter": "python",
   "pygments_lexer": "ipython3",
   "version": "3.11.4"
  }
 },
 "nbformat": 4,
 "nbformat_minor": 5
}
