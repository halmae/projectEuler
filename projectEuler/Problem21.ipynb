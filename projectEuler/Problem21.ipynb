{
 "cells": [
  {
   "cell_type": "markdown",
   "id": "0c5981b2",
   "metadata": {},
   "source": [
    "Let $d(n)$ be defined as the sum of proper divisors of $n$ (numbers less than $n$ which divide evenly into $n$). </br>\n",
    "If $d(a) = b$ and $d(b) = a$, where $a\\neq b$, then $a$ and $b$ are an amicable pair and each of $a$ and $b$ are called amicable numbers. </br>\n",
    "For example, the proper diviosrs of $220$ are $1,2,4,5,10,11,20,22,44,55$ and $110$; therefore $d(220) = 284$. The proper divisors of $284$ are $1, 2, 4, 71$ and $142$; so $d(284) = 220$. </br>\n",
    "Evaluate the sum of all the amicable numbers under $10000$."
   ]
  },
  {
   "cell_type": "code",
   "execution_count": 11,
   "id": "bbb7fe64",
   "metadata": {},
   "outputs": [],
   "source": [
    "import numpy as np"
   ]
  },
  {
   "cell_type": "code",
   "execution_count": 6,
   "id": "6c170197",
   "metadata": {},
   "outputs": [],
   "source": [
    "def is_prime(N):\n",
    "    if N == 2: return True\n",
    "    elif N % 2 == 0: return False\n",
    "    for i in range(3, int(N ** 0.5) + 1, 2):\n",
    "        if N % i == 0: return False\n",
    "    return True"
   ]
  },
  {
   "cell_type": "code",
   "execution_count": 29,
   "id": "f1a11910",
   "metadata": {},
   "outputs": [],
   "source": [
    "def sum_factors(N):\n",
    "    result = 1\n",
    "    for num in range(2, N):\n",
    "        if N % num == 0:\n",
    "            result += num\n",
    "    return result"
   ]
  },
  {
   "cell_type": "code",
   "execution_count": 37,
   "id": "c0f3edcb",
   "metadata": {},
   "outputs": [
    {
     "name": "stdout",
     "output_type": "stream",
     "text": [
      "220\n",
      "284\n",
      "1184\n",
      "1210\n",
      "2620\n",
      "2924\n",
      "5020\n",
      "5564\n",
      "6232\n",
      "6368\n"
     ]
    },
    {
     "data": {
      "text/plain": [
       "31626"
      ]
     },
     "execution_count": 37,
     "metadata": {},
     "output_type": "execute_result"
    }
   ],
   "source": [
    "result = 0\n",
    "for num in range(2, 10000 + 1):\n",
    "    if num == sum_factors(sum_factors(num)) and num != sum_factors(num):\n",
    "        print(num)\n",
    "        result += num\n",
    "result"
   ]
  }
 ],
 "metadata": {
  "kernelspec": {
   "display_name": "Python 3 (ipykernel)",
   "language": "python",
   "name": "python3"
  },
  "language_info": {
   "codemirror_mode": {
    "name": "ipython",
    "version": 3
   },
   "file_extension": ".py",
   "mimetype": "text/x-python",
   "name": "python",
   "nbconvert_exporter": "python",
   "pygments_lexer": "ipython3",
   "version": "3.11.4"
  }
 },
 "nbformat": 4,
 "nbformat_minor": 5
}
