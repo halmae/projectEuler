{
 "cells": [
  {
   "cell_type": "markdown",
   "id": "c7adef8b",
   "metadata": {},
   "source": [
    "# Convergents of e\n",
    "The square root of $2$ can be written as an infinite continued fraction.\n",
    "$$\n",
    "\\begin{align}\n",
    "    \\sqrt{2} = 1 + \\frac{1}{\n",
    "    2 + \\frac{1}{\n",
    "    2 + \\frac{1}{\n",
    "    2 + \\frac{1}{\n",
    "    2 + \\cdots\n",
    "    }\n",
    "    }\n",
    "    }\n",
    "    }\n",
    "\\end{align}\n",
    "$$\n",
    "The infinite continued fraction can be written, $\\sqrt{2} = [1; (2)]$, $(2)$ indicates that $2$ repeats ad infinitum. In a similar way, $\\sqrt{23} = [4; (1,3,1,8)]$. </br>\n",
    "\n",
    "It turns out that the sequence of partial values of continued fractions for square roots provide the best rational approximations. Let us consider the convergents for $\\sqrt{2}$.\n",
    "$$\n",
    "\\begin{align}\n",
    "& 1 + \\frac{1}{2} = \\frac{3}{2}\\\\\n",
    "& 1 + \\frac{1}{2 + \\frac{1}{2}} = \\frac{7}{5} \\\\\n",
    "& 1 + \\frac{1}{2 + \\frac{1}{2 + \\frac{1}{2}}} = \\frac{17}{12} \\\\\n",
    "& 1 + \\frac{1}{2 + \\frac{1}{2 + \\frac{1}{2 + \\frac{1}{2}}}} = \\frac{41}{29}\n",
    "\\end{align}\n",
    "$$\n",
    "Hence the sequence of the first ten convergents for $\\sqrt{2}$ are:\n",
    "$$\n",
    "\\begin{align}\n",
    "1, \\frac{3}{2}, \\frac{7}{5}, \\frac{17}{12}, \\frac{41}{29}, \\frac{99}{70}, \\frac{239}{169}, \\frac{577}{408}, \\frac{1393}{985}, \\frac{3363}{2378}, \\cdots\n",
    "\\end{align}\n",
    "$$\n",
    "What is most surprising is that the important mathematical constant,\n",
    "$$\n",
    "\\begin{align}\n",
    "e = [2; 1, 2, 1, 1, 4, 1, 1, 6, 1, \\ldots, 1, 2k, 1, \\ldots].\n",
    "\\end{align}\n",
    "$$\n",
    "The first ten terms in the sequence of convergents for $e$ are:\n",
    "$$\n",
    "\\begin{align}\n",
    "2, 3, \\frac{8}{3}, \\frac{11}{4}, \\frac{19}{7}, \\frac{87}{32}, \\frac{106}{39}, \\frac{193}{71}, \\frac{1264}{465}, \\frac{1457}{536}, \\ldots\n",
    "\\end{align}\n",
    "$$\n",
    "The sum of digits in the numerator of the $10^{\\text{th}}$ convergent is $1 + 4 + 5 + 7 = 17$. </br>\n",
    "\n",
    "Find the sum of digits in the numerator of the $100^{\\text{th}}$ convergent of the continued fraction for $e$."
   ]
  },
  {
   "cell_type": "code",
   "execution_count": 1,
   "id": "9fcadafe",
   "metadata": {},
   "outputs": [],
   "source": [
    "import numpy as np"
   ]
  },
  {
   "cell_type": "code",
   "execution_count": 2,
   "id": "fdd06097",
   "metadata": {},
   "outputs": [],
   "source": [
    "exp = np.exp(1)"
   ]
  },
  {
   "cell_type": "code",
   "execution_count": 3,
   "id": "31938867",
   "metadata": {},
   "outputs": [],
   "source": [
    "def is_prime(num):\n",
    "    if num <= 1 : return False\n",
    "    elif num == 2 : return True\n",
    "    elif num %2 == 0 : return False\n",
    "    else:\n",
    "        for i in range(3, int(num**0.5) + 1, 2):\n",
    "            if num % i == 0 : return False\n",
    "        return True"
   ]
  },
  {
   "cell_type": "code",
   "execution_count": 4,
   "id": "fc8251ca",
   "metadata": {},
   "outputs": [],
   "source": [
    "def find_gcd(a, b):\n",
    "    a = np.abs(a)\n",
    "    b = np.abs(b)\n",
    "    \n",
    "    while b:\n",
    "        a, b = b, a % b\n",
    "\n",
    "    return a\n",
    "\n",
    "def abbrev(numerator, denominator):\n",
    "    gcd = find_gcd(numerator, denominator)\n",
    "    \n",
    "    numerator_new = numerator // gcd\n",
    "    denominator_new = denominator // gcd\n",
    "    \n",
    "    return numerator_new, denominator_new"
   ]
  },
  {
   "cell_type": "code",
   "execution_count": 5,
   "id": "88e674e7",
   "metadata": {},
   "outputs": [],
   "source": [
    "def f(x):\n",
    "    a = int(1 / x)\n",
    "    b = 1 / x - a\n",
    "    return a, b"
   ]
  },
  {
   "cell_type": "code",
   "execution_count": 6,
   "id": "6a245d4f",
   "metadata": {},
   "outputs": [],
   "source": [
    "def find_integers(N):\n",
    "    \n",
    "    result_lst = []\n",
    "    \n",
    "    i = 0\n",
    "    \n",
    "    a = exp\n",
    "    b = exp - int(a)\n",
    "    \n",
    "    while i < N:\n",
    "        i += 1\n",
    "        \n",
    "        a, b = f(b)\n",
    "        result_lst.append(a)\n",
    "    \n",
    "    return result_lst"
   ]
  },
  {
   "cell_type": "code",
   "execution_count": 7,
   "id": "730ed586",
   "metadata": {},
   "outputs": [
    {
     "data": {
      "text/plain": [
       "[1, 2, 1, 1, 4, 1, 1, 6, 1, 1, 8, 1, 1, 10, 1, 1, 12]"
      ]
     },
     "execution_count": 7,
     "metadata": {},
     "output_type": "execute_result"
    }
   ],
   "source": [
    "find_integers(17)"
   ]
  },
  {
   "cell_type": "code",
   "execution_count": 8,
   "id": "10beef46",
   "metadata": {},
   "outputs": [],
   "source": [
    "def frac_cal(a, b, c):\n",
    "    \"\"\"\n",
    "    a + b / c = (a * c + b) / c  ->  c / (a * c + b)\n",
    "    \"\"\"\n",
    "    b_new = c\n",
    "    c_new = a * c + b\n",
    "    \n",
    "    return abbrev(b_new, c_new)"
   ]
  },
  {
   "cell_type": "code",
   "execution_count": 9,
   "id": "2e73304a",
   "metadata": {},
   "outputs": [],
   "source": [
    "def convergent_sequence(N):\n",
    "    integer_lst = find_integers(N)[::-1]\n",
    "    integer_array = np.array(integer_lst, dtype = np.int64)\n",
    "    \n",
    "    a = integer_array[1]\n",
    "    b = 1\n",
    "    c = integer_array[0]\n",
    "    \n",
    "    for i in range(1, N-1):\n",
    "        b,c = frac_cal(a, b, c)\n",
    "        a = integer_array[i+1]\n",
    "        \n",
    "    return frac_cal(a, b, c)"
   ]
  },
  {
   "cell_type": "code",
   "execution_count": 10,
   "id": "a3df5552",
   "metadata": {},
   "outputs": [
    {
     "name": "stderr",
     "output_type": "stream",
     "text": [
      "/var/folders/cg/1smlgl4n1qg3chtf6mmz0kgr0000gn/T/ipykernel_2413/2129148689.py:6: RuntimeWarning: overflow encountered in scalar add\n",
      "  c_new = a * c + b\n",
      "/var/folders/cg/1smlgl4n1qg3chtf6mmz0kgr0000gn/T/ipykernel_2413/2129148689.py:6: RuntimeWarning: overflow encountered in scalar multiply\n",
      "  c_new = a * c + b\n"
     ]
    },
    {
     "data": {
      "text/plain": [
       "(-1743168242344715330, -6403563475820717743)"
      ]
     },
     "execution_count": 10,
     "metadata": {},
     "output_type": "execute_result"
    }
   ],
   "source": [
    "convergent_sequence(45)"
   ]
  },
  {
   "cell_type": "code",
   "execution_count": 28,
   "id": "17f0e2b1",
   "metadata": {},
   "outputs": [
    {
     "data": {
      "text/plain": [
       "270"
      ]
     },
     "execution_count": 28,
     "metadata": {},
     "output_type": "execute_result"
    }
   ],
   "source": [
    "from fractions import Fraction\n",
    "\n",
    "def compute_e_convergent(n):\n",
    "\n",
    "    convergents = [2]\n",
    "    for k in range(1, n):\n",
    "        if k % 3 == 2:\n",
    "            convergents.append(2 * (k // 3 + 1))\n",
    "        else:\n",
    "            convergents.append(1)\n",
    "\n",
    "\n",
    "    value = Fraction(0)\n",
    "    for i in range(n - 1, -1, -1):\n",
    "        value = Fraction(1, convergents[i] + value)\n",
    "\n",
    "    return 2 + value\n",
    "\n",
    "def sum_of_digits(n):\n",
    "    return sum(int(digit) for digit in str(n.numerator))\n",
    "\n",
    "result = sum_of_digits(e_100th_convergent)\n",
    "\n",
    "result"
   ]
  },
  {
   "cell_type": "code",
   "execution_count": 27,
   "id": "9ad78146",
   "metadata": {},
   "outputs": [
    {
     "data": {
      "text/plain": [
       "Fraction(16488786354543782209402087187160399703291669524541993056090, 6963524437876961749120273824619538346438023188214475670667)"
      ]
     },
     "execution_count": 27,
     "metadata": {},
     "output_type": "execute_result"
    }
   ],
   "source": [
    "compute_e_convergent(100)"
   ]
  },
  {
   "cell_type": "code",
   "execution_count": 30,
   "id": "fdd50802",
   "metadata": {},
   "outputs": [
    {
     "data": {
      "text/plain": [
       "270"
      ]
     },
     "execution_count": 30,
     "metadata": {},
     "output_type": "execute_result"
    }
   ],
   "source": [
    "sum_of_digits(compute_e_convergent(100))"
   ]
  }
 ],
 "metadata": {
  "kernelspec": {
   "display_name": "Python 3 (ipykernel)",
   "language": "python",
   "name": "python3"
  },
  "language_info": {
   "codemirror_mode": {
    "name": "ipython",
    "version": 3
   },
   "file_extension": ".py",
   "mimetype": "text/x-python",
   "name": "python",
   "nbconvert_exporter": "python",
   "pygments_lexer": "ipython3",
   "version": "3.11.4"
  }
 },
 "nbformat": 4,
 "nbformat_minor": 5
}
