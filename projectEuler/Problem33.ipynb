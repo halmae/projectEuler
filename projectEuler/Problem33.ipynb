{
 "cells": [
  {
   "cell_type": "markdown",
   "id": "c8f48f57",
   "metadata": {},
   "source": [
    "# Digit Cancelling Fractions\n",
    "The fraction $49 / 98$ is a curious fraction, as an inexperiened mathematician in attempting to simplify it may incorrectly believe that $49 / 98 = 4/ 8$, which is correct, is obtained by cancelling the $9$s. </br>\n",
    "We shall consider fractions like, $30 / 50  = 3 / 5$, to be trivial examples. </br>\n",
    "There are exactly four non-trivial examples of this type of fraction, less than one in value, and containing two digits in the numerator and denominator. </br>\n",
    "If the product of these four fractions is given in its lowest common terms, find the value of the denominator."
   ]
  },
  {
   "cell_type": "code",
   "execution_count": 1,
   "id": "baabe597",
   "metadata": {},
   "outputs": [],
   "source": [
    "import numpy as np"
   ]
  },
  {
   "cell_type": "code",
   "execution_count": 5,
   "id": "80813881",
   "metadata": {},
   "outputs": [],
   "source": [
    "numerators = np.arange(10, 100, 1)\n",
    "denominators = np.arange(10, 100, 1)"
   ]
  },
  {
   "cell_type": "code",
   "execution_count": 21,
   "id": "424a3ace",
   "metadata": {},
   "outputs": [],
   "source": [
    "result = []\n",
    "\n",
    "for numerator in range(10, 100):\n",
    "    numerator_to_str = str(numerator)\n",
    "    \n",
    "    if '0' in numerator_to_str:\n",
    "        continue\n",
    "    \n",
    "    for denominator in range(numerator + 1, 100):\n",
    "        \n",
    "        if numerator == denominator:\n",
    "            continue\n",
    "        \n",
    "        denominator_to_str = str(denominator)\n",
    "        \n",
    "        if '0' in denominator_to_str:\n",
    "            continue\n",
    "        \n",
    "        if numerator_to_str[0] in denominator_to_str:\n",
    "            if numerator_to_str[0] == denominator_to_str[0]:\n",
    "                if numerator / denominator == int(numerator_to_str[1]) / int(denominator_to_str[1]):\n",
    "                    result.append([numerator, denominator])\n",
    "            else:\n",
    "                if numerator / denominator == int(numerator_to_str[1]) / int(denominator_to_str[0]):\n",
    "                    result.append([numerator, denominator])\n",
    "                    \n",
    "        elif numerator_to_str[1] in denominator_to_str:\n",
    "            if numerator_to_str[1] == denominator_to_str[0]:\n",
    "                if numerator / denominator == int(numerator_to_str[0]) / int(denominator_to_str[1]):\n",
    "                    result.append([numerator, denominator])\n",
    "            else:\n",
    "                if numerator / denominator == int(numerator_to_str[1]) / int(denominator_to_str[0]):\n",
    "                    result.append([numerator, denominator])"
   ]
  },
  {
   "cell_type": "code",
   "execution_count": 22,
   "id": "90c4d791",
   "metadata": {},
   "outputs": [
    {
     "data": {
      "text/plain": [
       "[[16, 64], [19, 95], [26, 65], [49, 98]]"
      ]
     },
     "execution_count": 22,
     "metadata": {},
     "output_type": "execute_result"
    }
   ],
   "source": [
    "result"
   ]
  },
  {
   "cell_type": "code",
   "execution_count": 25,
   "id": "cce18537",
   "metadata": {},
   "outputs": [
    {
     "data": {
      "text/plain": [
       "100"
      ]
     },
     "execution_count": 25,
     "metadata": {},
     "output_type": "execute_result"
    }
   ],
   "source": [
    "4 * 5 * 5"
   ]
  }
 ],
 "metadata": {
  "kernelspec": {
   "display_name": "Python 3 (ipykernel)",
   "language": "python",
   "name": "python3"
  },
  "language_info": {
   "codemirror_mode": {
    "name": "ipython",
    "version": 3
   },
   "file_extension": ".py",
   "mimetype": "text/x-python",
   "name": "python",
   "nbconvert_exporter": "python",
   "pygments_lexer": "ipython3",
   "version": "3.11.4"
  }
 },
 "nbformat": 4,
 "nbformat_minor": 5
}
