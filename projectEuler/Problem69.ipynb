{
 "cells": [
  {
   "cell_type": "markdown",
   "id": "723d193e",
   "metadata": {},
   "source": [
    "# Totient Maximum\n",
    "Euler's totient function, $\\phi(n)$ [sometimes called the phi function], is defined as the number of positive integers not exceeding $n$ which are relatively prime to $n$. For example, as $1,\\,2,\\,4,\\,5,\\,7$, and $8$ are all less than or equal to nine and relatively prime to nine, $\\phi(9) = 6$. </br>\n",
    "\n",
    "It can be seen that $n = 6$ produces a maximum $n / \\phi(n)$ for $n \\leq 10$. </br>\n",
    "\n",
    "Find the value of $n \\leq 1\\,000\\,000$ for which $n / \\phi(n)$ is a maximum."
   ]
  },
  {
   "cell_type": "code",
   "execution_count": 8,
   "id": "41c438c6",
   "metadata": {},
   "outputs": [],
   "source": [
    "def prime_lst(n):\n",
    "    primes = [True] * (n+1)\n",
    "    primes[0] = primes[1] = False\n",
    "    p = 2\n",
    "    while p**2 <= n:\n",
    "        if primes[p]:\n",
    "            for i in range(p**2, n+1, p):\n",
    "                primes[i] = False\n",
    "        p += 1\n",
    "    return [i for i in range(n+1) if primes[i]]\n",
    "\n",
    "def main():\n",
    "    limit = 1000000\n",
    "    primes = prime_lst(limit)\n",
    "    result = 1\n",
    "    for prime in primes:\n",
    "        if result * prime > limit:\n",
    "            break\n",
    "        result *= prime\n",
    "    print(\"The value of n for which n/phi(n) is maximum is:\", result)"
   ]
  },
  {
   "cell_type": "code",
   "execution_count": 9,
   "id": "f94b1d51",
   "metadata": {},
   "outputs": [
    {
     "name": "stdout",
     "output_type": "stream",
     "text": [
      "The value of n for which n/phi(n) is maximum is: 510510\n"
     ]
    }
   ],
   "source": [
    "main()"
   ]
  }
 ],
 "metadata": {
  "kernelspec": {
   "display_name": "Python 3 (ipykernel)",
   "language": "python",
   "name": "python3"
  },
  "language_info": {
   "codemirror_mode": {
    "name": "ipython",
    "version": 3
   },
   "file_extension": ".py",
   "mimetype": "text/x-python",
   "name": "python",
   "nbconvert_exporter": "python",
   "pygments_lexer": "ipython3",
   "version": "3.11.4"
  }
 },
 "nbformat": 4,
 "nbformat_minor": 5
}
