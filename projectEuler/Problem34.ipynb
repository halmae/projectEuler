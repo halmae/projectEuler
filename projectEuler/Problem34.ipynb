{
 "cells": [
  {
   "cell_type": "markdown",
   "id": "b925b1c6",
   "metadata": {},
   "source": [
    "# Digit Factorials\n",
    "$145$ is a curious number, as $1! + 4! + 5! = 1 + 24 + 120 = 145$. </br>\n",
    "Find the sum of all numbers which are equal to the sum of the fractional of their digits. </br>\n",
    "Note : As $1! = 1$ and $2! = 2$ are not sums they are not included."
   ]
  },
  {
   "cell_type": "code",
   "execution_count": 22,
   "id": "843e160f",
   "metadata": {},
   "outputs": [],
   "source": [
    "def factorial(N):\n",
    "    if N == 1 or N == 0:\n",
    "        return 1\n",
    "    \n",
    "    return N * factorial(N - 1)\n",
    "\n",
    "def find_digit_factorials():\n",
    "    \n",
    "    result = 0\n",
    "    bound = factorial(9) * 2 + factorial(8) * 4\n",
    "    \n",
    "    num = 2\n",
    "    while num < bound:\n",
    "        num += 1\n",
    "        test = 0\n",
    "        \n",
    "        for n in str(num):\n",
    "            test += factorial(int(n))\n",
    "        \n",
    "        if test == num:\n",
    "            result += num\n",
    "        \n",
    "    return result\n",
    "        "
   ]
  },
  {
   "cell_type": "code",
   "execution_count": 23,
   "id": "e456053f",
   "metadata": {},
   "outputs": [
    {
     "data": {
      "text/plain": [
       "40730"
      ]
     },
     "execution_count": 23,
     "metadata": {},
     "output_type": "execute_result"
    }
   ],
   "source": [
    "find_digit_factorials()"
   ]
  }
 ],
 "metadata": {
  "kernelspec": {
   "display_name": "Python 3 (ipykernel)",
   "language": "python",
   "name": "python3"
  },
  "language_info": {
   "codemirror_mode": {
    "name": "ipython",
    "version": 3
   },
   "file_extension": ".py",
   "mimetype": "text/x-python",
   "name": "python",
   "nbconvert_exporter": "python",
   "pygments_lexer": "ipython3",
   "version": "3.11.4"
  }
 },
 "nbformat": 4,
 "nbformat_minor": 5
}
