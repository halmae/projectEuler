{
 "cells": [
  {
   "cell_type": "markdown",
   "id": "8596bf52",
   "metadata": {},
   "source": [
    "A unit fraction contains $1$ in the numerator. The decimal representation of the unit fractions with denominators $2$ to $10$ are given:\n",
    "$$\n",
    "\\begin{align}\n",
    "&1/2 = 0.5 \\\\\n",
    "&1/3 = 0.(3) \\\\\n",
    "&1/4 = 0.5 \\\\\n",
    "&1/5 = 0.2 \\\\\n",
    "&1/6 = 0.1(6) \\\\\n",
    "&1/7 = 0.(142857) \\\\\n",
    "&1/8 = 0.125 \\\\\n",
    "&1/9 = 0.(1) \\\\\n",
    "&1/10 = 0.1\n",
    "\\end{align}\n",
    "$$\n",
    "where $0.1(6)$ means $0.16666\\cdots$, and has a $1$-digit recurring cycle. It can be seen that $1/7$ has a $6$-digit recurring cycle. </br>\n",
    "Find the value of $d < 1000$ for which $1/d$ contains the longest recurring cycle in its decimal fraction part."
   ]
  },
  {
   "cell_type": "code",
   "execution_count": 65,
   "id": "adbac65b",
   "metadata": {},
   "outputs": [],
   "source": [
    "def find_recur(N):\n",
    "    \n",
    "    length = 0\n",
    "    result = 0\n",
    "    \n",
    "    for num in range(2, N):\n",
    "        if num % 2 == 0 or num % 5 == 0:\n",
    "            continue\n",
    "        else:\n",
    "            cycle = []\n",
    "            cycle.append( int((1 / num * 10) % 10) )\n",
    "            i = 2\n",
    "            while 1:\n",
    "                if int((1 / num * 10**i) % 10) in cycle:\n",
    "                    break\n",
    "                else:\n",
    "                    cycle.append(int((1 / num * 10**i) % 10))\n",
    "                i += 1\n",
    "            if length < len(cycle):\n",
    "                result = num\n",
    "                length = len(cycle)\n",
    "        print(num, cycle)\n",
    "    return result"
   ]
  },
  {
   "cell_type": "code",
   "execution_count": 105,
   "id": "878b5405",
   "metadata": {},
   "outputs": [
    {
     "name": "stdout",
     "output_type": "stream",
     "text": [
      "Value of d with the longest recurring cycle: 983\n"
     ]
    }
   ],
   "source": [
    "def find_longest_recurring_cycle(limit):\n",
    "    longest_cycle_length = 0\n",
    "    d_with_longest_cycle = 0\n",
    "\n",
    "    for d in range(2, limit):\n",
    "        remainder_positions = {}\n",
    "        numerator = 1\n",
    "        position = 0\n",
    "\n",
    "        while numerator != 0 and numerator not in remainder_positions:\n",
    "            remainder_positions[numerator] = position\n",
    "            numerator *= 10\n",
    "            numerator %= d\n",
    "            position += 1\n",
    "\n",
    "        if numerator != 0:\n",
    "            #cycle_length = position - remainder_positions[numerator]\n",
    "            cycle_length = position\n",
    "            if cycle_length > longest_cycle_length:\n",
    "                longest_cycle_length = cycle_length\n",
    "                d_with_longest_cycle = d\n",
    "\n",
    "    return d_with_longest_cycle\n",
    "\n",
    "# Find the value of d with the longest recurring cycle for d < 1000\n",
    "result = find_longest_recurring_cycle(1000)\n",
    "print(\"Value of d with the longest recurring cycle:\", result)"
   ]
  },
  {
   "cell_type": "code",
   "execution_count": 72,
   "id": "b5209f26",
   "metadata": {},
   "outputs": [
    {
     "data": {
      "text/plain": [
       "0.14285714285714285"
      ]
     },
     "execution_count": 72,
     "metadata": {},
     "output_type": "execute_result"
    }
   ],
   "source": [
    "1 / 7"
   ]
  },
  {
   "cell_type": "code",
   "execution_count": 97,
   "id": "790a1342",
   "metadata": {},
   "outputs": [
    {
     "data": {
      "text/plain": [
       "0.0033222591362126247"
      ]
     },
     "execution_count": 97,
     "metadata": {},
     "output_type": "execute_result"
    }
   ],
   "source": [
    "1 / 301"
   ]
  },
  {
   "cell_type": "code",
   "execution_count": 98,
   "id": "5b386df7",
   "metadata": {},
   "outputs": [
    {
     "name": "stdout",
     "output_type": "stream",
     "text": [
      "1 0\n",
      "10 1\n",
      "100 2\n",
      "97 3\n",
      "67 4\n",
      "68 5\n",
      "78 6\n",
      "178 7\n",
      "275 8\n",
      "41 9\n",
      "109 10\n",
      "187 11\n",
      "64 12\n",
      "38 13\n",
      "79 14\n",
      "188 15\n",
      "74 16\n",
      "138 17\n",
      "176 18\n",
      "255 19\n",
      "142 20\n",
      "216 21\n",
      "53 22\n",
      "229 23\n",
      "183 24\n",
      "24 25\n",
      "240 26\n",
      "293 27\n",
      "221 28\n",
      "103 29\n",
      "127 30\n",
      "66 31\n",
      "58 32\n",
      "279 33\n",
      "81 34\n",
      "208 35\n",
      "274 36\n",
      "31 37\n",
      "9 38\n",
      "90 39\n",
      "298 40\n",
      "271 41\n"
     ]
    }
   ],
   "source": [
    "d = 301\n",
    "remainder_positions = {}\n",
    "numerator = 1\n",
    "position = 0\n",
    "\n",
    "while numerator != 0 and numerator not in remainder_positions:\n",
    "    print(numerator, position)\n",
    "    remainder_positions[numerator] = position\n",
    "    numerator *= 10\n",
    "    numerator %= d\n",
    "    position += 1"
   ]
  },
  {
   "cell_type": "code",
   "execution_count": 99,
   "id": "9d5f3cee",
   "metadata": {},
   "outputs": [
    {
     "data": {
      "text/plain": [
       "{1: 0,\n",
       " 10: 1,\n",
       " 100: 2,\n",
       " 97: 3,\n",
       " 67: 4,\n",
       " 68: 5,\n",
       " 78: 6,\n",
       " 178: 7,\n",
       " 275: 8,\n",
       " 41: 9,\n",
       " 109: 10,\n",
       " 187: 11,\n",
       " 64: 12,\n",
       " 38: 13,\n",
       " 79: 14,\n",
       " 188: 15,\n",
       " 74: 16,\n",
       " 138: 17,\n",
       " 176: 18,\n",
       " 255: 19,\n",
       " 142: 20,\n",
       " 216: 21,\n",
       " 53: 22,\n",
       " 229: 23,\n",
       " 183: 24,\n",
       " 24: 25,\n",
       " 240: 26,\n",
       " 293: 27,\n",
       " 221: 28,\n",
       " 103: 29,\n",
       " 127: 30,\n",
       " 66: 31,\n",
       " 58: 32,\n",
       " 279: 33,\n",
       " 81: 34,\n",
       " 208: 35,\n",
       " 274: 36,\n",
       " 31: 37,\n",
       " 9: 38,\n",
       " 90: 39,\n",
       " 298: 40,\n",
       " 271: 41}"
      ]
     },
     "execution_count": 99,
     "metadata": {},
     "output_type": "execute_result"
    }
   ],
   "source": [
    "remainder_positions"
   ]
  },
  {
   "cell_type": "code",
   "execution_count": 100,
   "id": "010fc5c1",
   "metadata": {},
   "outputs": [
    {
     "data": {
      "text/plain": [
       "1"
      ]
     },
     "execution_count": 100,
     "metadata": {},
     "output_type": "execute_result"
    }
   ],
   "source": [
    "numerator"
   ]
  },
  {
   "cell_type": "code",
   "execution_count": 101,
   "id": "dcfda61f",
   "metadata": {},
   "outputs": [
    {
     "data": {
      "text/plain": [
       "42"
      ]
     },
     "execution_count": 101,
     "metadata": {},
     "output_type": "execute_result"
    }
   ],
   "source": [
    "position"
   ]
  },
  {
   "cell_type": "code",
   "execution_count": 102,
   "id": "7cba19cf",
   "metadata": {},
   "outputs": [
    {
     "data": {
      "text/plain": [
       "42"
      ]
     },
     "execution_count": 102,
     "metadata": {},
     "output_type": "execute_result"
    }
   ],
   "source": [
    "position - remainder_positions[numerator]"
   ]
  },
  {
   "cell_type": "code",
   "execution_count": null,
   "id": "a2972daf",
   "metadata": {},
   "outputs": [],
   "source": []
  }
 ],
 "metadata": {
  "kernelspec": {
   "display_name": "Python 3 (ipykernel)",
   "language": "python",
   "name": "python3"
  },
  "language_info": {
   "codemirror_mode": {
    "name": "ipython",
    "version": 3
   },
   "file_extension": ".py",
   "mimetype": "text/x-python",
   "name": "python",
   "nbconvert_exporter": "python",
   "pygments_lexer": "ipython3",
   "version": "3.11.4"
  }
 },
 "nbformat": 4,
 "nbformat_minor": 5
}
