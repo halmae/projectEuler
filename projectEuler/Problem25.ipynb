{
 "cells": [
  {
   "cell_type": "markdown",
   "id": "62fc2883",
   "metadata": {},
   "source": [
    "The Fibonacci sequence is defined by the recurrence relation:\n",
    "$$\n",
    "\\begin{align}\n",
    "    F_n = F_{n-1} + F_{n-2}, \\quad \\text{where } F_1 = 1 \\text{ and } F-2 = 1.\n",
    "\\end{align}\n",
    "$$\n",
    "Hence the first $12$ terms will be:\n",
    "$$\n",
    "\\begin{align}\n",
    "&F_1 = 1\\\\\n",
    "&F_2 = 1\\\\\n",
    "&F_3 = 2\\\\\n",
    "&F_4 = 3\\\\\n",
    "&F_5 = 5\\\\\n",
    "&F_6 = 8\\\\\n",
    "&F_7 = 13\\\\\n",
    "&F_8 = 21\\\\\n",
    "&F_9 = 34\\\\\n",
    "&F_{10} = 55\\\\\n",
    "&F_{11} = 89\\\\\n",
    "&F_{12} = 144\n",
    "\\end{align}\n",
    "$$\n",
    "The $12$th term $F_{12}$, is the first term to contain three digits. </br>\n",
    "What is the index of the first term in the Fibonacci sequence to contain $1000$ digits?"
   ]
  },
  {
   "cell_type": "code",
   "execution_count": 3,
   "id": "a875e647",
   "metadata": {},
   "outputs": [],
   "source": [
    "def Fibo(a, b, N):\n",
    "    \"\"\"\n",
    "    a, b : initial value\n",
    "    N : index\n",
    "    \"\"\"\n",
    "    \n",
    "    if N == 1:\n",
    "        return a\n",
    "    elif N == 2:\n",
    "        return b\n",
    "    else:\n",
    "        return Fibo(a, b, N - 1) + Fibo(a, b, N - 2)"
   ]
  },
  {
   "cell_type": "code",
   "execution_count": 10,
   "id": "ebeabe45",
   "metadata": {},
   "outputs": [
    {
     "ename": "KeyboardInterrupt",
     "evalue": "",
     "output_type": "error",
     "traceback": [
      "\u001b[0;31m---------------------------------------------------------------------------\u001b[0m",
      "\u001b[0;31mKeyboardInterrupt\u001b[0m                         Traceback (most recent call last)",
      "Cell \u001b[0;32mIn[10], line 2\u001b[0m\n\u001b[1;32m      1\u001b[0m N \u001b[38;5;241m=\u001b[39m \u001b[38;5;241m3\u001b[39m\n\u001b[0;32m----> 2\u001b[0m \u001b[38;5;28;01mwhile\u001b[39;00m \u001b[43mFibo\u001b[49m\u001b[43m(\u001b[49m\u001b[38;5;241;43m1\u001b[39;49m\u001b[43m,\u001b[49m\u001b[43m \u001b[49m\u001b[38;5;241;43m1\u001b[39;49m\u001b[43m,\u001b[49m\u001b[43m \u001b[49m\u001b[43mN\u001b[49m\u001b[43m)\u001b[49m \u001b[38;5;241m<\u001b[39m \u001b[38;5;241m10\u001b[39m\u001b[38;5;241m*\u001b[39m\u001b[38;5;241m*\u001b[39m(\u001b[38;5;241m1000\u001b[39m):\n\u001b[1;32m      3\u001b[0m     N \u001b[38;5;241m+\u001b[39m\u001b[38;5;241m=\u001b[39m \u001b[38;5;241m1\u001b[39m\n",
      "Cell \u001b[0;32mIn[3], line 12\u001b[0m, in \u001b[0;36mFibo\u001b[0;34m(a, b, N)\u001b[0m\n\u001b[1;32m     10\u001b[0m     \u001b[38;5;28;01mreturn\u001b[39;00m b\n\u001b[1;32m     11\u001b[0m \u001b[38;5;28;01melse\u001b[39;00m:\n\u001b[0;32m---> 12\u001b[0m     \u001b[38;5;28;01mreturn\u001b[39;00m Fibo(a, b, N \u001b[38;5;241m-\u001b[39m \u001b[38;5;241m1\u001b[39m) \u001b[38;5;241m+\u001b[39m \u001b[43mFibo\u001b[49m\u001b[43m(\u001b[49m\u001b[43ma\u001b[49m\u001b[43m,\u001b[49m\u001b[43m \u001b[49m\u001b[43mb\u001b[49m\u001b[43m,\u001b[49m\u001b[43m \u001b[49m\u001b[43mN\u001b[49m\u001b[43m \u001b[49m\u001b[38;5;241;43m-\u001b[39;49m\u001b[43m \u001b[49m\u001b[38;5;241;43m2\u001b[39;49m\u001b[43m)\u001b[49m\n",
      "Cell \u001b[0;32mIn[3], line 12\u001b[0m, in \u001b[0;36mFibo\u001b[0;34m(a, b, N)\u001b[0m\n\u001b[1;32m     10\u001b[0m     \u001b[38;5;28;01mreturn\u001b[39;00m b\n\u001b[1;32m     11\u001b[0m \u001b[38;5;28;01melse\u001b[39;00m:\n\u001b[0;32m---> 12\u001b[0m     \u001b[38;5;28;01mreturn\u001b[39;00m Fibo(a, b, N \u001b[38;5;241m-\u001b[39m \u001b[38;5;241m1\u001b[39m) \u001b[38;5;241m+\u001b[39m \u001b[43mFibo\u001b[49m\u001b[43m(\u001b[49m\u001b[43ma\u001b[49m\u001b[43m,\u001b[49m\u001b[43m \u001b[49m\u001b[43mb\u001b[49m\u001b[43m,\u001b[49m\u001b[43m \u001b[49m\u001b[43mN\u001b[49m\u001b[43m \u001b[49m\u001b[38;5;241;43m-\u001b[39;49m\u001b[43m \u001b[49m\u001b[38;5;241;43m2\u001b[39;49m\u001b[43m)\u001b[49m\n",
      "    \u001b[0;31m[... skipping similar frames: Fibo at line 12 (29 times)]\u001b[0m\n",
      "Cell \u001b[0;32mIn[3], line 12\u001b[0m, in \u001b[0;36mFibo\u001b[0;34m(a, b, N)\u001b[0m\n\u001b[1;32m     10\u001b[0m     \u001b[38;5;28;01mreturn\u001b[39;00m b\n\u001b[1;32m     11\u001b[0m \u001b[38;5;28;01melse\u001b[39;00m:\n\u001b[0;32m---> 12\u001b[0m     \u001b[38;5;28;01mreturn\u001b[39;00m \u001b[43mFibo\u001b[49m\u001b[43m(\u001b[49m\u001b[43ma\u001b[49m\u001b[43m,\u001b[49m\u001b[43m \u001b[49m\u001b[43mb\u001b[49m\u001b[43m,\u001b[49m\u001b[43m \u001b[49m\u001b[43mN\u001b[49m\u001b[43m \u001b[49m\u001b[38;5;241;43m-\u001b[39;49m\u001b[43m \u001b[49m\u001b[38;5;241;43m1\u001b[39;49m\u001b[43m)\u001b[49m \u001b[38;5;241m+\u001b[39m Fibo(a, b, N \u001b[38;5;241m-\u001b[39m \u001b[38;5;241m2\u001b[39m)\n",
      "Cell \u001b[0;32mIn[3], line 1\u001b[0m, in \u001b[0;36mFibo\u001b[0;34m(a, b, N)\u001b[0m\n\u001b[0;32m----> 1\u001b[0m \u001b[38;5;28;01mdef\u001b[39;00m \u001b[38;5;21mFibo\u001b[39m(a, b, N):\n\u001b[1;32m      2\u001b[0m \u001b[38;5;250m    \u001b[39m\u001b[38;5;124;03m\"\"\"\u001b[39;00m\n\u001b[1;32m      3\u001b[0m \u001b[38;5;124;03m    a, b : initial value\u001b[39;00m\n\u001b[1;32m      4\u001b[0m \u001b[38;5;124;03m    N : index\u001b[39;00m\n\u001b[1;32m      5\u001b[0m \u001b[38;5;124;03m    \"\"\"\u001b[39;00m\n\u001b[1;32m      7\u001b[0m     \u001b[38;5;28;01mif\u001b[39;00m N \u001b[38;5;241m==\u001b[39m \u001b[38;5;241m1\u001b[39m:\n",
      "\u001b[0;31mKeyboardInterrupt\u001b[0m: "
     ]
    }
   ],
   "source": [
    "N = 3\n",
    "while Fibo(1, 1, N) < 10**(1000):\n",
    "    N += 1"
   ]
  },
  {
   "cell_type": "code",
   "execution_count": 14,
   "id": "f736777c",
   "metadata": {},
   "outputs": [],
   "source": [
    "def Fibo_memo(a, b, N, memo = {}):\n",
    "    \"\"\"\n",
    "    중복 계산을 피하기 위해 이미 계산한 값을 저장하고 필요할 때 재활용하는 방법\n",
    "    \"\"\"\n",
    "    if N == 1:\n",
    "        return a\n",
    "    elif N == 2:\n",
    "        return b\n",
    "    elif N in memo:\n",
    "        return memo[N]\n",
    "    else:\n",
    "        result = Fibo_memo(a, b, N - 1, memo) + Fibo_memo(a, b, N - 2, memo)\n",
    "        memo[N] = result\n",
    "        return result"
   ]
  },
  {
   "cell_type": "code",
   "execution_count": 12,
   "id": "04edd944",
   "metadata": {},
   "outputs": [],
   "source": [
    "def fibo_dp(a, b, N):\n",
    "    fib = [a, b]\n",
    "    for i in range(2, N):\n",
    "        fib.append(fib[i - 1] + fib[i - 2])\n",
    "    return fib[N - 1]"
   ]
  },
  {
   "cell_type": "code",
   "execution_count": 21,
   "id": "b217426b",
   "metadata": {},
   "outputs": [
    {
     "ename": "RecursionError",
     "evalue": "maximum recursion depth exceeded",
     "output_type": "error",
     "traceback": [
      "\u001b[0;31m---------------------------------------------------------------------------\u001b[0m",
      "\u001b[0;31mRecursionError\u001b[0m                            Traceback (most recent call last)",
      "File \u001b[0;32m<timed exec>:2\u001b[0m\n",
      "Cell \u001b[0;32mIn[14], line 12\u001b[0m, in \u001b[0;36mFibo_memo\u001b[0;34m(a, b, N, memo)\u001b[0m\n\u001b[1;32m     10\u001b[0m     \u001b[38;5;28;01mreturn\u001b[39;00m memo[N]\n\u001b[1;32m     11\u001b[0m \u001b[38;5;28;01melse\u001b[39;00m:\n\u001b[0;32m---> 12\u001b[0m     result \u001b[38;5;241m=\u001b[39m \u001b[43mFibo_memo\u001b[49m\u001b[43m(\u001b[49m\u001b[43ma\u001b[49m\u001b[43m,\u001b[49m\u001b[43m \u001b[49m\u001b[43mb\u001b[49m\u001b[43m,\u001b[49m\u001b[43m \u001b[49m\u001b[43mN\u001b[49m\u001b[43m \u001b[49m\u001b[38;5;241;43m-\u001b[39;49m\u001b[43m \u001b[49m\u001b[38;5;241;43m1\u001b[39;49m\u001b[43m,\u001b[49m\u001b[43m \u001b[49m\u001b[43mmemo\u001b[49m\u001b[43m)\u001b[49m \u001b[38;5;241m+\u001b[39m Fibo_memo(a, b, N \u001b[38;5;241m-\u001b[39m \u001b[38;5;241m2\u001b[39m, memo)\n\u001b[1;32m     13\u001b[0m     memo[N] \u001b[38;5;241m=\u001b[39m result\n\u001b[1;32m     14\u001b[0m     \u001b[38;5;28;01mreturn\u001b[39;00m result\n",
      "Cell \u001b[0;32mIn[14], line 12\u001b[0m, in \u001b[0;36mFibo_memo\u001b[0;34m(a, b, N, memo)\u001b[0m\n\u001b[1;32m     10\u001b[0m     \u001b[38;5;28;01mreturn\u001b[39;00m memo[N]\n\u001b[1;32m     11\u001b[0m \u001b[38;5;28;01melse\u001b[39;00m:\n\u001b[0;32m---> 12\u001b[0m     result \u001b[38;5;241m=\u001b[39m \u001b[43mFibo_memo\u001b[49m\u001b[43m(\u001b[49m\u001b[43ma\u001b[49m\u001b[43m,\u001b[49m\u001b[43m \u001b[49m\u001b[43mb\u001b[49m\u001b[43m,\u001b[49m\u001b[43m \u001b[49m\u001b[43mN\u001b[49m\u001b[43m \u001b[49m\u001b[38;5;241;43m-\u001b[39;49m\u001b[43m \u001b[49m\u001b[38;5;241;43m1\u001b[39;49m\u001b[43m,\u001b[49m\u001b[43m \u001b[49m\u001b[43mmemo\u001b[49m\u001b[43m)\u001b[49m \u001b[38;5;241m+\u001b[39m Fibo_memo(a, b, N \u001b[38;5;241m-\u001b[39m \u001b[38;5;241m2\u001b[39m, memo)\n\u001b[1;32m     13\u001b[0m     memo[N] \u001b[38;5;241m=\u001b[39m result\n\u001b[1;32m     14\u001b[0m     \u001b[38;5;28;01mreturn\u001b[39;00m result\n",
      "    \u001b[0;31m[... skipping similar frames: Fibo_memo at line 12 (2967 times)]\u001b[0m\n",
      "Cell \u001b[0;32mIn[14], line 12\u001b[0m, in \u001b[0;36mFibo_memo\u001b[0;34m(a, b, N, memo)\u001b[0m\n\u001b[1;32m     10\u001b[0m     \u001b[38;5;28;01mreturn\u001b[39;00m memo[N]\n\u001b[1;32m     11\u001b[0m \u001b[38;5;28;01melse\u001b[39;00m:\n\u001b[0;32m---> 12\u001b[0m     result \u001b[38;5;241m=\u001b[39m \u001b[43mFibo_memo\u001b[49m\u001b[43m(\u001b[49m\u001b[43ma\u001b[49m\u001b[43m,\u001b[49m\u001b[43m \u001b[49m\u001b[43mb\u001b[49m\u001b[43m,\u001b[49m\u001b[43m \u001b[49m\u001b[43mN\u001b[49m\u001b[43m \u001b[49m\u001b[38;5;241;43m-\u001b[39;49m\u001b[43m \u001b[49m\u001b[38;5;241;43m1\u001b[39;49m\u001b[43m,\u001b[49m\u001b[43m \u001b[49m\u001b[43mmemo\u001b[49m\u001b[43m)\u001b[49m \u001b[38;5;241m+\u001b[39m Fibo_memo(a, b, N \u001b[38;5;241m-\u001b[39m \u001b[38;5;241m2\u001b[39m, memo)\n\u001b[1;32m     13\u001b[0m     memo[N] \u001b[38;5;241m=\u001b[39m result\n\u001b[1;32m     14\u001b[0m     \u001b[38;5;28;01mreturn\u001b[39;00m result\n",
      "\u001b[0;31mRecursionError\u001b[0m: maximum recursion depth exceeded"
     ]
    }
   ],
   "source": [
    "%%time\n",
    "N = 3\n",
    "while Fibo_memo(1, 1, N, memo={}) < 10**(1000):\n",
    "    N += 1"
   ]
  },
  {
   "cell_type": "code",
   "execution_count": 22,
   "id": "1d1cab57",
   "metadata": {},
   "outputs": [
    {
     "name": "stdout",
     "output_type": "stream",
     "text": [
      "CPU times: user 909 ms, sys: 3.25 ms, total: 912 ms\n",
      "Wall time: 913 ms\n"
     ]
    }
   ],
   "source": [
    "%%time\n",
    "N = 3\n",
    "while fibo_dp(1, 1, N) < 10**(1000):\n",
    "    N += 1"
   ]
  },
  {
   "cell_type": "code",
   "execution_count": 23,
   "id": "b233d74c",
   "metadata": {},
   "outputs": [
    {
     "name": "stdout",
     "output_type": "stream",
     "text": [
      "4787\n"
     ]
    }
   ],
   "source": [
    "print(N)"
   ]
  },
  {
   "cell_type": "code",
   "execution_count": 25,
   "id": "f7bd97d5",
   "metadata": {},
   "outputs": [
    {
     "data": {
      "text/plain": [
       "11867216745258291596767088485966669273798582100095758927648586619975930687764095025968215177396570693265703962438125699711941059562545194266075961811883693134762216371218311196004424123489176045121333888565534924242378605373120526670329845322631737678903926970677861161240351447136066048164999599442542656514905088616976279305745609791746515632977790194938965236778055329967326038544356209745856855159058933476416258769264398373862584107011986781891656652294354303384242672408623790331963965457196174228574314820977014549061641307451101774166736940218594168337251710513138183086237827524393177246011800953414994670315197696419455768988692973700193372678236023166645886460311356376355559165284374295661676047742503016358708348137445254264644759334748027290043966390891843744407845769620260120918661264249498568399416752809338209739872047617689422485537053988895817801983866648336679027270843804302586168051835624516823216354234081479331553304809262608491851078404280454207286577699580222132259241827433"
      ]
     },
     "execution_count": 25,
     "metadata": {},
     "output_type": "execute_result"
    }
   ],
   "source": [
    "fibo_dp(1, 1, 4787)"
   ]
  },
  {
   "cell_type": "code",
   "execution_count": 26,
   "id": "5ab1cc84",
   "metadata": {},
   "outputs": [
    {
     "name": "stdout",
     "output_type": "stream",
     "text": [
      "4782\n"
     ]
    }
   ],
   "source": [
    "def find_fibonacci_with_length(length):\n",
    "    a, b = 1, 1\n",
    "    index = 2  # Already have two terms (1, 1)\n",
    "    \n",
    "    while True:\n",
    "        # Generate the next Fibonacci number\n",
    "        a, b = b, a + b\n",
    "        index += 1\n",
    "\n",
    "        # Check if the length is equal to or greater than the specified length\n",
    "        if len(str(b)) >= length:\n",
    "            return index\n",
    "\n",
    "# Find the index of the first Fibonacci term with 1000 digits\n",
    "result = find_fibonacci_with_length(1000)\n",
    "print(result)"
   ]
  },
  {
   "cell_type": "code",
   "execution_count": null,
   "id": "8c453fdb",
   "metadata": {},
   "outputs": [],
   "source": []
  }
 ],
 "metadata": {
  "kernelspec": {
   "display_name": "Python 3 (ipykernel)",
   "language": "python",
   "name": "python3"
  },
  "language_info": {
   "codemirror_mode": {
    "name": "ipython",
    "version": 3
   },
   "file_extension": ".py",
   "mimetype": "text/x-python",
   "name": "python",
   "nbconvert_exporter": "python",
   "pygments_lexer": "ipython3",
   "version": "3.11.4"
  }
 },
 "nbformat": 4,
 "nbformat_minor": 5
}
