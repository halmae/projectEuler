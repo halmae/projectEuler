{
 "cells": [
  {
   "cell_type": "markdown",
   "id": "3d8a8744",
   "metadata": {},
   "source": [
    "A Pythagorean triplet is a set of three numbers, $a < b < c$, for which,\n",
    "$$\n",
    "\\begin{align}\n",
    "a^2 + b^2 = c^2.\n",
    "\\end{align}\n",
    "For example, $3^2 + 4^2 = 9 + 16 = 25 = 5^2$. </br>\n",
    "There exists exactly one Pythagorean triplet for which $a + b + c = 1000$. </br>\n",
    "Find the product $abc$."
   ]
  },
  {
   "cell_type": "code",
   "execution_count": 25,
   "id": "bf1d7215",
   "metadata": {},
   "outputs": [],
   "source": [
    "import sympy as smp\n",
    "import numpy as np"
   ]
  },
  {
   "cell_type": "code",
   "execution_count": 13,
   "id": "6b9c69c9",
   "metadata": {},
   "outputs": [],
   "source": [
    "a, b, c = smp.symbols('a b c')"
   ]
  },
  {
   "cell_type": "code",
   "execution_count": 9,
   "id": "b5f74a01",
   "metadata": {},
   "outputs": [],
   "source": [
    "eq1 = a**2 + b**2"
   ]
  },
  {
   "cell_type": "code",
   "execution_count": 10,
   "id": "d6c1ff0f",
   "metadata": {},
   "outputs": [],
   "source": [
    "eq2 = (1000 - a - b)**2"
   ]
  },
  {
   "cell_type": "code",
   "execution_count": 18,
   "id": "65da639a",
   "metadata": {},
   "outputs": [],
   "source": [
    "f = smp.Eq(eq1, eq2)"
   ]
  },
  {
   "cell_type": "code",
   "execution_count": 19,
   "id": "e7cacd78",
   "metadata": {},
   "outputs": [
    {
     "data": {
      "text/plain": [
       "[{a: 1000*(b - 500)/(b - 1000)}]"
      ]
     },
     "execution_count": 19,
     "metadata": {},
     "output_type": "execute_result"
    }
   ],
   "source": [
    "smp.solve(f)"
   ]
  },
  {
   "cell_type": "code",
   "execution_count": 37,
   "id": "c5830865",
   "metadata": {},
   "outputs": [],
   "source": [
    "result = []\n",
    "for num in range(1,999):\n",
    "    test = 1000 * (num - 500) / (num - 1000)\n",
    "    if test == int(test) and test > 0:\n",
    "        result.append(num)"
   ]
  },
  {
   "cell_type": "code",
   "execution_count": 38,
   "id": "b81905f8",
   "metadata": {},
   "outputs": [],
   "source": [
    "result = np.array(result)"
   ]
  },
  {
   "cell_type": "code",
   "execution_count": 42,
   "id": "4047d6f7",
   "metadata": {},
   "outputs": [],
   "source": [
    "result = np.append(result, 1000 - result.sum())"
   ]
  },
  {
   "cell_type": "code",
   "execution_count": 46,
   "id": "b51108ff",
   "metadata": {},
   "outputs": [
    {
     "data": {
      "text/plain": [
       "31875000"
      ]
     },
     "execution_count": 46,
     "metadata": {},
     "output_type": "execute_result"
    }
   ],
   "source": [
    "result.prod()"
   ]
  }
 ],
 "metadata": {
  "kernelspec": {
   "display_name": "Python 3 (ipykernel)",
   "language": "python",
   "name": "python3"
  },
  "language_info": {
   "codemirror_mode": {
    "name": "ipython",
    "version": 3
   },
   "file_extension": ".py",
   "mimetype": "text/x-python",
   "name": "python",
   "nbconvert_exporter": "python",
   "pygments_lexer": "ipython3",
   "version": "3.11.4"
  }
 },
 "nbformat": 4,
 "nbformat_minor": 5
}
