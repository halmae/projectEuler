{
 "cells": [
  {
   "cell_type": "markdown",
   "id": "1a589413",
   "metadata": {},
   "source": [
    "By listing the first six prime numbers: $2$, $3$, $5$, $7$, $11$, and $13$, we can see that the 6th prime is $13$. </br>\n",
    "What is the $10001$st prime number?"
   ]
  },
  {
   "cell_type": "code",
   "execution_count": 1,
   "id": "db5bbdf5",
   "metadata": {},
   "outputs": [],
   "source": [
    "def is_prime(I):\n",
    "    if I == 2: return True\n",
    "    elif I % 2 ==0 : return False\n",
    "    for i in range(3, int(I**0.5) + 1 , 2):\n",
    "        if I % i == 0: return False\n",
    "    return True"
   ]
  },
  {
   "cell_type": "code",
   "execution_count": 5,
   "id": "de36dc6e",
   "metadata": {},
   "outputs": [],
   "source": [
    "cnt = 0\n",
    "num = 1\n",
    "while cnt < 10001:\n",
    "    num += 1\n",
    "    if is_prime(num):\n",
    "        cnt +=1"
   ]
  },
  {
   "cell_type": "code",
   "execution_count": 7,
   "id": "9eb99f9a",
   "metadata": {},
   "outputs": [
    {
     "data": {
      "text/plain": [
       "104743"
      ]
     },
     "execution_count": 7,
     "metadata": {},
     "output_type": "execute_result"
    }
   ],
   "source": [
    "num"
   ]
  },
  {
   "cell_type": "code",
   "execution_count": null,
   "id": "88c29027",
   "metadata": {},
   "outputs": [],
   "source": []
  }
 ],
 "metadata": {
  "kernelspec": {
   "display_name": "Python 3 (ipykernel)",
   "language": "python",
   "name": "python3"
  },
  "language_info": {
   "codemirror_mode": {
    "name": "ipython",
    "version": 3
   },
   "file_extension": ".py",
   "mimetype": "text/x-python",
   "name": "python",
   "nbconvert_exporter": "python",
   "pygments_lexer": "ipython3",
   "version": "3.11.4"
  }
 },
 "nbformat": 4,
 "nbformat_minor": 5
}
