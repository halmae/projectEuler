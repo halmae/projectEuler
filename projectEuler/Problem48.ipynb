{
 "cells": [
  {
   "cell_type": "markdown",
   "id": "dbf85695",
   "metadata": {},
   "source": [
    "# Self Powers\n",
    "The Series, $1^1 + 2^2 + 3^2 + \\cdots + 10^{10} = 10405071317$. </br>\n",
    "\n",
    "Find the last ten digits of the series, $1^1 + 2^2 + 3^3 + \\cdots + 1000^{1000}$."
   ]
  },
  {
   "cell_type": "code",
   "execution_count": 1,
   "id": "881273bb",
   "metadata": {},
   "outputs": [],
   "source": [
    "def self_power(n):\n",
    "    return n ** n"
   ]
  },
  {
   "cell_type": "code",
   "execution_count": 6,
   "id": "f0db8911",
   "metadata": {},
   "outputs": [],
   "source": [
    "N = 1000\n",
    "result = 0\n",
    "\n",
    "for i in range(1, N + 1):\n",
    "    result += self_power(i)"
   ]
  },
  {
   "cell_type": "code",
   "execution_count": 8,
   "id": "f7cdb9e4",
   "metadata": {},
   "outputs": [
    {
     "data": {
      "text/plain": [
       "9110846700"
      ]
     },
     "execution_count": 8,
     "metadata": {},
     "output_type": "execute_result"
    }
   ],
   "source": [
    "result % 10**(10)"
   ]
  }
 ],
 "metadata": {
  "kernelspec": {
   "display_name": "Python 3 (ipykernel)",
   "language": "python",
   "name": "python3"
  },
  "language_info": {
   "codemirror_mode": {
    "name": "ipython",
    "version": 3
   },
   "file_extension": ".py",
   "mimetype": "text/x-python",
   "name": "python",
   "nbconvert_exporter": "python",
   "pygments_lexer": "ipython3",
   "version": "3.11.4"
  }
 },
 "nbformat": 4,
 "nbformat_minor": 5
}
