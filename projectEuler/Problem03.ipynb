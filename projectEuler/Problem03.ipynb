{
 "cells": [
  {
   "cell_type": "markdown",
   "id": "fe9eaab2",
   "metadata": {},
   "source": [
    "The prime factors of $13195$ are 5, 7, 13 and 29.</br>\n",
    "What is the largest prime factor of the number $600851475143$?"
   ]
  },
  {
   "cell_type": "code",
   "execution_count": 1,
   "id": "9a8003d2",
   "metadata": {},
   "outputs": [],
   "source": [
    "import numpy as np"
   ]
  },
  {
   "cell_type": "code",
   "execution_count": 2,
   "id": "89b927ff",
   "metadata": {},
   "outputs": [],
   "source": [
    "def sieve_of_eratosthenes(n):\n",
    "    is_prime = np.ones(n + 1, dtype = bool)\n",
    "    is_prime[0:2] = False    # 0 and 1 are not prime numbers\n",
    "    \n",
    "    for i in range(2, int(np.sqrt(n)) + 1):\n",
    "        if is_prime[i]:\n",
    "            is_prime[i*i : n+1 : i] = False    # i의 배수 제거\n",
    "    \n",
    "    return np.nonzero(is_prime)[0]"
   ]
  },
  {
   "cell_type": "code",
   "execution_count": 31,
   "id": "c4e1dc0c",
   "metadata": {},
   "outputs": [
    {
     "name": "stdout",
     "output_type": "stream",
     "text": [
      "[  2   3   5   7  11  13  17  19  23  29  31  37  41  43  47  53  59  61\n",
      "  67  71  73  79  83  89  97 101 103 107 109 113 127 131 137 139 149 151\n",
      " 157 163 167 173 179 181 191 193 197 199 211 223 227 229 233 239 241 251\n",
      " 257 263 269 271 277 281 283 293]\n"
     ]
    }
   ],
   "source": [
    "n = 300\n",
    "primes = sieve_of_eratosthenes(n)\n",
    "print(primes)"
   ]
  },
  {
   "cell_type": "code",
   "execution_count": 32,
   "id": "03bbd44f",
   "metadata": {},
   "outputs": [],
   "source": [
    "N = 600851475143"
   ]
  },
  {
   "cell_type": "code",
   "execution_count": 33,
   "id": "63243a83",
   "metadata": {},
   "outputs": [],
   "source": [
    "N_sample = 13195"
   ]
  },
  {
   "cell_type": "code",
   "execution_count": 34,
   "id": "f06d74c0",
   "metadata": {},
   "outputs": [],
   "source": [
    "factors = []\n",
    "\n",
    "for prime in primes:\n",
    "    if N % prime == 0:\n",
    "        factors.append(prime)\n",
    "        while N % prime == 0:\n",
    "            N = N / prime"
   ]
  },
  {
   "cell_type": "code",
   "execution_count": 57,
   "id": "3fdf2bef",
   "metadata": {},
   "outputs": [
    {
     "data": {
      "text/plain": [
       "8462696833.0"
      ]
     },
     "execution_count": 57,
     "metadata": {},
     "output_type": "execute_result"
    }
   ],
   "source": [
    "N"
   ]
  },
  {
   "cell_type": "code",
   "execution_count": 37,
   "id": "bb812394",
   "metadata": {},
   "outputs": [],
   "source": [
    "def find_largest_prime(N):\n",
    "    factors = []\n",
    "    \n",
    "    for prime in primes:\n",
    "        if N % prime == 0:\n",
    "            factors.append(prime)\n",
    "            while N % prime == 0:\n",
    "                N = N / prime\n",
    "                \n",
    "    return factors[-1]"
   ]
  },
  {
   "cell_type": "code",
   "execution_count": 21,
   "id": "a29d270a",
   "metadata": {},
   "outputs": [
    {
     "data": {
      "text/plain": [
       "71"
      ]
     },
     "execution_count": 21,
     "metadata": {},
     "output_type": "execute_result"
    }
   ],
   "source": [
    "find_largest_prime(N)"
   ]
  },
  {
   "cell_type": "code",
   "execution_count": 52,
   "id": "c9159519",
   "metadata": {},
   "outputs": [],
   "source": [
    "# ChatGPT\n",
    "def largest_prime_factor(number):\n",
    "    i = 2\n",
    "    while i * i <= number:\n",
    "        if number % i == 0:\n",
    "            number //= i\n",
    "        else:\n",
    "            i += 1\n",
    "    return number"
   ]
  },
  {
   "cell_type": "code",
   "execution_count": 53,
   "id": "59bd88f3",
   "metadata": {},
   "outputs": [],
   "source": [
    "given_number = 600851475143"
   ]
  },
  {
   "cell_type": "code",
   "execution_count": 54,
   "id": "89920d1b",
   "metadata": {},
   "outputs": [],
   "source": [
    "result = largest_prime_factor(given_number)"
   ]
  },
  {
   "cell_type": "code",
   "execution_count": 55,
   "id": "3726f421",
   "metadata": {},
   "outputs": [
    {
     "data": {
      "text/plain": [
       "6857"
      ]
     },
     "execution_count": 55,
     "metadata": {},
     "output_type": "execute_result"
    }
   ],
   "source": [
    "result"
   ]
  },
  {
   "cell_type": "code",
   "execution_count": 43,
   "id": "8bc4b329",
   "metadata": {},
   "outputs": [
    {
     "data": {
      "text/plain": [
       "1"
      ]
     },
     "execution_count": 43,
     "metadata": {},
     "output_type": "execute_result"
    }
   ],
   "source": [
    "7 % 2"
   ]
  }
 ],
 "metadata": {
  "kernelspec": {
   "display_name": "Python 3 (ipykernel)",
   "language": "python",
   "name": "python3"
  },
  "language_info": {
   "codemirror_mode": {
    "name": "ipython",
    "version": 3
   },
   "file_extension": ".py",
   "mimetype": "text/x-python",
   "name": "python",
   "nbconvert_exporter": "python",
   "pygments_lexer": "ipython3",
   "version": "3.11.4"
  }
 },
 "nbformat": 4,
 "nbformat_minor": 5
}
