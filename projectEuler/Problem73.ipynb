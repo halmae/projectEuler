{
 "cells": [
  {
   "cell_type": "markdown",
   "id": "997cf134",
   "metadata": {},
   "source": [
    "# Counting Fractions in a Range\n",
    "\n",
    "Consider the fraction, $\\frac{n}{d}$, where $n$ and $d$ are positive integers. If $n < d$ and $\\text{HCF}(n,d) = 1$, it is called a reduced proper fraction.\n",
    "\n",
    "If we list the set of reduced proper fractions for $d \\leq 8$ in ascending order of size, we get:\n",
    "\n",
    "$$\n",
    "\\begin{align}\n",
    "\\frac{1}{8}, \\frac{1}{7}, \\frac{1}{6}, \\frac{1}{5}, \\frac{1}{4}, \\frac{2}{7}, \\frac{1}{3}, \\mathbf{\\frac{3}{8}}, \\mathbf{\\frac{2}{5}}, \\mathbf{\\frac{3}{7}}, \\frac{1}{2}, \\frac{4}{7}, \\frac{3}{5}, \\frac{5}{8}, \\frac{2}{3}, \\frac{5}{7}, \\frac{3}{4}, \\frac{4}{5}, \\frac{5}{6}, \\frac{6}{7}, \\frac{7}{8}\n",
    "\\end{align}\n",
    "$$\n",
    "\n",
    "It can be seen that there are $3$ fractions between $\\frac{1}{3}$ and $\\frac{1}{2}$.\n",
    "\n",
    "How many fractions lie between $\\frac{1}{3}$ and $\\frac{1}{2}$ in the sorted set of reduced proper fractions for $d \\leq 12 \\, 000$?"
   ]
  },
  {
   "cell_type": "code",
   "execution_count": 1,
   "id": "6638b069",
   "metadata": {},
   "outputs": [],
   "source": [
    "import numpy as np"
   ]
  },
  {
   "cell_type": "code",
   "execution_count": 2,
   "id": "f6ac1f63",
   "metadata": {},
   "outputs": [],
   "source": [
    "def gcd(a, b):\n",
    "    if b == 0:\n",
    "        return a\n",
    "    return gcd(b, a % b)"
   ]
  },
  {
   "cell_type": "code",
   "execution_count": 74,
   "id": "598cd9b6",
   "metadata": {},
   "outputs": [],
   "source": [
    "def find_fractions2(denomi):\n",
    "    result = []\n",
    "    a = denomi // 3 + 1\n",
    "    \n",
    "    if a * 2 > denomi:\n",
    "        return None\n",
    "    else:\n",
    "        while a * 2 < denomi:\n",
    "            if gcd(a, denomi) == 1:\n",
    "                result.append(a)\n",
    "            a += 1\n",
    "        \n",
    "        return result"
   ]
  },
  {
   "cell_type": "code",
   "execution_count": 70,
   "id": "bc3b14a6",
   "metadata": {},
   "outputs": [],
   "source": [
    "from tqdm import tqdm"
   ]
  },
  {
   "cell_type": "code",
   "execution_count": 76,
   "id": "9cf1261b",
   "metadata": {},
   "outputs": [
    {
     "name": "stderr",
     "output_type": "stream",
     "text": [
      "100%|███████████████████████████████████████████████████████████| 11996/11996 [00:04<00:00, 2780.34it/s]\n"
     ]
    }
   ],
   "source": [
    "bound = 12000\n",
    "\n",
    "result = 0\n",
    "for denomi in tqdm(range(5, bound + 1)):\n",
    "    result += len(find_fractions2(denomi))"
   ]
  },
  {
   "cell_type": "code",
   "execution_count": 77,
   "id": "1af198b3",
   "metadata": {},
   "outputs": [
    {
     "data": {
      "text/plain": [
       "7295372"
      ]
     },
     "execution_count": 77,
     "metadata": {},
     "output_type": "execute_result"
    }
   ],
   "source": [
    "result"
   ]
  }
 ],
 "metadata": {
  "kernelspec": {
   "display_name": "Python 3 (ipykernel)",
   "language": "python",
   "name": "python3"
  },
  "language_info": {
   "codemirror_mode": {
    "name": "ipython",
    "version": 3
   },
   "file_extension": ".py",
   "mimetype": "text/x-python",
   "name": "python",
   "nbconvert_exporter": "python",
   "pygments_lexer": "ipython3",
   "version": "3.11.4"
  }
 },
 "nbformat": 4,
 "nbformat_minor": 5
}
