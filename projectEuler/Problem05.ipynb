{
 "cells": [
  {
   "cell_type": "markdown",
   "id": "009c7271",
   "metadata": {},
   "source": [
    "$2520$ is the smallest number that can be divided by each of the numbers from $1$ to $10$ without any remainder. </br>\n",
    "What is the smallest positive number that is **evenly divisible** by all of the numbers from $1$ to $20$?"
   ]
  },
  {
   "cell_type": "code",
   "execution_count": 25,
   "id": "01ea4123",
   "metadata": {},
   "outputs": [],
   "source": [
    "def is_prime(I):\n",
    "    if I == 2: return True\n",
    "    elif I % 2 == 0 : return False\n",
    "    for i in range(3, int(I**0.5) + 1, 2):\n",
    "        if I % i == 0: return False\n",
    "    return True"
   ]
  },
  {
   "cell_type": "code",
   "execution_count": 44,
   "id": "161f4625",
   "metadata": {},
   "outputs": [],
   "source": [
    "N = 20   # the range of numbers\n",
    "prime_num = []    # prime numbers in the range\n",
    "\n",
    "for num in range(2, N + 1):\n",
    "    if is_prime(num):\n",
    "        prime_num.append(num)\n",
    "        \n",
    "factors = []   # factors to obtain the smallest positive number\n",
    "for num in prime_num:\n",
    "    r = num\n",
    "    while r < N / num:\n",
    "        r *= num\n",
    "    factors.append(r)\n",
    "    \n",
    "result = 1\n",
    "for num in factors:\n",
    "    result *= num"
   ]
  },
  {
   "cell_type": "code",
   "execution_count": 46,
   "id": "6c640cc7",
   "metadata": {},
   "outputs": [
    {
     "data": {
      "text/plain": [
       "232792560"
      ]
     },
     "execution_count": 46,
     "metadata": {},
     "output_type": "execute_result"
    }
   ],
   "source": [
    "result"
   ]
  }
 ],
 "metadata": {
  "kernelspec": {
   "display_name": "Python 3 (ipykernel)",
   "language": "python",
   "name": "python3"
  },
  "language_info": {
   "codemirror_mode": {
    "name": "ipython",
    "version": 3
   },
   "file_extension": ".py",
   "mimetype": "text/x-python",
   "name": "python",
   "nbconvert_exporter": "python",
   "pygments_lexer": "ipython3",
   "version": "3.11.4"
  }
 },
 "nbformat": 4,
 "nbformat_minor": 5
}
