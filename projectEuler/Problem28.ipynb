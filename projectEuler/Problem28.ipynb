{
 "cells": [
  {
   "cell_type": "markdown",
   "id": "4a952fbd",
   "metadata": {},
   "source": [
    "Starting with the number $1$ and moving to the right in a clockwise direction a $5$ by $5$ spiral is formed as follows:\n",
    "$$\n",
    "\\begin{align}\n",
    "\\begin{array}{ccccc}\n",
    "21 & 22 & 23 & 24 & 25 \\\\\n",
    "20 & 7 & 8 & 9 & 10 \\\\\n",
    "19 & 6 & 1 & 2 & 11 \\\\\n",
    "18 & 5 & 4 & 3 & 12 \\\\\n",
    "17 & 16 & 15 & 14 & 13\n",
    "\\end{array}\n",
    "\\end{align}\n",
    "$$\n",
    "It can be verified that the sum of the numbers on the diagonals is $101$. </br>\n",
    "What is the sum of the numbers on the diagonals in a $1001$ by $1001$ spiral formed in the same way?"
   ]
  },
  {
   "cell_type": "code",
   "execution_count": 19,
   "id": "1908a1f3",
   "metadata": {},
   "outputs": [],
   "source": [
    "def diagonal_sum(N):\n",
    "    if N % 2 == 0:\n",
    "        return False\n",
    "    else:\n",
    "        result = 0\n",
    "        # / direction\n",
    "        for num in range(1, N, 2):\n",
    "            result += num ** 2\n",
    "            result += (num + 1) ** 2  + 1\n",
    "        result += N ** 2\n",
    "            \n",
    "        # \\ direction\n",
    "        diagonal_lst = [1]\n",
    "        for i in range(1, N):\n",
    "            diagonal_lst.append(diagonal_lst[i-1] + 2 * i)\n",
    "            result += diagonal_lst[i]\n",
    "        \n",
    "        return result"
   ]
  },
  {
   "cell_type": "code",
   "execution_count": 20,
   "id": "00be0807",
   "metadata": {},
   "outputs": [
    {
     "data": {
      "text/plain": [
       "101"
      ]
     },
     "execution_count": 20,
     "metadata": {},
     "output_type": "execute_result"
    }
   ],
   "source": [
    "diagonal_sum(5)"
   ]
  },
  {
   "cell_type": "code",
   "execution_count": 21,
   "id": "24bce159",
   "metadata": {},
   "outputs": [
    {
     "data": {
      "text/plain": [
       "669171001"
      ]
     },
     "execution_count": 21,
     "metadata": {},
     "output_type": "execute_result"
    }
   ],
   "source": [
    "diagonal_sum(1001)"
   ]
  }
 ],
 "metadata": {
  "kernelspec": {
   "display_name": "Python 3 (ipykernel)",
   "language": "python",
   "name": "python3"
  },
  "language_info": {
   "codemirror_mode": {
    "name": "ipython",
    "version": 3
   },
   "file_extension": ".py",
   "mimetype": "text/x-python",
   "name": "python",
   "nbconvert_exporter": "python",
   "pygments_lexer": "ipython3",
   "version": "3.11.4"
  }
 },
 "nbformat": 4,
 "nbformat_minor": 5
}
